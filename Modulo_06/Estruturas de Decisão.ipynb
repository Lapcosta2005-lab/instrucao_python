{
 "cells": [
  {
   "cell_type": "markdown",
   "id": "8535c274",
   "metadata": {
    "id": "8535c274"
   },
   "source": [
    "# Estruturas de decisão\n",
    "\n",
    "<span style=\"color: red;\"><b>Todos os exercícios são feitos partindo-se do pressuposto de que todas as entradas são dadas de forma correta. Casos limite não mencionados no enunciado não são abordados porque não fazem parte do exercício.</b></span>"
   ]
  },
  {
   "cell_type": "markdown",
   "id": "9c3d817e",
   "metadata": {
    "id": "9c3d817e"
   },
   "source": [
    "#### 1. Faça um Programa que peça dois números e imprima o maior deles."
   ]
  },
  {
   "cell_type": "code",
   "execution_count": null,
   "id": "ae45c028",
   "metadata": {
    "id": "ae45c028"
   },
   "outputs": [
    {
     "name": "stdout",
     "output_type": "stream",
     "text": [
      "Os dois números são semelhantes. Você digitou o número 70\n"
     ]
    }
   ],
   "source": [
    "num1 = int(input(\"Digite o primeiro número: \"))\n",
    "num2 = int(input(\"Digite o segundo número: \"))\n",
    "\n",
    "if num1 == num2:\n",
    "    print(\"Os dois números são iguais. Você digitou o número {}\".format(num1))\n",
    "else:\n",
    "    if num1 > num2:\n",
    "        print(\"O número maior é o {}\".format(num1))\n",
    "    else:\n",
    "        print(f\"O número maior é o {num2}\")"
   ]
  },
  {
   "cell_type": "markdown",
   "id": "ff510803",
   "metadata": {
    "id": "ff510803"
   },
   "source": [
    "#### 2. Faça um Programa que peça um valor e mostre na tela se o valor é positivo ou negativo."
   ]
  },
  {
   "cell_type": "code",
   "execution_count": 13,
   "id": "8952f58f",
   "metadata": {
    "id": "8952f58f"
   },
   "outputs": [
    {
     "name": "stdout",
     "output_type": "stream",
     "text": [
      "Você digitou zero\n"
     ]
    }
   ],
   "source": [
    "valor = int(input(\"Digite um número: \"))\n",
    "\n",
    "if valor  == 0:\n",
    "    print(\"Você digitou zero\")\n",
    "else:\n",
    "    if valor > 0:\n",
    "        print(\"O número digitado é positivo. Número: {}\".format(valor))\n",
    "    else:\n",
    "        print(f\"O número digitado é negativo. Número: {valor}\")"
   ]
  },
  {
   "cell_type": "markdown",
   "id": "6966546b",
   "metadata": {
    "id": "6966546b"
   },
   "source": [
    "#### 3. Faça um Programa que verifique o estado civil de uma pessoa. Se a letra digitada é \"C\" (Casado), \"S\" (Solteiro), \"D\" (Divorciado), \"V\" (Viúvo) ou \"O\" (outros). Conforme a letra escrita pelo usuário seu programa deve escrever o estado civil, exemplo:\n",
    "\n",
    "Usuário digita: C\n",
    "\n",
    "Seu programa deve responder:\n",
    "C - Casado"
   ]
  },
  {
   "cell_type": "code",
   "execution_count": 19,
   "id": "876a1e67",
   "metadata": {
    "id": "876a1e67"
   },
   "outputs": [
    {
     "name": "stdout",
     "output_type": "stream",
     "text": [
      "O = outros\n"
     ]
    }
   ],
   "source": [
    "estado_civil = input(\"Digite o seu estado civil (C - casado, S - solteiro, D - divorciado, V - viuvo, O - outros): \")\n",
    "\n",
    "if estado_civil == \"C\" or estado_civil == \"c\":\n",
    "    print(\"C - casado\")\n",
    "elif estado_civil == \"S\" or estado_civil == \"s\":\n",
    "    print(\"S - Solteiro\")\n",
    "elif estado_civil == \"D\" or estado_civil == \"d\":\n",
    "    print(\"D - divorciado\")\n",
    "elif estado_civil == \"V\" or estado_civil == \"v\":\n",
    "    print(\"V - viúvo\")\n",
    "else:\n",
    "    print(\"O = outros\")"
   ]
  },
  {
   "cell_type": "markdown",
   "id": "c122c0cf",
   "metadata": {
    "id": "c122c0cf"
   },
   "source": [
    "#### 4. Faça um Programa que verifique se o e-mail digitado faz parte dos e-mails de spam."
   ]
  },
  {
   "cell_type": "code",
   "execution_count": 22,
   "id": "59bed184",
   "metadata": {
    "id": "59bed184"
   },
   "outputs": [
    {
     "name": "stdout",
     "output_type": "stream",
     "text": [
      "Este é um email de spam\n"
     ]
    }
   ],
   "source": [
    "emails_spam = \"fulano@gmail.com,beltrano@gmail.com,ciclano@gmail.com\"\n",
    "\n",
    "email = input(\"Digite o eamil: \")\n",
    "\n",
    "if email in emails_spam:\n",
    "    print(\"Este é um email de spam\")\n",
    "else:\n",
    "    print(\"O email {} não é spam\".format(email))\n"
   ]
  },
  {
   "cell_type": "markdown",
   "id": "487ee073",
   "metadata": {
    "id": "487ee073"
   },
   "source": [
    "#### 5. Faça um programa para a leitura de duas notas parciais de um aluno. O programa deve calcular a média alcançada por aluno e apresentar:\n",
    "\n",
    "##### A mensagem \"Aprovado\", se a média alcançada for maior ou igual a sete;\n",
    "##### A mensagem \"Reprovado\", se a média for menor do que sete;\n",
    "##### A mensagem \"Aprovado com Distinção\", se a média for igual a dez."
   ]
  },
  {
   "cell_type": "code",
   "execution_count": 26,
   "id": "7f5c7096",
   "metadata": {
    "id": "7f5c7096"
   },
   "outputs": [
    {
     "name": "stdout",
     "output_type": "stream",
     "text": [
      "Infelizmente você foi reprovado com a média 5.0\n"
     ]
    }
   ],
   "source": [
    "nota1 = float(input(\"Digite a primeira nora do aluno: \"))\n",
    "nota2 = float(input(\"Digite a segunda nota do aluno: \"))\n",
    "\n",
    "media = (nota1 + nota2) / 2\n",
    "\n",
    "if media == 10:\n",
    "    print(\"Aprovado com distinção! Nota {}\".format(media))\n",
    "elif media >= 7:\n",
    "    print(\"Aprovado! Média {}\".format(media))\n",
    "else:\n",
    "    print(\"Infelizmente você foi reprovado com a média {}\".format(media))"
   ]
  },
  {
   "cell_type": "markdown",
   "id": "6dd3f171",
   "metadata": {
    "id": "6dd3f171"
   },
   "source": [
    "#### 6. Faça um Programa que leia o orçamento de 3 empresas e mostre o maior deles."
   ]
  },
  {
   "cell_type": "code",
   "execution_count": 33,
   "id": "51b591e5",
   "metadata": {
    "id": "51b591e5"
   },
   "outputs": [
    {
     "name": "stdout",
     "output_type": "stream",
     "text": [
      "Orçamento 1: 20.00\n"
     ]
    }
   ],
   "source": [
    "orcamento1 = float(input(\"Qual o valor do orçamento 1? \"))\n",
    "orcamento2 = float(input(\"Qual o valor do orçamento 2? \"))\n",
    "orcamento3 = float(input(\"Qual o valor do orçamento 3? \"))\n",
    "\n",
    "if orcamento1 > orcamento2:\n",
    "    if orcamento3 > orcamento1:\n",
    "        print(f\"Orçamento 3: {orcamento3:.2f}\")\n",
    "    else:\n",
    "        print(f\"Orçamento 1: {orcamento1:.2f}\")\n",
    "else:\n",
    "    if orcamento3 > orcamento2:\n",
    "        print(f\"Orçamento 3: {orcamento3:.2f}\")\n",
    "    else:\n",
    "        print(f\"Orçamento 2: {orcamento2:.2f}\")"
   ]
  },
  {
   "cell_type": "markdown",
   "id": "ce09ed1c",
   "metadata": {
    "id": "ce09ed1c"
   },
   "source": [
    "#### 7. Faça um Programa que leia três orçamentos e mostre o maior e o menor deles."
   ]
  },
  {
   "cell_type": "code",
   "execution_count": 37,
   "id": "249f1eb8",
   "metadata": {
    "id": "249f1eb8"
   },
   "outputs": [
    {
     "name": "stdout",
     "output_type": "stream",
     "text": [
      "O maior orçamento é o primeiro: 3000.0\n",
      "O menor orçamento é o segundo: 1000.0\n"
     ]
    }
   ],
   "source": [
    "orcamento1 = float(input(\"Digite o primeiro orçamento: \"))\n",
    "orcamento2 = float(input(\"Digite o segundo orçamento: \"))\n",
    "orcamento3 = float(input(\"Digite o terceiro orçamento: \"))\n",
    "\n",
    "if orcamento1 > orcamento2 and orcamento1 > orcamento3:\n",
    "    print(\"O maior orçamento é o primeiro: {}\".format(orcamento1))\n",
    "elif orcamento2 > orcamento1 and orcamento2 > orcamento3:\n",
    "    print(\"O maior orçamento é o segundo: {}\".format(orcamento2))\n",
    "else:\n",
    "    print(\"O maior orçamento é o terceiro: {}\".format(orcamento3))\n",
    "\n",
    "if orcamento1 < orcamento2 and orcamento1 < orcamento3:\n",
    "    print(\"O menor orçamento é o primeiro: {}\".format(orcamento1))\n",
    "elif orcamento2 < orcamento1 and orcamento2 < orcamento3:\n",
    "    print(\"O menor orçamento é o segundo: {}\".format(orcamento2))\n",
    "else:\n",
    "    print(\"O menor orçamento é o terceiro: {}\".format(orcamento3))"
   ]
  },
  {
   "cell_type": "markdown",
   "id": "7453d43a",
   "metadata": {
    "id": "7453d43a"
   },
   "source": [
    "#### 8. Faça um programa que pergunte o preço de três produtos e informe qual produto você deve comprar, sabendo que a decisão é sempre pelo mais barato."
   ]
  },
  {
   "cell_type": "code",
   "execution_count": 41,
   "id": "26a9503e",
   "metadata": {
    "id": "26a9503e"
   },
   "outputs": [
    {
     "name": "stdout",
     "output_type": "stream",
     "text": [
      "O produto a ser comprado é segundo, no valor de 1000.0\n"
     ]
    }
   ],
   "source": [
    "produto1 = float(input(\"Qual o valor do produto 1? \"))\n",
    "produto2 = float(input(\"Qual o valor do produto 2? \"))\n",
    "produto3 = float(input(\"Qual o valor do produto 3? \"))\n",
    "\n",
    "if produto1 < produto2 and produto1 < produto3:\n",
    "    print(\"O produto a ser comprado é primeiro, no valor de {}\".format(produto1))\n",
    "elif produto2 < produto1 and produto2 < produto3:\n",
    "    print(\"O produto a ser comprado é segundo, no valor de {}\".format(produto2))\n",
    "else:\n",
    "    print(\"O produto a ser comprado é terceiro, no valor de {}\".format(produto3))"
   ]
  },
  {
   "cell_type": "markdown",
   "id": "9ade258f",
   "metadata": {
    "id": "9ade258f"
   },
   "source": [
    "#### 9. Faça um Programa que leia três números e mostre-os em ordem decrescente."
   ]
  },
  {
   "cell_type": "code",
   "execution_count": 46,
   "id": "f194c39e",
   "metadata": {
    "id": "f194c39e"
   },
   "outputs": [
    {
     "ename": "ValueError",
     "evalue": "could not convert string to float: 'm'",
     "output_type": "error",
     "traceback": [
      "\u001b[31m---------------------------------------------------------------------------\u001b[39m",
      "\u001b[31mValueError\u001b[39m                                Traceback (most recent call last)",
      "\u001b[36mCell\u001b[39m\u001b[36m \u001b[39m\u001b[32mIn[46]\u001b[39m\u001b[32m, line 1\u001b[39m\n\u001b[32m----> \u001b[39m\u001b[32m1\u001b[39m num1 = \u001b[38;5;28;43mfloat\u001b[39;49m\u001b[43m(\u001b[49m\u001b[38;5;28;43minput\u001b[39;49m\u001b[43m(\u001b[49m\u001b[33;43m\"\u001b[39;49m\u001b[33;43mDigite o primeiro número: \u001b[39;49m\u001b[33;43m\"\u001b[39;49m\u001b[43m)\u001b[49m\u001b[43m)\u001b[49m\n\u001b[32m      2\u001b[39m num2 = \u001b[38;5;28mfloat\u001b[39m(\u001b[38;5;28minput\u001b[39m(\u001b[33m\"\u001b[39m\u001b[33mDigite o segundo número: \u001b[39m\u001b[33m\"\u001b[39m))\n\u001b[32m      3\u001b[39m num3 = \u001b[38;5;28mfloat\u001b[39m(\u001b[38;5;28minput\u001b[39m(\u001b[33m\"\u001b[39m\u001b[33mDigite o terceiro número: \u001b[39m\u001b[33m\"\u001b[39m))\n",
      "\u001b[31mValueError\u001b[39m: could not convert string to float: 'm'"
     ]
    }
   ],
   "source": [
    "num1 = float(input(\"Digite o primeiro número: \"))\n",
    "num2 = float(input(\"Digite o segundo número: \"))\n",
    "num3 = float(input(\"Digite o terceiro número: \"))\n",
    "\n",
    "if num1 > num2 and num1 > num3:\n",
    "    print(f\"O maior número é {num1}\")\n",
    "    if num2 > num3:\n",
    "        print(f\"O segundo número é {num2}\")\n",
    "        print(f\"o menor núemro é {num3}\")\n",
    "    else:\n",
    "        print(f\"O segundo número é {num3}\")\n",
    "        print(f\"o menor número é {num2}\")\n",
    "elif num2 > num1 and num2 > num3:\n",
    "    print(f\"O maior número é {num2}\")\n",
    "    if num1 > num3:\n",
    "        print(f\"O segundo número é {num1}\")\n",
    "        print(f\"o menor número é {num3}\")\n",
    "    else:\n",
    "        print(f\"O segundo número é {num3}\")\n",
    "        print(f\"o menor número é {num1}\")\n",
    "else:\n",
    "    print(f\"O maior número é {num3}\")\n",
    "    if num1 > num2:\n",
    "        print(f\"O segundo número é {num1}\")\n",
    "        print(f\"o menor número é {num2}\")\n",
    "    else:\n",
    "        print(f\"O segundo número é {num2}\")\n",
    "        print(f\"o menor número é {num1}\")\n",
    "        \n",
    "\n"
   ]
  },
  {
   "cell_type": "markdown",
   "id": "d06e2fe8",
   "metadata": {
    "id": "d06e2fe8"
   },
   "source": [
    "#### 10. Faça um Programa que pergunte em que turno você estuda. Peça para digitar M-matutino ou V-Vespertino ou N- Noturno. Imprima a mensagem \"Bom Dia!\", \"Boa Tarde!\" ou \"Boa Noite!\" ou \"Valor Inválido!\", conforme o caso."
   ]
  },
  {
   "cell_type": "code",
   "execution_count": 54,
   "id": "1eb36141",
   "metadata": {
    "id": "1eb36141"
   },
   "outputs": [
    {
     "name": "stdout",
     "output_type": "stream",
     "text": [
      "Valor inválido!\n"
     ]
    }
   ],
   "source": [
    "turno = input(\"Em qual turno você estuda (M  para matutino, V para vespertino e N para noturno)? \")\n",
    "\n",
    "if turno == \"M\" or turno == \"m\":\n",
    "    print(\"BOM DIA!\")\n",
    "elif turno == \"V\" or turno == \"v\":\n",
    "    print(\"BOA TARDE!\")\n",
    "elif turno == \"N\" or turno == \"n\":\n",
    "    print(\"BOA NOITE!\")\n",
    "else:\n",
    "    print(\"Valor inválido!\")"
   ]
  },
  {
   "cell_type": "markdown",
   "id": "4864b755",
   "metadata": {
    "id": "4864b755"
   },
   "source": [
    "#### 11. As Organizações Tabajara resolveram dar um aumento de salário aos seus colaboradores e lhe contraram para desenvolver o programa que calculará os reajustes. Faça um programa que recebe o salário de um colaborador e o reajuste segundo o seguinte critério, baseado no salário atual:\n",
    "\n",
    "##### salários até R\\\\$ 280,00 (incluindo) : aumento de 20% \n",
    "\n",
    "##### salários entre R\\\\$ 280,00 e R\\\\$ 700,00 : aumento de 15% \n",
    "\n",
    "##### salários entre R\\\\$ 700,00 e R\\\\$ 1500,00 : aumento de 10% \n",
    "\n",
    "##### salários de R\\\\$ 1500,00 em diante : aumento de 5% Após o aumento ser realizado, informe na tela: \n",
    "\n",
    "###### o salário antes do reajuste;\n",
    "\n",
    "###### o percentual de aumento aplicado;\n",
    "\n",
    "###### o valor do aumento;\n",
    "\n",
    "###### o novo salário, após o aumento.\n",
    "\n",
    "###### Obs: Não vamos nos preocupar tanto com a formatação dos números (nº de casas decimais, por exemplo, veremos isso no próximo módulo)"
   ]
  },
  {
   "cell_type": "code",
   "execution_count": null,
   "id": "f0d34916",
   "metadata": {
    "id": "f0d34916"
   },
   "outputs": [
    {
     "name": "stdout",
     "output_type": "stream",
     "text": [
      "Luiz teve aumento no salário de 15.00% --> R$75.00, indo de R$500.00 para R$575.00\n"
     ]
    }
   ],
   "source": [
    "nome = input(\"Qual o nome do funcionário? \")\n",
    "salario = float(input(f\"Qual o salário atual de {nome}? \"))\n",
    "\n",
    "a1 = 0.2\n",
    "a2 = 0.15\n",
    "a3 = 0.1\n",
    "a4 = 0.05\n",
    "\n",
    "if salario >= 1500:\n",
    "    perc = 0.05\n",
    "elif salario >= 700:\n",
    "    perc = 0.1\n",
    "elif salario >= 280:\n",
    "    perc = 0.15\n",
    "else:\n",
    "    perc = 0.2\n",
    "\n",
    "print(f\"{nome} teve aumento no salário de {perc:.2%} --> R${salario * perc:.2f}, indo de R${salario:.2f} para R${salario + salario * perc:.2f}\")\n"
   ]
  },
  {
   "cell_type": "markdown",
   "id": "b037f1e8",
   "metadata": {
    "id": "b037f1e8"
   },
   "source": [
    "#### 12 . Faça um programa para o cálculo de uma folha de pagamento, sabendo que os descontos são do Imposto de Renda, que depende do salário bruto (conforme tabela abaixo) e que o FGTS corresponde a 11% do Salário Bruto, mas não é descontado (é a empresa que deposita). O Salário Líquido corresponde ao Salário Bruto menos os descontos. O programa deverá pedir ao usuário o valor da sua hora e a quantidade de horas trabalhadas no mês.\n",
    "\n",
    "Desconto do IR:<br>\n",
    "Salário Bruto até 900 (inclusive) - isento<br>\n",
    "Salário Bruto até 1500 (inclusive) - desconto de 5%<br>\n",
    "Salário Bruto até 2500 (inclusive) - desconto de 10%<br>\n",
    "Salário Bruto acima de 2500 - desconto de 20%<br>\n",
    "Imprima na tela as informações, dispostas conforme o exemplo abaixo. No exemplo o valor da hora é 5 e a quantidade de hora é 220.\n",
    "\n",
    "Salário Bruto: (5 * 220)        : R\\\\$ 1100,00<br>\n",
    "(-) IR (5%)                     : R\\\\$   55,00<br>\n",
    "(-) INSS ( 10%)                 : R\\\\$  110,00<br>\n",
    "FGTS (11%)                      : R\\\\$  121,00<br>\n",
    "Total de descontos              : R\\\\$  165,00<br>\n",
    "Salário Liquido                 : R\\\\$  935,00<br>\n",
    "\n",
    "###### Obs: Não vamos nos preocupar tanto com a formatação dos números (nº de casas decimais, por exemplo, veremos isso no próximo módulo)"
   ]
  },
  {
   "cell_type": "code",
   "execution_count": 62,
   "id": "dad18bb2",
   "metadata": {
    "id": "dad18bb2"
   },
   "outputs": [
    {
     "name": "stdout",
     "output_type": "stream",
     "text": [
      "Boa tarde Luiz.\n",
      "Salario Bruto: R$18500.00\n",
      "imposto de Renda: R$3245.00\n",
      "INSS: R$1850.00\n",
      "FGTS: R$2035.00\n",
      "TOTAL DE DESCONTOS: R$5095.00\n",
      "SALÁRIO LÍQUIDO: R$13405.00\n"
     ]
    }
   ],
   "source": [
    "nome = input(\"Qual o seu nome? \")\n",
    "hora = float(input(\"O valor da hora trabalhada é de: \"))\n",
    "horas_mes = float(input(\"Quantas horas você trabalhou no mês? \"))\n",
    "\n",
    "salario = hora * horas_mes\n",
    "\n",
    "if salario >= 7500:\n",
    "    ir = (salario - 7500) * 0.27 + (7500 - 5000) * 0.11\n",
    "elif salario >= 5000:\n",
    "    ir = (salario - 5000) * 0.11\n",
    "else:\n",
    "    ir = 0\n",
    "\n",
    "\n",
    "inss = salario * 0.1\n",
    "fgts = salario * 0.11\n",
    "total_descontos = ir + inss\n",
    "salario_liq = salario - total_descontos\n",
    "\n",
    "print(f\"Boa tarde {nome}.\")\n",
    "print(f\"Salario Bruto: R${salario:.2f}\")\n",
    "print(f\"imposto de Renda: R${ir:.2f}\")\n",
    "print(f\"INSS: R${inss:.2f}\")\n",
    "print(f\"FGTS: R${fgts:.2f}\")\n",
    "print(f\"TOTAL DE DESCONTOS: R${total_descontos:.2f}\")\n",
    "print(f\"SALÁRIO LÍQUIDO: R${salario_liq:.2f}\")"
   ]
  },
  {
   "cell_type": "markdown",
   "id": "814fc211",
   "metadata": {
    "id": "814fc211"
   },
   "source": [
    "#### 13. Faça um Programa que leia um número e exiba o dia correspondente da semana. (1-Domingo, 2- Segunda, etc.), se digitar outro valor deve aparecer valor inválido."
   ]
  },
  {
   "cell_type": "code",
   "execution_count": 64,
   "id": "f2c2b8d8",
   "metadata": {
    "id": "f2c2b8d8"
   },
   "outputs": [
    {
     "name": "stdout",
     "output_type": "stream",
     "text": [
      "Hoje é Sexta\n"
     ]
    }
   ],
   "source": [
    "num = int(input(\"Digite o número da semana (De 1 a 7): \"))\n",
    "if num == 1:\n",
    "    d = \"Domingo\"\n",
    "elif num == 2:\n",
    "    d = \"Segunda\"\n",
    "elif num == 3:\n",
    "    d = \"Terça\"\n",
    "elif num == 4:\n",
    "    d = \"Quarta\"\n",
    "elif num == 5:\n",
    "    d = \"Quinta\"\n",
    "elif num == 6:\n",
    "    d = \"Sexta\"\n",
    "elif num == 7:\n",
    "    d = \"Sábado\"\n",
    "else:\n",
    "    print(\"Você digitou errado!\")\n",
    "print(\"Hoje é {}\".format(d))\n",
    "\n",
    "\n",
    "          "
   ]
  },
  {
   "cell_type": "markdown",
   "id": "6e5f461e",
   "metadata": {
    "id": "6e5f461e"
   },
   "source": [
    "#### 14. Faça um programa que lê as duas notas parciais obtidas por um aluno numa disciplina ao longo de um semestre, e calcule a sua média. Em seguida, mostre qual conceito o aluno teve. A atribuição de conceitos obedece à tabela abaixo:\n",
    "<pre>\n",
    "Média de Aproveitamento  Conceito\n",
    "Entre 9.0 e 10.0        A\n",
    "Entre 7.5 e 9.0         B\n",
    "Entre 6.0 e 7.5         C\n",
    "Entre 4.0 e 6.0         D\n",
    "Entre 4.0 e zero        E\n",
    "</pre>"
   ]
  },
  {
   "cell_type": "code",
   "execution_count": 69,
   "id": "29721a43",
   "metadata": {
    "id": "29721a43"
   },
   "outputs": [
    {
     "name": "stdout",
     "output_type": "stream",
     "text": [
      "O aluno teve conceito 'A'\n"
     ]
    }
   ],
   "source": [
    "nota1 = float(input(\"Qual a nota do primeiro semestre? \"))\n",
    "nota2 = float(input(\"Qual a nota do segundpo semestre? \"))\n",
    "\n",
    "media = (nota1 + nota2) / 2\n",
    "\n",
    "if media >= 9:\n",
    "    conceito = \"A\"\n",
    "elif media >= 7.5:\n",
    "    conceito = \"B\"\n",
    "elif media >= 6:\n",
    "    conceito = \"C\"\n",
    "elif media >= 4:\n",
    "    conceito = \"D\"\n",
    "else:\n",
    "    conceito = \"E\"\n",
    "print(f\"O aluno teve conceito '{conceito}'\")\n"
   ]
  },
  {
   "cell_type": "markdown",
   "id": "e6b3bcaf",
   "metadata": {
    "id": "e6b3bcaf"
   },
   "source": [
    "#### 15. Você está construindo um calendário para controlar dias de trabalho a pedido do RH. Nessa construção, você vai precisar definir quais anos são bissextos e quais não são, para montar o calendário de forma correta. Faça um Programa que peça um número correspondente a um determinado ano e em seguida informe se este ano é ou não bissexto.\n",
    "<pre>\n",
    "Dica para determinar se um ano é bissexto: \n",
    "- São bissextos todos os anos múltiplos de 400, p.ex.: 1600, 2000, 2400, 2800...\n",
    "- São bissextos todos os múltiplos de 4, exceto se for múltiplo de 100 mas não de 400, \n",
    "p.ex.: 1996, 2000, 2004, 2008, 2012, 2016, 2020, 2024, 2028...\n",
    "- Não são bissextos todos os demais anos.<br>\n",
    "ex1: 2004 é múltiplo de 4, mas não é múltiplo de 100, então é bissexto.\n",
    "ex2: 2000 é múltiplo de 4, mas é múltiplo de 100, só que também é multiplo de 400, então é bissexto (porque todo ano múltiplo de 400 é bissexto, independente do resto).\n",
    "ex3: 1900 é múltiplo de 4, é múltiplo de 100, mas não é múltiplo de 400, então não é bissexto\n",
    "\n",
    "</pre>\n",
    "\n",
    "Dica: lembre que: numero % 4 é o resto da divisão do número por 4, ex: 10 % 3 = 1 (já que 10/3 = 3 e resta 1)"
   ]
  },
  {
   "cell_type": "code",
   "execution_count": null,
   "id": "56af223f",
   "metadata": {
    "id": "56af223f"
   },
   "outputs": [
    {
     "name": "stdout",
     "output_type": "stream",
     "text": [
      "O ano não é bissexto\n"
     ]
    }
   ],
   "source": [
    "# Calendário para contorlar dias de trabalho\n",
    "# Anos bissextos e anos não bissextos\n",
    "\n",
    "ano = int(input('Informe o ano: '))\n",
    "\n",
    "if (ano % 4 == 0 and ano % 100 != 0) or ano % 400 == 0:\n",
    "    print('O ano é bissexto.')\n",
    "else:\n",
    "    print('Não é um ano bissexto.')\n"
   ]
  },
  {
   "cell_type": "markdown",
   "id": "9fe532c8",
   "metadata": {
    "id": "9fe532c8"
   },
   "source": [
    "#### 16. Faça um Programa para leitura de três notas parciais de um aluno. O programa deve calcular a média alcançada por aluno e apresentar:\n",
    "<pre>\n",
    "A mensagem \"Aprovado\", se a média for maior ou igual a 7, com a respectiva média alcançada;\n",
    "A mensagem \"Reprovado\", se a média for menor do que 7, com a respectiva média alcançada;\n",
    "A mensagem \"Aprovado com Distinção\", se a média for igual a 10.\n",
    "</pre>"
   ]
  },
  {
   "cell_type": "code",
   "execution_count": null,
   "id": "1a56e99f",
   "metadata": {
    "id": "1a56e99f"
   },
   "outputs": [],
   "source": []
  },
  {
   "cell_type": "markdown",
   "id": "d544412e",
   "metadata": {
    "id": "d544412e"
   },
   "source": [
    "#### 17. João Papo-de-Pescador, homem de bem, comprou um microcomputador para controlar o rendimento diário de seu trabalho. Toda vez que ele traz um peso de peixes maior que o estabelecido pelo regulamento de pesca do estado de São Paulo (50 quilos) deve pagar uma multa de R$ 4,00 por quilo excedente. João precisa que você faça um programa que leia a variável peso (peso de peixes) e calcule o excesso. Gravar na variável excesso a quantidade de quilos além do limite e na variável multa o valor da multa que João deverá pagar. Imprima os dados do programa com as mensagens adequadas."
   ]
  },
  {
   "cell_type": "code",
   "execution_count": 82,
   "id": "971ed027",
   "metadata": {
    "id": "971ed027"
   },
   "outputs": [
    {
     "name": "stdout",
     "output_type": "stream",
     "text": [
      "Parabéns, você pescou dentro dos limites com 30.0Kg, ainda com 20.0Kg de limite\n"
     ]
    }
   ],
   "source": [
    "# multa 4 * (peso - 50)\n",
    "# Pedir a quantidade de peixes em Kg\n",
    "qtde = float(input(\"Digite a quantidade de peixes em Kg: \"))\n",
    "\n",
    "# Calcular o excesso\n",
    "excesso = qtde - 50\n",
    "\n",
    "# Calcular a multa\n",
    "multa = 4 * excesso\n",
    "\n",
    "if qtde > 50:\n",
    "    print(f\"Você pescou {excesso}kg a mais de peixes. Sua multa é de R${multa:.2f}\")\n",
    "else:\n",
    "    print(f\"Parabéns, você pescou dentro dos limites com {qtde}Kg, ainda com {50 - qtde}Kg de limite\")\n"
   ]
  },
  {
   "cell_type": "markdown",
   "id": "0e5256e0",
   "metadata": {
    "id": "0e5256e0"
   },
   "source": [
    "#### 18. Faça um Programa para um caixa eletrônico. O programa deverá perguntar ao usuário a valor do saque e depois informar quantas notas de cada valor serão fornecidas. As notas disponíveis serão as de 1, 5, 10, 50 e 100 reais. O valor mínimo é de 10 reais e o máximo de 600 reais. O programa não deve se preocupar com a quantidade de notas existentes na máquina.\n",
    "<pre>\n",
    "Exemplo 1: Para sacar a quantia de 256 reais, o programa fornece duas notas de 100, uma nota de 50, uma nota de 5 e uma nota de 1;\n",
    "Exemplo 2: Para sacar a quantia de 399 reais, o programa fornece três notas de 100, uma nota de 50, quatro notas de 10, uma nota de 5 e quatro notas de 1.\n",
    "</pre>\n",
    "\n",
    "Dica1: numero // 10 vai te dar como resposta a parte inteira da divisão do número por 10.<br>\n",
    "Dica2: numero % 10 vai te dar o resto da divisão do número por 10."
   ]
  },
  {
   "cell_type": "code",
   "execution_count": 98,
   "id": "9b4244c7",
   "metadata": {
    "id": "9b4244c7"
   },
   "outputs": [
    {
     "name": "stdout",
     "output_type": "stream",
     "text": [
      "São necessárias:\n",
      "5 notas de 100\n",
      "1 notas de 50\n",
      "-1 notas de 5\n",
      "1 notas de 1\n"
     ]
    }
   ],
   "source": [
    "# Perguntar o valor do saque (Valor mínimo de 10 e máximo de 600)\n",
    "valor = int(input(\"Quantos reais você quer sacar? (Entre 10 e 600): \"))\n",
    "\n",
    "if 10 <= valor <= 600:\n",
    "    print('São necessárias:')\n",
    "    if valor >= 100:\n",
    "        n100 = valor // 100\n",
    "        print(n100, 'notas de 100')\n",
    "    if valor % 100 >= 50:\n",
    "        n50 = (valor - 100*n100) // 50\n",
    "        print(n50, 'notas de 50')\n",
    "    if valor % 50 >= 10:\n",
    "        n10 = (valor - 100*n100 - 50*n50) // 10\n",
    "        print(n10, 'notas de 10')\n",
    "    if valor % 10 >= 5:\n",
    "        n5 = (valor - 100*n100 - 50*n50 - 10*n10) // 5\n",
    "        print(n5, 'notas de 5')\n",
    "    if valor % 5 >= 1:\n",
    "        n1 = valor - 100*n100 - 50*n50 - 10*n10 - 5*n5\n",
    "        print(n1, 'notas de 1')\n",
    "else:\n",
    "    print('')    \n",
    "            \n",
    "\n",
    "\n"
   ]
  },
  {
   "cell_type": "markdown",
   "id": "cba47494",
   "metadata": {
    "id": "cba47494"
   },
   "source": [
    "#### 19. Faça um programa que faça 5 perguntas para uma pessoa sobre um crime. As perguntas são:\n",
    "<pre>\n",
    "\"Telefonou para a vítima?\"\n",
    "\"Esteve no local do crime?\"\n",
    "\"Mora perto da vítima?\"\n",
    "\"Devia para a vítima?\"\n",
    "\"Já trabalhou com a vítima?\" \n",
    "O programa deve no final emitir uma classificação sobre a participação da pessoa no crime. Se a pessoa responder positivamente \n",
    "a 2 questões ela deve ser classificada como \"Suspeita\", entre 3 e 4 como \"Cúmplice\" e 5 como \"Assassino\". Caso contrário, ele será classificado como \"Inocente\".\n",
    "</pre>"
   ]
  },
  {
   "cell_type": "code",
   "execution_count": 103,
   "id": "5fdf9b88",
   "metadata": {
    "id": "5fdf9b88"
   },
   "outputs": [
    {
     "name": "stdout",
     "output_type": "stream",
     "text": [
      "Inocente\n"
     ]
    }
   ],
   "source": [
    "p1 = 0\n",
    "p2 = 0\n",
    "p3 = 0\n",
    "p4 = 0\n",
    "p5 = 0\n",
    "\n",
    "telefone = input(\"Cocê telefonou para a vítima (sim ou não)? \").lower()\n",
    "if telefone == \"sim\":\n",
    "    p1 = 1\n",
    "local = input(\"Você esteve no local do crime (sim ou não)? \").lower()\n",
    "if local == \"sim\":\n",
    "    p2 = 1\n",
    "moradia = input(\"Você mora perto da vítima (sim ou não)? \").lower()\n",
    "if moradia == \"sim\":\n",
    "    p3 = 1\n",
    "devedor = input(\"Você devia para a vítima (sim ou não)? \").lower()\n",
    "if devedor == \"sim\":\n",
    "    p4 = 1\n",
    "trabalho = input(\"Você já trabalhou com a vítima (sim ou não)? \").lower()\n",
    "if trabalho == \"sim\":\n",
    "    p5 = 1\n",
    "\n",
    "if (p1 + p2 + p3 + p4 + p5) == 5:\n",
    "    print(\"Assassino\")\n",
    "elif (p1 + p2 + p3 + p4 + p5) >= 3:\n",
    "    print(\"Cúmprice\")\n",
    "elif (p1 + p2 + p3 + p4 + p5) == 2:\n",
    "    print(\"Suspeito\")\n",
    "else:\n",
    "    print(\"Inocente\")\n",
    "\n",
    "\n"
   ]
  },
  {
   "cell_type": "markdown",
   "id": "18901e98",
   "metadata": {
    "id": "18901e98"
   },
   "source": [
    "#### 20. Um posto está vendendo combustíveis com a seguinte tabela de descontos:\n",
    "<pre>\n",
    "Álcool:\n",
    "até 20 litros, desconto de 3% por litro\n",
    "acima de 20 litros, desconto de 5% por litro\n",
    "Gasolina:\n",
    "até 20 litros, desconto de 4% por litro\n",
    "acima de 20 litros, desconto de 6% por litro\n",
    "\n",
    "Escreva um algoritmo que leia o número de litros vendidos, o tipo de combustível (codificado da seguinte forma: \n",
    "A-álcool, G-gasolina), calcule e imprima o valor a ser pago pelo cliente sabendo-se que o preço do litro \n",
    "da gasolina é R$ 2,50 o preço do litro do álcool é R$ 1,90.\n",
    "</pre>"
   ]
  },
  {
   "cell_type": "code",
   "execution_count": 112,
   "id": "a1fd8c38",
   "metadata": {
    "id": "a1fd8c38"
   },
   "outputs": [
    {
     "name": "stdout",
     "output_type": "stream",
     "text": [
      "Foram abastecidos 10.0lt de Álcool, totalizando R$18.70 após o desconto de R$0.30\n"
     ]
    }
   ],
   "source": [
    "tipo = input(\"Qual o combustível foi colocado (A para álcool / G para gasolina)? \").lower()\n",
    "\n",
    "# Solicitar a quantidade de litros UMA VEZ e ANTES das condições\n",
    "qtde = float(input(\"Quantos litros o cliente colocou? \"))\n",
    "\n",
    "if tipo == \"a\":\n",
    "    comb = \"Álcool\"\n",
    "    if qtde >= 20:\n",
    "        desc = 0.05\n",
    "        preco = 1.9\n",
    "    else:\n",
    "        desc = 0.03\n",
    "        preco = 1.9\n",
    "elif tipo == \"g\":\n",
    "    comb = \"Gasolina\"\n",
    "    if qtde >= 20:\n",
    "        desc = 0.06\n",
    "        preco = 2.5\n",
    "    else:\n",
    "        desc = 0.04\n",
    "        preco = 2.5\n",
    "else:\n",
    "    print(\"Tipo de combustível inválido.\") #Tratamento de erro\n",
    "    exit()  # Encerra o programa\n",
    "\n",
    "desconto = qtde * desc\n",
    "custo = qtde * preco - desconto\n",
    "\n",
    "print(f\"Foram abastecidos {qtde:.1f}lt de {comb}, totalizando R${custo:.2f} após o desconto de R${desconto:.2f}\")"
   ]
  },
  {
   "cell_type": "markdown",
   "id": "be0f8f32",
   "metadata": {
    "id": "be0f8f32"
   },
   "source": [
    "#### 21. Uma fruteira está vendendo frutas com a seguinte tabela de preços:\n",
    "<pre>\n",
    "                      Até 5 Kg           Acima de 5 Kg\n",
    "Morango         R$ 2,50 por Kg          R$ 2,20 por Kg\n",
    "Maçã            R$ 1,80 por Kg          R$ 1,50 por Kg\n",
    "Se o cliente comprar mais de 8 Kg em frutas ou o valor total da compra ultrapassar R$ 25,00, receberá ainda um desconto de 10% sobre este total. \n",
    "Escreva um algoritmo para ler a quantidade (em Kg) de morangos e a quantidade (em Kg) de maças adquiridas e escreva o valor a ser pago pelo cliente.\n",
    "</pre>"
   ]
  },
  {
   "cell_type": "code",
   "execution_count": 121,
   "id": "35c47c8e",
   "metadata": {
    "id": "35c47c8e"
   },
   "outputs": [
    {
     "name": "stdout",
     "output_type": "stream",
     "text": [
      "Você comprou 3.0kg de morango e 3.0kg de maçã, totalizando R$12.90.\n"
     ]
    }
   ],
   "source": [
    "morango = float(input(\"Quantos kg de morango você adquiriu? \"))\n",
    "maca = float(input(\"Quantos kg de maçã você adquiriu? \"))\n",
    "\n",
    "if morango < 5:\n",
    "    custo_morango = morango * 2.5\n",
    "else:\n",
    "    custo_morango = morango * 2.2\n",
    "\n",
    "if maca < 5:\n",
    "    custo_maca = maca * 1.8\n",
    "else:\n",
    "    custo_maca = maca * 1.5\n",
    "\n",
    "total_peso = morango + maca\n",
    "total_custo = custo_morango + custo_maca\n",
    "\n",
    "if total_peso >= 8 or total_custo >= 25:\n",
    "    total_custo = total_custo * 0.9\n",
    "else:\n",
    "    total_custo = total_custo\n",
    "\n",
    "print(f\"Você comprou {morango}kg de morango e {maca}kg de maçã, totalizando R${total_custo:.2f}.\")\n"
   ]
  },
  {
   "cell_type": "markdown",
   "id": "4dbd53ed",
   "metadata": {
    "id": "4dbd53ed"
   },
   "source": [
    "#### 22. O Hipermercado Tabajara está com uma promoção de carnes que é imperdível. Confira:\n",
    "<pre>\n",
    "                      Até 5 Kg           Acima de 5 Kg\n",
    "File Duplo      R$ 4,90 por Kg          R$ 5,80 por Kg\n",
    "Alcatra         R$ 5,90 por Kg          R$ 6,80 por Kg\n",
    "Picanha         R$ 6,90 por Kg          R$ 7,80 por Kg\n",
    "Para atender a todos os clientes, cada cliente poderá levar apenas um dos tipos de carne da promoção, \n",
    "porém não há limites para a quantidade de carne por cliente. Se compra for feita no cartão Tabajara o \n",
    "cliente receberá ainda um desconto de 5% sobre o total da compra. Escreva um programa que peça o tipo \n",
    "e a quantidade de carne comprada pelo usuário e gere um cupom fiscal, contendo as informações da compra: \n",
    "tipo e quantidade de carne, preço total, tipo de pagamento, valor do desconto e valor a pagar.\n",
    "</pre>"
   ]
  },
  {
   "cell_type": "code",
   "execution_count": 124,
   "id": "15a77357",
   "metadata": {
    "id": "15a77357"
   },
   "outputs": [
    {
     "name": "stdout",
     "output_type": "stream",
     "text": [
      "Tipo de carne: alcatra\n",
      "Quantidade de alcatra: 45.0Kg\n",
      "O valor total é de R$306.00\n",
      "O desconto é de R$15.30\n",
      "O preço final é de R$290.70\n",
      "Pago com Cartão Tabajara\n"
     ]
    }
   ],
   "source": [
    "carne = int(input(\"Qual carne você deseja comprar (Digite 1 - Filé / 2 - Alcatra / 3 - Picanha)? \"))\n",
    "qtde = float(input(\"Quantos kg de carne você deseja? \"))\n",
    "pgt = input(\"A cpmpra é com cartão Tbajara (S para SIM / N para NÃO)\").lower()\n",
    "\n",
    "if carne == 1:\n",
    "    carne_nome = \"filé\"\n",
    "    if qtde <= 5:\n",
    "        preco = 4.9\n",
    "    else:\n",
    "        preco = 5.8\n",
    "elif carne == 2:\n",
    "    carne_nome = \"alcatra\"\n",
    "    if qtde <= 5:\n",
    "        preco = 5.9\n",
    "    else:\n",
    "        preco = 6.8\n",
    "elif carne == 3:\n",
    "    carne_nome = \"picanha\"\n",
    "    if qtde <= 5:\n",
    "        preco = 6.9\n",
    "    else:\n",
    "        preco = 7.8\n",
    "else:\n",
    "    print(\"Você deve selecionar o tipo de carne: Digite 1 - Filé / 2 - Alcatra / 3 - Picanha\")\n",
    "\n",
    "\n",
    "if pgt == \"s\":\n",
    "    cartao = \"Cartão Tabajara\"\n",
    "    desc = 0.05\n",
    "elif pgt == \"n\":\n",
    "    cartao = \"dinheiro\"\n",
    "    desc = 0\n",
    "else:\n",
    "    print(\"Você deve responder a forma de pagamento\")\n",
    "\n",
    "desconto = (preco * qtde) * desc\n",
    "custo = preco * qtde\n",
    "custo_final = custo - desconto\n",
    "\n",
    "print(f\"Tipo de carne: {carne_nome}\")\n",
    "print(f\"Quantidade de {carne_nome}: {qtde}Kg\")\n",
    "print(f\"O valor total é de R${custo:.2f}\")\n",
    "print(f\"O desconto é de R${desconto:.2f}\")\n",
    "print(f\"O preço final é de R${custo_final:.2f}\")\n",
    "print(f\"Pago com {cartao}\")\n"
   ]
  },
  {
   "cell_type": "markdown",
   "id": "b949545b",
   "metadata": {
    "id": "b949545b"
   },
   "source": [
    "#### 23. Faça um Programa para uma loja de tintas. O programa deverá pedir o tamanho em metros quadrados da área a ser pintada. Considere que a cobertura da tinta é de 1 litro para cada 6 metros quadrados e que a tinta é vendida em latas de 18 litros, que custam R\\\\$ 80,00 ou em galões de 3,6 litros, que custam R\\\\$ 25,00."
   ]
  },
  {
   "cell_type": "code",
   "execution_count": null,
   "id": "b11185b0",
   "metadata": {
    "id": "b11185b0"
   },
   "outputs": [],
   "source": [
    "area = float(input('Informe o tamanho da área a ser pintada em m²: '))\n",
    "litros_tinta = area / 6"
   ]
  },
  {
   "cell_type": "markdown",
   "id": "b3d0598f",
   "metadata": {
    "id": "b3d0598f"
   },
   "source": [
    "##### Informe ao usuário as quantidades de tinta a serem compradas e os respectivos preços em 3 situações.\n",
    "\n",
    "Dica: lembre dos operadores // e % mostrados em exercícios anteriores<br>\n",
    "Dica1: numero // 10 vai te dar como resposta a parte inteira da divisão do número por 10.<br>\n",
    "Dica2: numero % 10 vai te dar o resto da divisão do número por 10.\n",
    "\n",
    "##### 1. Comprar apenas latas de 18 litros: (apenas latas inteiras)"
   ]
  },
  {
   "cell_type": "code",
   "execution_count": null,
   "id": "ed599d53",
   "metadata": {
    "id": "ed599d53"
   },
   "outputs": [],
   "source": []
  },
  {
   "cell_type": "markdown",
   "id": "ab03bc10",
   "metadata": {
    "id": "ab03bc10"
   },
   "source": [
    "##### 2. Comprar apenas galões de 3,6 litros: (apenas galoes inteiros)"
   ]
  },
  {
   "cell_type": "code",
   "execution_count": null,
   "id": "542f4a77",
   "metadata": {
    "id": "542f4a77"
   },
   "outputs": [],
   "source": []
  },
  {
   "cell_type": "markdown",
   "id": "8Jbw7RupH9Nc",
   "metadata": {
    "id": "8Jbw7RupH9Nc"
   },
   "source": [
    "##### 3. Misturar latas e galões, de forma que o desperdício de tinta seja menor. Acrescente 10% de folga e sempre arredonde os valores para cima, isto é, considere latas cheias."
   ]
  },
  {
   "cell_type": "markdown",
   "id": "93d4157b",
   "metadata": {
    "id": "93d4157b"
   },
   "source": [
    "O custo da lata é 80/18 = 4,44 R\\\\$/L\n",
    "\n",
    "O custo do galão é 25/3,6 = 6,94 R\\\\$/L\n",
    "\n",
    "A lata é mais econômica, então todas as latas inteiras que pudermos usar devemos comprar em latas. Se ficar faltando alguma coisa para completar devemos avaliar se é melhor comprar latas ou galões. Exemplo:\n",
    "\n",
    "Se queremos comprar 90 litros. 5 latas dão exatamente 90 litros. Então devemos comprar tudo em latas.\n",
    "\n",
    "Se queremos comprar 95 litros. 5 latas dão exatamente 90 litros. Então devemos comprar pelo menos 5 latas e avaliar o que falta, se estes últimos 5 litros valem mais apenas em latas ou galões.\n",
    "\n",
    "Para os 5 litros faltantes precisamos de 2 galões que custam 50 reais no total. Ou de uma lata que custa 80 reais no total. Portanto, neste caso vale mais a pena usar 2 galões.\n",
    "\n",
    "Se queremos comprar 107 litros. 5 latas dão exatamente 90 litros. Então devemos comprar pelo menos 5 latas e avaliar o que falta, se estes últimos 5 litros valem mais apenas em latas ou galões.\n",
    "\n",
    "Para os 17 litros faltantes precisamos de 5 galões que custam 125 reais no total. Ou de uma lata que custa 80 reais no total. Portanto, neste caso vale mais a pena usar uma lata.\n",
    "\n",
    "3 galões custam 75 reais, 4 galões custam 100 reais. Então, se for possível completar com até 3 galões escolhe-se galões. Qualquer quantidade maior que 3 galões, usa-se latas.\n",
    "\n",
    "Podemos ir ao exercício:"
   ]
  },
  {
   "cell_type": "code",
   "execution_count": null,
   "id": "01d104b6",
   "metadata": {
    "id": "01d104b6"
   },
   "outputs": [],
   "source": []
  }
 ],
 "metadata": {
  "colab": {
   "provenance": []
  },
  "kernelspec": {
   "display_name": "Python 3",
   "language": "python",
   "name": "python3"
  },
  "language_info": {
   "codemirror_mode": {
    "name": "ipython",
    "version": 3
   },
   "file_extension": ".py",
   "mimetype": "text/x-python",
   "name": "python",
   "nbconvert_exporter": "python",
   "pygments_lexer": "ipython3",
   "version": "3.11.2"
  }
 },
 "nbformat": 4,
 "nbformat_minor": 5
}
