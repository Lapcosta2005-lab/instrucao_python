{
 "cells": [
  {
   "cell_type": "markdown",
   "metadata": {},
   "source": [
    "### Exercício 1\n",
    "Crie um sistema de consulta de preços\n",
    "Seu sistema deve:\n",
    "- Pedir para o usuário o nome de um produto\n",
    "- Caso o produto exista na lista de produtos, o programa deve retornar o preço do produto como resposta\n",
    "       - Ex: O produto celular custa R$1500\n",
    "- Caso o produto não exista na lista de produtos, o programa deve printar uma mensagem para o usuário tentar novamente\n"
   ]
  },
  {
   "cell_type": "code",
   "execution_count": null,
   "metadata": {},
   "outputs": [],
   "source": [
    "precos = {\"celular\": 1500, \"camera\": 1000, \"fone de ouvido\": 800, \"monitor\": 2000}\n",
    "\n",
    "# O usuário deve informar o produto\n",
    "produto = input(\"Qual o produto você deseja pesquisar? \").lower()\n",
    "\n",
    "# Se existir, retornar o preço do produto\n",
    "# Caso não existe, printar para o usuário tentar novamente\n",
    "# \"O produto celular custa R$1500\"\n",
    "for produtos in precos:\n",
    "    if produto in produtos:\n",
    "        print(f\"O produto {produto} custa {precos[produto]}\")\n",
    "    else:\n",
    "        print(\"Você digitou um produto fora da lista. Tente novamente!\")\n",
    "        \n",
    "\n"
   ]
  },
  {
   "cell_type": "code",
   "execution_count": 5,
   "metadata": {},
   "outputs": [
    {
     "name": "stdout",
     "output_type": "stream",
     "text": [
      "O produto celular custa R$1500\n",
      "Programa encerrado.\n"
     ]
    }
   ],
   "source": [
    "precos = {\"celular\": 1500, \"camera\": 1000, \"fone de ouvido\": 800, \"monitor\": 2000}\n",
    "\n",
    "while True:  # Loop infinito para pedir o produto até que seja válido\n",
    "    produto = input(\"Qual o produto você deseja pesquisar? (Digite 'sair' para encerrar): \").lower()\n",
    "\n",
    "    if produto == \"sair\": #Permite que o usuario interrompa a pesquisa\n",
    "        break  # Sai do loop se o usuário digitar \"sair\"\n",
    "    \n",
    "    if produto in precos: #Verifica se o produto está nas chaves do dicionário\n",
    "        print(f\"O produto {produto} custa R${precos[produto]}\")  # Acessa o valor pela chave correta\n",
    "        break #Sai do loop caso encontre um produto\n",
    "    else:\n",
    "        print(\"Produto não encontrado na lista. Tente novamente.\")  # Caso não exista, notifica o usuário\n",
    "\n",
    "print(\"Programa encerrado.\") #Notifica o fim da execução"
   ]
  },
  {
   "cell_type": "markdown",
   "metadata": {},
   "source": [
    "\n",
    "### Exercício 2\n",
    "Agora edite o programa anterior para fazer com que, caso não exista o produto, o programa pergunte se o usuário quer cadastrar o produto\n",
    "<br>Se ele responder sim, o programa deve pedir o nome do produto e o preco do produto e cadastrar no dicionário de preços\n",
    "<br>Em seguida do cadastro bem sucedido, o programa deve printar o dicionário de precos atualizado\n"
   ]
  },
  {
   "cell_type": "code",
   "execution_count": 10,
   "metadata": {},
   "outputs": [
    {
     "name": "stdout",
     "output_type": "stream",
     "text": [
      "Produto caneta cadastrado com valor de 10.00\n",
      "{'celular': 1500, 'camera': 1000, 'fone de ouvido': 800, 'monitor': 2000, 'caneta': 10.0}\n"
     ]
    }
   ],
   "source": [
    "precos = {\"celular\": 1500, \"camera\": 1000, \"fone de ouvido\": 800, \"monitor\": 2000}\n",
    "\n",
    "# O usuário deve informar o produto\n",
    "produto = input(\"Qual o produto você deseja pesquisar? \").lower()\n",
    "\n",
    "# Se existir, retornar o preço do produto\n",
    "# Caso não existe, perguntar se o usuário quer cadastrar o produto\n",
    "# \"O produto celular custa R$1500\"\n",
    "if produtos in precos:\n",
    "    if produto in produtos:\n",
    "        print(f\"O produto {produto} custa {precos[produto]}\")\n",
    "    else:\n",
    "        cadastro = input(\"Produto inexistente. Você deseja cadastrar? (S ou N)\").lower()\n",
    "        if cadastro == \"s\":\n",
    "            valor = float(input(\"Qual o valor do produto? \"))\n",
    "            precos[produto] = valor\n",
    "            print(f\"Produto {produto} cadastrado com valor de {valor:.2f}\")\n",
    "        else:\n",
    "            print(\"Produto não encontrado. Tente novamente!\")\n",
    "print(precos)\n",
    "        \n",
    "            \n",
    "\n"
   ]
  },
  {
   "cell_type": "markdown",
   "metadata": {},
   "source": [
    "### Exercício 3\n",
    "Dada a lista de preços de produtos, uma loja resolveu fazer um reajuste nos preços dos produtos. \n",
    "calcule o novo valor dos produtos com base nas seguintes regras:\n",
    "- Preços até 1.000 vão ter um reajuste de 10% (ou seja, o novo preço será 110% do preço atual)\n",
    "- Preços até maiores que 1.000 até 2.000 vão ter reajuste de 15%\n",
    "- Preços acima de 2.000 vão ter reajuste de 20%"
   ]
  },
  {
   "cell_type": "code",
   "execution_count": 27,
   "metadata": {},
   "outputs": [
    {
     "name": "stdout",
     "output_type": "stream",
     "text": [
      "O produto celular possui o novo preço de R$1725.00\n",
      "O produto camera possui o novo preço de R$1100.00\n",
      "O produto fone de ouvido possui o novo preço de R$880.00\n",
      "O produto monitor possui o novo preço de R$3600.00\n"
     ]
    }
   ],
   "source": [
    "precos = {\"celular\": 1500, \"camera\": 1000, \"fone de ouvido\": 800, \"monitor\": 3000}\n",
    "novos_precos = {}\n",
    "\n",
    "for produto, preco in precos.items():\n",
    "    if preco > 2000:\n",
    "        novo_preco = preco * 1.2\n",
    "    elif preco > 1000:\n",
    "        novo_preco = preco * 1.15\n",
    "    else:\n",
    "        novo_preco = preco * 1.1\n",
    "    novos_precos[produto] = novo_preco\n",
    "for produto, valor in novos_precos.items():\n",
    "    print(f\"O produto {produto} possui o novo preço de R${valor:.2f}\")\n"
   ]
  },
  {
   "cell_type": "code",
   "execution_count": 28,
   "metadata": {},
   "outputs": [
    {
     "name": "stdout",
     "output_type": "stream",
     "text": [
      "Produto celular, Novo Preço: R$1724.9999999999998\n",
      "Produto camera, Novo Preço: R$1100.0\n",
      "Produto fone de ouvido, Novo Preço: R$880.0000000000001\n",
      "Produto monitor, Novo Preço: R$3600.0\n"
     ]
    }
   ],
   "source": [
    "precos = {\"celular\": 1500, \"camera\": 1000, \"fone de ouvido\": 800, \"monitor\": 3000}\n",
    "for produto in precos:\n",
    "    preco_produto = precos[produto]\n",
    "    if preco_produto <= 1000:\n",
    "        novo_preco = preco_produto * 1.1\n",
    "    elif preco_produto <= 2000:\n",
    "        novo_preco = preco_produto * 1.15\n",
    "    else:\n",
    "        novo_preco = preco_produto * 1.2\n",
    "    print(f\"Produto {produto}, Novo Preço: R${novo_preco}\")\n"
   ]
  },
  {
   "cell_type": "markdown",
   "metadata": {},
   "source": [
    "### Exercício 4\n",
    " - Edite o programa antigo para ter os 2 dicionários, o de preços originais e o de novos preços\n",
    " - Em seguida calcule o valor total de reajuste em R$ que teve entre a lista de produtos original e a lista final\n"
   ]
  },
  {
   "cell_type": "code",
   "execution_count": 29,
   "metadata": {},
   "outputs": [
    {
     "name": "stdout",
     "output_type": "stream",
     "text": [
      "O aumento foi de R$1005.00\n"
     ]
    }
   ],
   "source": [
    "precos = {\"celular\": 1500, \"camera\": 1000, \"fone de ouvido\": 800, \"monitor\": 3000}\n",
    "novos_precos = {}\n",
    "\n",
    "for produto, preco in precos.items():\n",
    "    if preco > 2000:\n",
    "        novo_preco = preco * 1.2\n",
    "    elif preco > 1000:\n",
    "        novo_preco = preco * 1.15\n",
    "    else:\n",
    "        novo_preco = preco * 1.1\n",
    "    novos_precos[produto] = novo_preco\n",
    "total_antigo = sum(precos.values())\n",
    "total_novo = sum(novos_precos.values())\n",
    "valor_total = total_novo - total_antigo\n",
    "print(f\"O aumento foi de R${valor_total:.2f}\")"
   ]
  },
  {
   "cell_type": "markdown",
   "metadata": {},
   "source": [
    "\n",
    "### Exercício 5\n",
    "- Uma empresa está analisando os resultados de vendas do 1º semestre de 2022 e 2023\n",
    "- Qual foi o % de crescimento de cada mês de 2023 em relação a 2022?\n",
    "- Depois de calcular isso, calcule o valor total de crescimento de 2023 em relação a 2022"
   ]
  },
  {
   "cell_type": "code",
   "execution_count": 34,
   "metadata": {},
   "outputs": [
    {
     "name": "stdout",
     "output_type": "stream",
     "text": [
      "A variação do mês de jan de 2023 para 2024 foi de 13.33%\n",
      "A variação do mês de fev de 2023 para 2024 foi de -3.23%\n",
      "A variação do mês de mar de 2023 para 2024 foi de 25.00%\n",
      "A variação do mês de abr de 2023 para 2024 foi de 1.81%\n",
      "A variação do mês de mai de 2023 para 2024 foi de -1.84%\n",
      "A variação do mês de jun de 2023 para 2024 foi de 8.82%\n",
      "O valor total de crescimento de 2022 para 2023 foi de R$6500.00 que representa 6.89%\n"
     ]
    }
   ],
   "source": [
    "vendas_22 = {\"jan\": 15000, \"fev\": 15500, \"mar\": 14000, \"abr\": 16600, \"mai\": 16300, \"jun\": 17000}\n",
    "vendas_23 = {\"jan\": 17000, \"fev\": 15000, \"mar\": 17500, \"abr\": 16900, \"mai\": 16000, \"jun\": 18500}\n",
    "\n",
    "for mes in vendas_22:\n",
    "    valor_22 = vendas_22[mes]\n",
    "    valor_23 = vendas_23[mes]\n",
    "    crescimento = valor_23 / valor_22 -1\n",
    "    print(f\"A variação do mês de {mes} de 2023 para 2024 foi de {crescimento:.2%}\")\n",
    "\n",
    "total_22 = sum(vendas_22.values())\n",
    "total_23 = sum(vendas_23.values())\n",
    "total = total_23 - total_22\n",
    "total_perc = total_23 / total_22 -1\n",
    "print(f\"O valor total de crescimento de 2022 para 2023 foi de R${total:.2f} que representa {total_perc:.2%}\")"
   ]
  },
  {
   "cell_type": "markdown",
   "metadata": {},
   "source": [
    "### Exercício 6 - Desafio\n",
    "- No final da reunião de apresentação dos números, seu chefe perguntou:\n",
    "- E se nos meses de 2023 que a gente vendeu menos do que 2022 a gente tivesse pelo menos empatado com 2022 (ou seja, se nos meses de 2023 em que as vendas foram menores do que o mesmo mês em 2022, o valor de vendas tivesse sido igual a 2022)\n",
    "- Qual teria sido o nosso crescimento de 2023 frente a 2022?"
   ]
  },
  {
   "cell_type": "code",
   "execution_count": 38,
   "metadata": {},
   "outputs": [
    {
     "name": "stdout",
     "output_type": "stream",
     "text": [
      "A variação do mês de jan de 2023 para 2024 foi de 13.33%\n",
      "A variação do mês de fev de 2023 para 2024 foi de 0.00%\n",
      "A variação do mês de mar de 2023 para 2024 foi de 25.00%\n",
      "A variação do mês de abr de 2023 para 2024 foi de 1.81%\n",
      "A variação do mês de mai de 2023 para 2024 foi de 0.00%\n",
      "A variação do mês de jun de 2023 para 2024 foi de 8.82%\n",
      "O crescimento simulado de 2022 para 2023 foi de R$7300.00 que representa 7.73%\n"
     ]
    }
   ],
   "source": [
    "for mes in vendas_22:\n",
    "    if vendas_23[mes] < vendas_22[mes]:\n",
    "        vendas_23[mes] = vendas_22[mes]\n",
    "    valor_22 = vendas_22[mes]\n",
    "    valor_23 = vendas_23[mes]\n",
    "    crescimento = valor_23 / valor_22 -1\n",
    "    print(f\"A variação do mês de {mes} de 2023 para 2024 foi de {crescimento:.2%}\")\n",
    "\n",
    "total_22 = sum(vendas_22.values())\n",
    "total_23 = sum(vendas_23.values())\n",
    "total = total_23 - total_22\n",
    "total_perc = total_23 / total_22 -1\n",
    "print(f\"O crescimento simulado de 2022 para 2023 foi de R${total:.2f} que representa {total_perc:.2%}\")\n",
    "    "
   ]
  }
 ],
 "metadata": {
  "kernelspec": {
   "display_name": "Python 3",
   "language": "python",
   "name": "python3"
  },
  "language_info": {
   "codemirror_mode": {
    "name": "ipython",
    "version": 3
   },
   "file_extension": ".py",
   "mimetype": "text/x-python",
   "name": "python",
   "nbconvert_exporter": "python",
   "pygments_lexer": "ipython3",
   "version": "3.13.2"
  }
 },
 "nbformat": 4,
 "nbformat_minor": 2
}
