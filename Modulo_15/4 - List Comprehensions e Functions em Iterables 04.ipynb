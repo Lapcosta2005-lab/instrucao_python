{
 "cells": [
  {
   "cell_type": "markdown",
   "metadata": {},
   "source": [
    "# List Comprehensions com if para \"filtrar\" itens\n",
    "\n",
    "### Estrutura:"
   ]
  },
  {
   "cell_type": "raw",
   "metadata": {},
   "source": [
    "lista = [expressão for item in iterable if condicao]"
   ]
  },
  {
   "cell_type": "markdown",
   "metadata": {},
   "source": [
    "- Digamos que eu queira criar uma lista de produtos que bateram a meta."
   ]
  },
  {
   "cell_type": "code",
   "execution_count": 1,
   "metadata": {},
   "outputs": [],
   "source": [
    "meta = 1000\n",
    "vendas_produtos = [1500, 150, 2100, 1950]\n",
    "produtos = ['vinho', 'cafeiteira', 'microondas', 'iphone']"
   ]
  },
  {
   "cell_type": "markdown",
   "metadata": {},
   "source": [
    "Fazendo por For tradicional"
   ]
  },
  {
   "cell_type": "code",
   "execution_count": 8,
   "metadata": {},
   "outputs": [
    {
     "name": "stdout",
     "output_type": "stream",
     "text": [
      "[1500, 2100, 1950]\n",
      "['vinho', 'microondas', 'iphone']\n",
      "--------------------------------------------------\n",
      "['vinho', 'microondas', 'iphone']\n"
     ]
    }
   ],
   "source": [
    "valor_meta = []\n",
    "produto_meta = []\n",
    "\n",
    "for i, venda in enumerate(vendas_produtos):\n",
    "    if venda >= meta:\n",
    "        valor_meta.append(venda)\n",
    "        produto_meta.append(produtos[i])\n",
    "        \n",
    "print(valor_meta)\n",
    "print(produto_meta)\n",
    "\n",
    "# Mais simplificado\n",
    "print('-' * 50)\n",
    "produto_meta = []\n",
    "\n",
    "for i, produto in enumerate(produtos):\n",
    "    if vendas_produtos[i] >= meta:\n",
    "        produto_meta.append(produto)\n",
    "\n",
    "print(produto_meta)"
   ]
  },
  {
   "cell_type": "markdown",
   "metadata": {},
   "source": [
    "Fazendo por list comprehension"
   ]
  },
  {
   "cell_type": "code",
   "execution_count": 14,
   "metadata": {},
   "outputs": [
    {
     "name": "stdout",
     "output_type": "stream",
     "text": [
      "['vinho', 'microondas', 'iphone']\n",
      "[1500, 2100, 1950]\n"
     ]
    }
   ],
   "source": [
    "produtos_acima_meta = [produto for i, produto in enumerate(produtos) if vendas_produtos[i] >= meta]\n",
    "valores_acima_meta = [vendas for vendas in vendas_produtos if vendas >= meta]\n",
    "\n",
    "print(produtos_acima_meta)\n",
    "print(valores_acima_meta)"
   ]
  }
 ],
 "metadata": {
  "kernelspec": {
   "display_name": "Python 3",
   "language": "python",
   "name": "python3"
  },
  "language_info": {
   "codemirror_mode": {
    "name": "ipython",
    "version": 3
   },
   "file_extension": ".py",
   "mimetype": "text/x-python",
   "name": "python",
   "nbconvert_exporter": "python",
   "pygments_lexer": "ipython3",
   "version": "3.13.2"
  }
 },
 "nbformat": 4,
 "nbformat_minor": 4
}
