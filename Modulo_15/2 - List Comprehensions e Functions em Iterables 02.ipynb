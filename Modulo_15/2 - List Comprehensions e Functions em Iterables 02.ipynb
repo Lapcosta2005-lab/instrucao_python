{
 "cells": [
  {
   "cell_type": "markdown",
   "metadata": {},
   "source": [
    "# Um exemplo prático de List Comprehension\n",
    "\n",
    "### O que faríamos se quisermos ordenar 2 listas \"relacionadas\""
   ]
  },
  {
   "cell_type": "code",
   "execution_count": 1,
   "metadata": {},
   "outputs": [
    {
     "name": "stdout",
     "output_type": "stream",
     "text": [
      "1)  <zip object at 0x000001FD23C1B4C0>\n",
      "2)  [(1500, 'vinho'), (150, 'cafeiteira'), (2100, 'microondas'), (1950, 'iphone')]\n",
      "3)  [(2100, 'microondas'), (1950, 'iphone'), (1500, 'vinho'), (150, 'cafeiteira')]\n",
      "4)  ['microondas', 'iphone', 'vinho', 'cafeiteira']\n",
      "5)  [2100, 1950, 1500, 150]\n"
     ]
    }
   ],
   "source": [
    "vendas_produtos = [1500, 150, 2100, 1950]\n",
    "produtos = ['vinho', 'cafeiteira', 'microondas', 'iphone']\n",
    "lista_aux = zip(vendas_produtos, produtos) # junta as duas listas em uma lista de tuplas, mas não uma lista no python\n",
    "print(\"1) \", lista_aux)\n",
    "lista_aux = list(zip(vendas_produtos, produtos)) # o 'list' transforma a lista em uma lista do python\n",
    "print(\"2) \", lista_aux)\n",
    "lista_aux.sort(reverse=True) # ordenará em ordem decrescente o primeiro item de cada tupla\n",
    "print(\"3) \", lista_aux)\n",
    "produtos = [produto for vendas, produto in lista_aux] # 'vendas' é o primeiro item --> valor. 'produto' é o segundo item\n",
    "print(\"4) \", produtos)\n",
    "produtos = [vendas for vendas, produto in lista_aux] # 'vendas' é o primeiro item --> valor. 'produto' é o segundo item\n",
    "print(\"5) \", produtos)"
   ]
  }
 ],
 "metadata": {
  "kernelspec": {
   "display_name": "Python 3",
   "language": "python",
   "name": "python3"
  },
  "language_info": {
   "codemirror_mode": {
    "name": "ipython",
    "version": 3
   },
   "file_extension": ".py",
   "mimetype": "text/x-python",
   "name": "python",
   "nbconvert_exporter": "python",
   "pygments_lexer": "ipython3",
   "version": "3.13.2"
  }
 },
 "nbformat": 4,
 "nbformat_minor": 4
}
