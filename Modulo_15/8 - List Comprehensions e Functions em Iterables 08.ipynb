{
 "cells": [
  {
   "cell_type": "markdown",
   "metadata": {},
   "source": [
    "# List Comprehension não serve só para criar uma lista, serve para qualquer ação em iterable\n",
    "\n",
    "### Exemplo:"
   ]
  },
  {
   "cell_type": "markdown",
   "metadata": {},
   "source": [
    "- Vamos calcular quantos % das vendas o meu top 5 produtos representa das vendas totais"
   ]
  },
  {
   "cell_type": "code",
   "execution_count": null,
   "metadata": {},
   "outputs": [
    {
     "name": "stdout",
     "output_type": "stream",
     "text": [
      "[(1200, 'coca'), (300, 'pepsi'), (800, 'guarana'), (1500, 'skol'), (1900, 'brahma'), (2750, 'agua'), (400, 'del valle'), (20, 'dolly'), (23, 'red bull'), (70, 'cachaça'), (90, 'vinho tinto'), (80, 'vodka'), (1100, 'vinho branco'), (999, 'tequila'), (900, 'champagne'), (880, 'gin'), (870, 'guaracamp'), (50, 'matte'), (1111, 'leite de castanha'), (120, 'leite'), (300, 'jurupinga'), (450, 'sprite'), (800, 'fanta')]\n",
      "[(2750, 'agua'), (1900, 'brahma'), (1500, 'skol'), (1200, 'coca'), (1111, 'leite de castanha'), (1100, 'vinho branco'), (999, 'tequila'), (900, 'champagne'), (880, 'gin'), (870, 'guaracamp'), (800, 'guarana'), (800, 'fanta'), (450, 'sprite'), (400, 'del valle'), (300, 'pepsi'), (300, 'jurupinga'), (120, 'leite'), (90, 'vinho tinto'), (80, 'vodka'), (70, 'cachaça'), (50, 'matte'), (23, 'red bull'), (20, 'dolly')]\n",
      "[(2750, 'agua'), (1900, 'brahma'), (1500, 'skol'), (1200, 'coca'), (1111, 'leite de castanha')]\n"
     ]
    }
   ],
   "source": [
    "produtos = ['coca', 'pepsi', 'guarana', 'skol', 'brahma', 'agua', 'del valle', 'dolly', 'red bull', 'cachaça', 'vinho tinto', 'vodka', 'vinho branco', 'tequila', 'champagne', 'gin', 'guaracamp', 'matte', 'leite de castanha', 'leite', 'jurupinga', 'sprite', 'fanta']\n",
    "vendas = [1200, 300, 800, 1500, 1900, 2750, 400, 20, 23, 70, 90, 80, 1100, 999, 900, 880, 870, 50, 1111, 120, 300, 450, 800]\n",
    "top5 = ['agua', 'brahma', 'skol', 'coca', 'leite de castanha']\n",
    "\n",
    "\n",
    "\n",
    "#Escolha do Top5 pelo Método de escolha do top 5 po zip\n",
    "produto_venda = list(zip(vendas, produtos))\n",
    "print(produto_venda)\n",
    "\n",
    "produto_venda_cresc = sorted(produto_venda, reverse = True)\n",
    "print(produto_venda_cresc)\n",
    "\n",
    "top5_b = produto_venda_cresc[:5]\n",
    "print(top5_b)"
   ]
  },
  {
   "cell_type": "markdown",
   "metadata": {},
   "source": [
    "- Fazendo por for"
   ]
  },
  {
   "cell_type": "code",
   "execution_count": 2,
   "metadata": {},
   "outputs": [
    {
     "name": "stdout",
     "output_type": "stream",
     "text": [
      "8461\n",
      "Top 5 representou 50.6% das vendas\n"
     ]
    }
   ],
   "source": [
    "total_top5 = 0\n",
    "\n",
    "for i, produto in enumerate(produtos):\n",
    "    if produto in top5:\n",
    "        total_top5 += vendas[i]\n",
    "\n",
    "print(total_top5)\n",
    "print('Top 5 representou {:0.1%} das vendas'.format(total_top5/sum(vendas)))"
   ]
  },
  {
   "cell_type": "markdown",
   "metadata": {},
   "source": [
    "- Fazendo por list comprehension"
   ]
  },
  {
   "cell_type": "code",
   "execution_count": 13,
   "metadata": {},
   "outputs": [
    {
     "name": "stdout",
     "output_type": "stream",
     "text": [
      "8461\n",
      "Top 5 representou 9.0% das vendas\n"
     ]
    }
   ],
   "source": [
    "\n",
    "total_top5_b = sum(vendas[i] for i, produto in enumerate(produtos) if produto in top5)\n",
    "\n",
    "print(total_top5_b)\n",
    "print('Top 5 representou {:0.1%} das vendas'.format(total_top5/sum(vendas)))"
   ]
  }
 ],
 "metadata": {
  "kernelspec": {
   "display_name": "Python 3",
   "language": "python",
   "name": "python3"
  },
  "language_info": {
   "codemirror_mode": {
    "name": "ipython",
    "version": 3
   },
   "file_extension": ".py",
   "mimetype": "text/x-python",
   "name": "python",
   "nbconvert_exporter": "python",
   "pygments_lexer": "ipython3",
   "version": "3.13.2"
  }
 },
 "nbformat": 4,
 "nbformat_minor": 4
}
