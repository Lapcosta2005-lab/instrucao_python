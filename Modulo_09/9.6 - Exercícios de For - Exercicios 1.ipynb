{
 "cells": [
  {
   "cell_type": "markdown",
   "metadata": {},
   "source": [
    "# Exercícios\n",
    "\n",
    "## 1. Criando um Registro de Hóspedes\n",
    "\n",
    "Digamos que você está criando o sistema para registrar a chegada de hóspedes em um hotel. No hotel, os hóspedes podem ter quartos com 1, 2, 3 e 4 pessoas. Seu sistema deve conseguir:\n",
    "\n",
    "1. Identificar quantas pessoas o hóspede que acabou de chegar vai ter no quarto (perguntando por meio de input)\n",
    "2. De acordo com a quantidade de pessoas do hóspede, ele deve fazer um for para perguntar o cpf e o nome de cada pessoa, a fim de registrá-la no quarto (2 inputs para cada pessoa, 1 para o cpf e outro para o nome)\n",
    "3. O seu programa então deve gerar uma lista com todas as pessoas que ficarão no quarto em que cada item dessa lista é o nome da pessoa e o cpf da pessoa, assim:"
   ]
  },
  {
   "cell_type": "raw",
   "metadata": {},
   "source": [
    "quarto = [\n",
    "    ['João', 'cpf:00000000000'],\n",
    "    ['Julia', 'cpf:11111111111'],\n",
    "    ['Marcus', 'cpf:22222222222'],\n",
    "    ['Maria', 'cpf:33333333333'],\n",
    "]"
   ]
  },
  {
   "cell_type": "markdown",
   "metadata": {},
   "source": [
    "- Para simplificar, não vamos nos preocupar com possibilidades de \"tentar colocar mais de 1 hóspede, digitar o cpf errado, etc. Nosso objetivo é treinar a criação de uma rotina de cadastro"
   ]
  },
  {
   "cell_type": "code",
   "execution_count": 5,
   "metadata": {},
   "outputs": [
    {
     "name": "stdout",
     "output_type": "stream",
     "text": [
      "[['luiz', 'cpf:59578912073']]\n",
      "[['luiz', 'cpf:59578912073'], ['andre', 'cpf:59578912072']]\n"
     ]
    }
   ],
   "source": [
    "#seu código aqui\n",
    "pessoas_quarto = int(input(\"Quantas pessoas ficarão no quarto: \"))\n",
    "quarto = []\n",
    "\n",
    "for i in range(pessoas_quarto):\n",
    "    nome = input(f\"Qual o nome do {i + 1}º hóspede: \").lower()\n",
    "    cpf_input = input(f\"Qual o CPF do hospede {i + 1} (Somente números): \")\n",
    "    cpf_input = cpf_input.replace(\".\", \"\").replace(\"-\", \"\").strip()\n",
    "    if len(cpf_input) == 11 and cpf_input.isnumeric():\n",
    "        hospede = [nome, f\"cpf:{cpf_input}\"]\n",
    "        quarto.append(hospede)\n",
    "    else:\n",
    "        print('Digite seu CPF corretamente e digite apenas números')\n",
    "    print(quarto)\n",
    "    \n",
    "    \n",
    "\n",
    "   "
   ]
  },
  {
   "cell_type": "markdown",
   "metadata": {},
   "source": [
    "## 2. Análise de Vendas\n",
    "\n",
    "Nesse exercício vamos fazer uma \"análise simples\" de atingimento de Meta.\n",
    "\n",
    "Temos uma lista com os vendedores e os valores de vendas e queremos identificar (printar) quais os vendedores que bateram a meta e qual foi o valor que eles venderam."
   ]
  },
  {
   "cell_type": "code",
   "execution_count": null,
   "metadata": {},
   "outputs": [
    {
     "name": "stdout",
     "output_type": "stream",
     "text": [
      "['João', 15000]\n",
      "['Julia', 27000]\n",
      "O(A) vendedor(a) Julia bateu a meta com 27000 vendas\n",
      "['Marcus', 9900]\n",
      "['Maria', 3750]\n",
      "['Ana', 10300]\n",
      "['Alon', 7870]\n"
     ]
    }
   ],
   "source": [
    "meta = 20000\n",
    "vendas = [\n",
    "    ['João', 15000],\n",
    "    ['Julia', 27000],\n",
    "    ['Marcus', 9900],\n",
    "    ['Maria', 3750],\n",
    "    ['Ana', 10300],\n",
    "    ['Alon', 7870],\n",
    "]\n",
    "#seu código aqui\n",
    "for item in vendas:\n",
    "    if item[1] >= meta:\n",
    "        print(f\"O(A) vendedor(a) {item[0]} bateu a meta com {item[1]} vendas\")"
   ]
  },
  {
   "cell_type": "markdown",
   "metadata": {},
   "source": [
    "## 3. Comparação com Ano Anterior\n",
    "\n",
    "Digamos que você está analisando as vendas de produtos de um ecommerce e quer identificar quais produtos tiveram no ano de 2020 mais vendas do que no ano de 2019, para reportar isso para a diretoria.\n",
    "\n",
    "Sua resposta pode ser um print de cada produto, qual foi a venda de 2019, a venda de 2020 e o % de crescimento de 2020 para 2019.\n",
    "\n",
    "Lembrando, para calcular o % de crescimento de um produto de um ano para o outro, podemos fazer: (vendas_produto2020/vendas_produto2019 - 1)\n",
    "\n",
    "Dica: lembre do enumerate, ele pode facilitar seu \"for\""
   ]
  },
  {
   "cell_type": "code",
   "execution_count": 20,
   "metadata": {},
   "outputs": [
    {
     "name": "stdout",
     "output_type": "stream",
     "text": [
      "O produto iphone vendeu R$558147.00 em 2019 e R$951642.00 em 2020, um crescimento de 70.5%\n",
      "O produto tv vendeu R$405252.00 em 2019 e R$787604.00 em 2020, um crescimento de 94.3%\n",
      "O produto máquina de café vendeu R$718654.00 em 2019 e R$867660.00 em 2020, um crescimento de 20.7%\n",
      "O produto notebook dell vendeu R$422760.00 em 2019 e R$694913.00 em 2020, um crescimento de 64.4%\n",
      "O produto notebook hp vendeu R$154753.00 em 2019 e R$539704.00 em 2020, um crescimento de 248.8%\n",
      "O produto microsoft surface vendeu R$438508.00 em 2019 e R$667179.00 em 2020, um crescimento de 52.1%\n",
      "O produto webcam vendeu R$237467.00 em 2019 e R$295633.00 em 2020, um crescimento de 24.5%\n",
      "O produto caixa de som vendeu R$489705.00 em 2019 e R$725316.00 em 2020, um crescimento de 48.1%\n",
      "O produto microfone vendeu R$328311.00 em 2019 e R$644622.00 em 2020, um crescimento de 96.3%\n",
      "O produto câmera canon vendeu R$591120.00 em 2019 e R$994303.00 em 2020, um crescimento de 68.2%\n"
     ]
    }
   ],
   "source": [
    "produtos = ['iphone', 'galaxy', 'ipad', 'tv', 'máquina de café', 'kindle', 'geladeira', 'adega', 'notebook dell', 'notebook hp', 'notebook asus', 'microsoft surface', 'webcam', 'caixa de som', 'microfone', 'câmera canon']\n",
    "vendas2019 = [558147,712350,573823,405252,718654,531580,973139,892292,422760,154753,887061,438508,237467,489705,328311,591120]\n",
    "vendas2020 = [951642,244295,26964,787604,867660,78830,710331,646016,694913,539704,324831,667179,295633,725316,644622,994303]\n",
    "\n",
    "#seu código aqui\n",
    "for i, vendas in enumerate(vendas2020):\n",
    "    if vendas2020[i] > vendas2019[i]:\n",
    "        print(f\"O produto {produtos[i]} vendeu R${vendas2019[i]:.2f} em 2019 e R${vendas2020[i]:.2f} em 2020, um crescimento de {(vendas2020[i] / vendas2019[i]) - 1:.1%}\")\n",
    "\n"
   ]
  }
 ],
 "metadata": {
  "kernelspec": {
   "display_name": "Python 3",
   "language": "python",
   "name": "python3"
  },
  "language_info": {
   "codemirror_mode": {
    "name": "ipython",
    "version": 3
   },
   "file_extension": ".py",
   "mimetype": "text/x-python",
   "name": "python",
   "nbconvert_exporter": "python",
   "pygments_lexer": "ipython3",
   "version": "3.12.2"
  }
 },
 "nbformat": 4,
 "nbformat_minor": 4
}
