{
 "cells": [
  {
   "cell_type": "markdown",
   "id": "2b04bbea",
   "metadata": {
    "id": "2b04bbea"
   },
   "source": [
    "# Listas\n",
    "\n",
    "<span style=\"color: red;\"><b>Todos os exercícios são feitos partindo-se do pressuposto de que todas as entradas são dadas de forma correta. Casos limite não mencionados no enunciado não são abordados porque não fazem parte do exercício!</b></span>"
   ]
  },
  {
   "cell_type": "markdown",
   "id": "dcb81b29",
   "metadata": {
    "id": "dcb81b29"
   },
   "source": [
    "#### 1. Faça um Programa que leia as vendas dos vendedores, mostre a venda de cada vendedor com o seu nome e a média de vendas. "
   ]
  },
  {
   "cell_type": "code",
   "execution_count": 7,
   "id": "09c0d2b3",
   "metadata": {
    "id": "09c0d2b3"
   },
   "outputs": [
    {
     "name": "stdout",
     "output_type": "stream",
     "text": [
      "O vendedor Fulano vendeu 1000\n",
      "O vendedor Beltrano vendeu 1500\n",
      "O vendedor Ciclano vendeu 1200\n",
      "O vendedor Lira vendeu 1300\n",
      "A média de vendas foi de 1250.0 unidades\n"
     ]
    }
   ],
   "source": [
    "vendas = [1000, 1500, 1200, 1300]\n",
    "vendedores = [\"Fulano\", \"Beltrano\", \"Ciclano\", \"Lira\"]\n",
    "\n",
    "soma = sum(vendas)\n",
    "numero_vend = len(vendedores)\n",
    "media_vendas = soma / numero_vend\n",
    "\n",
    "for i, venda in enumerate(vendas):\n",
    "    print(f\"O vendedor {vendedores[i]} vendeu {vendas[i]}\")\n",
    "print(f\"A média de vendas foi de {media_vendas} unidades\")\n"
   ]
  },
  {
   "cell_type": "code",
   "execution_count": 8,
   "id": "00a27277",
   "metadata": {},
   "outputs": [
    {
     "name": "stdout",
     "output_type": "stream",
     "text": [
      "O vendedor Fulano vendeu 1000\n",
      "O vendedor Beltrano vendeu 1500\n",
      "O vendedor Ciclano vendeu 1200\n",
      "O vendedor Lira vendeu 1300\n",
      "A média de vendas foi de 1250.0 unidades\n"
     ]
    }
   ],
   "source": [
    "for i in range(len(vendedores)):\n",
    "    print(f\"O vendedor {vendedores[i]} vendeu {vendas[i]}\")\n",
    "print(f\"A média de vendas foi de {media_vendas} unidades\")\n"
   ]
  },
  {
   "cell_type": "markdown",
   "id": "cbda91b3",
   "metadata": {
    "id": "cbda91b3"
   },
   "source": [
    "#### 2. Faça um Programa que crie uma lista com as médias de cada aluno, imprima as médias de cada aluno e a quantidade de alunos com média maior que 7."
   ]
  },
  {
   "cell_type": "code",
   "execution_count": 17,
   "id": "c93dd233",
   "metadata": {
    "id": "c93dd233"
   },
   "outputs": [
    {
     "name": "stdout",
     "output_type": "stream",
     "text": [
      "José 8.75\n",
      "Joana 6.5\n",
      "Maria 10.0\n",
      "Carla 6.75\n",
      "Mauricio 6.25\n",
      "Andre 7.25\n",
      "Tiago 7.5\n",
      "Enzo 6.5\n",
      "Amanda 7.5\n",
      "Alessandra 4.25\n",
      "Tivemos 5 alunos com média acima de 7\n"
     ]
    }
   ],
   "source": [
    "alunos = [\"José\", \"Joana\", \"Maria\", \"Carla\", \"Mauricio\", \"Andre\", \"Tiago\", \"Enzo\", \"Amanda\", \"Alessandra\"]\n",
    "notas = [\n",
    "    [10, 9, 8, 8],\n",
    "    [9, 7, 6, 4],\n",
    "    [10, 10, 10, 10],\n",
    "    [5, 3, 10, 9],\n",
    "    [7, 6, 6, 6],\n",
    "    [7, 7, 8, 7],\n",
    "    [7, 7, 7, 9],\n",
    "    [8, 5, 6, 7],\n",
    "    [10, 9, 7, 4],\n",
    "    [10, 1, 3, 3],\n",
    "]\n",
    "nota_media = []\n",
    "cont_nota_media = 0\n",
    "for i, aluno in enumerate(alunos):\n",
    "    media = sum(notas[i]) / len(notas[i])\n",
    "    print(aluno, media)\n",
    "    nota_media.append(media)\n",
    "    if media > 7:\n",
    "        cont_nota_media += 1\n",
    "\n",
    "print(f\"Tivemos {cont_nota_media} alunos com média acima de 7\")\n",
    "\n"
   ]
  },
  {
   "cell_type": "markdown",
   "id": "c3068a53",
   "metadata": {
    "id": "c3068a53"
   },
   "source": [
    "#### 3. Foram anotadas as idades e salários de 30 funcionários. Faça um programa que determine quantos funcionários com mais de 25 anos possuem salário inferior à média de todos os salários."
   ]
  },
  {
   "cell_type": "code",
   "execution_count": 32,
   "id": "0308566d",
   "metadata": {
    "id": "0308566d",
    "scrolled": true
   },
   "outputs": [
    {
     "name": "stdout",
     "output_type": "stream",
     "text": [
      "3319.8\n",
      "Posição1: Idade: 32 - Salário: 2219\n",
      "Posição5: Idade: 50 - Salário: 3270\n",
      "Posição9: Idade: 49 - Salário: 2384\n",
      "Posição11: Idade: 38 - Salário: 2460\n",
      "Posição14: Idade: 49 - Salário: 1872\n",
      "Posição15: Idade: 48 - Salário: 1770\n",
      "Posição18: Idade: 48 - Salário: 3295\n",
      "Posição19: Idade: 44 - Salário: 1729\n",
      "Posição23: Idade: 42 - Salário: 1916\n",
      "Posição24: Idade: 42 - Salário: 2987\n",
      "Posição28: Idade: 38 - Salário: 2055\n",
      "Posição29: Idade: 35 - Salário: 1730\n"
     ]
    }
   ],
   "source": [
    "idades = [35,32,50,33,48,50,33,48,22,49,35,38,20,47,49,48,34,21,48,44,48,30,25,42,42,23,25,23,38,35]\n",
    "salarios = [3739,2219,3554,3978,4014,3270,4792,3879,2981,2384,4826,2460,3680,4318,1872,1770,4640,3929,3295,1729,3965,4267,4007,1916,2987,2943,3852,4543,2055,1730]\n",
    "\n",
    "media_salario = sum(salarios) / len(salarios)\n",
    "print(media_salario)\n",
    "\n",
    "for i, idade in enumerate(idades):\n",
    "    if idade <= 25:\n",
    "        continue\n",
    "    else:\n",
    "        if salarios[i] > media_salario:\n",
    "            continue\n",
    "        else:\n",
    "            print(f\"Posição{i}: Idade: {idades[i]} - Salário: {salarios[i]}\")"
   ]
  },
  {
   "cell_type": "code",
   "execution_count": 34,
   "id": "28e07236",
   "metadata": {},
   "outputs": [
    {
     "name": "stdout",
     "output_type": "stream",
     "text": [
      "Posição1: Idade: 32 - Salário: 2219\n",
      "Posição5: Idade: 50 - Salário: 3270\n",
      "Posição9: Idade: 49 - Salário: 2384\n",
      "Posição11: Idade: 38 - Salário: 2460\n",
      "Posição14: Idade: 49 - Salário: 1872\n",
      "Posição15: Idade: 48 - Salário: 1770\n",
      "Posição18: Idade: 48 - Salário: 3295\n",
      "Posição19: Idade: 44 - Salário: 1729\n",
      "Posição23: Idade: 42 - Salário: 1916\n",
      "Posição24: Idade: 42 - Salário: 2987\n",
      "Posição28: Idade: 38 - Salário: 2055\n",
      "Posição29: Idade: 35 - Salário: 1730\n"
     ]
    }
   ],
   "source": [
    "for i, idade in enumerate(idades):\n",
    "    if idade > 25 and salarios[i] < media_salario:\n",
    "        print(f\"Posição{i}: Idade: {idades[i]} - Salário: {salarios[i]}\")"
   ]
  },
  {
   "cell_type": "markdown",
   "id": "1611081b",
   "metadata": {
    "id": "1611081b"
   },
   "source": [
    "#### 4.Em quais meses a média de temperatura foi maior do que a média nacional?"
   ]
  },
  {
   "cell_type": "code",
   "execution_count": 39,
   "id": "62f72e2b",
   "metadata": {
    "id": "62f72e2b"
   },
   "outputs": [
    {
     "name": "stdout",
     "output_type": "stream",
     "text": [
      "A média anual foi de 25.8º\n",
      "No mês de Janeiro a temperatura foi de 30, 4.2º a mais que a média anual\n",
      "No mês de Fevereiro a temperatura foi de 29, 3.2º a mais que a média anual\n",
      "No mês de Março a temperatura foi de 28, 2.2º a mais que a média anual\n",
      "No mês de Abril a temperatura foi de 28, 2.2º a mais que a média anual\n",
      "No mês de Junho a temperatura foi de 26, 0.2º a mais que a média anual\n",
      "No mês de Novembro a temperatura foi de 27, 1.2º a mais que a média anual\n",
      "No mês de Dezembro a temperatura foi de 32, 6.2º a mais que a média anual\n"
     ]
    }
   ],
   "source": [
    "meses = [\n",
    "    'Janeiro',\n",
    "    'Fevereiro',\n",
    "    'Março',\n",
    "    'Abril',\n",
    "    'Maio',\n",
    "    'Junho',\n",
    "    'Julho',\n",
    "    'Agosto',\n",
    "    'Setembro',\n",
    "    'Outubro',\n",
    "    'Novembro',\n",
    "    'Dezembro'\n",
    "]\n",
    "\n",
    "temperaturas = [30, 29, 28, 28, 25, 26, 20, 21, 19, 25, 27, 32]\n",
    "\n",
    "media_temp = sum(temperaturas) / len(temperaturas)\n",
    "print(f\"A média anual foi de {media_temp:.1f}º\")\n",
    "\n",
    "for i, mes in enumerate(meses):\n",
    "    if temperaturas[i] > media_temp:\n",
    "        print(f\"No mês de {meses[i]} a temperatura foi de {temperaturas[i]}, {temperaturas[i] - media_temp:.1f}º a mais que a média anual\")"
   ]
  },
  {
   "cell_type": "markdown",
   "id": "8946af31",
   "metadata": {
    "id": "8946af31"
   },
   "source": [
    "#### 5. As Organizações Tabajara resolveram dar um abono aos seus colaboradores em reconhecimento ao bom resultado alcançado durante o ano que passou. Para isto contratou você para desenvolver a aplicação que servirá como uma projeção de quanto será gasto com o pagamento deste abono.\n",
    "<pre>Após reuniões envolvendo a diretoria executiva, a diretoria financeira e os representantes do sindicato laboral, chegou-se a seguinte forma de cálculo:\n",
    ". Cada funcionário receberá o equivalente a 20% do seu salário bruto de dezembro;\n",
    ". O piso do abono será de 100 reais, isto é, aqueles funcionários cujo salário for muito baixo, recebem este valor mínimo; \n",
    "\n",
    "Neste momento, não se deve ter nenhuma preocupação com colaboradores com tempo menor de casa, descontos, impostos ou outras particularidades. O programa deverá calcular o valor do abono concedido a cada colaborador, de acordo com a regra definida acima. Ao final, o programa deverá apresentar:</pre>\n",
    "<pre>\n",
    "O salário de cada funcionário, juntamente com o valor do abono;\n",
    "O número total de funcionário processados;\n",
    "O valor total a ser gasto com o pagamento do abono;\n",
    "O número de funcionário que receberá o valor mínimo de 100 reais;\n",
    "O maior valor pago como abono; A tela abaixo é um exemplo de execução do programa, apenas para fins ilustrativos.\n",
    "<pre>\n",
    "Projeção de Gastos com Abono\n",
    "============================ \n",
    " \n",
    "Salário: 1000\n",
    "Salário: 300\n",
    "Salário: 500\n",
    "Salário: 100\n",
    "Salário: 4500\n",
    "Salário: 0\n",
    " \n",
    "Salário    - Abono     \n",
    "R$ 1000.00 - R$  200.00\n",
    "R$  300.00 - R$  100.00\n",
    "R$  500.00 - R$  100.00\n",
    "R$  100.00 - R$  100.00\n",
    "R$ 4500.00 - R$  900.00\n",
    " \n",
    "Foram processados 5 colaboradores\n",
    "Total gasto com abonos: R$ 1400.00\n",
    "Valor mínimo pago a 3 colaboradores\n",
    "Maior valor de abono pago: R$ 900.00"
   ]
  },
  {
   "cell_type": "code",
   "execution_count": null,
   "id": "fadbcfb2",
   "metadata": {
    "id": "fadbcfb2"
   },
   "outputs": [
    {
     "name": "stdout",
     "output_type": "stream",
     "text": [
      "Salário: R$1000.00 - Abono: R$200.00\n",
      "Salário: R$300.00 - Abono: R$100.00\n",
      "Salário: R$500.00 - Abono: R$100.00\n",
      "Salário: R$200.00 - Abono: R$100.00\n",
      "Salário: R$1500.00 - Abono: R$300.00\n",
      "Salário: R$3000.00 - Abono: R$600.00\n",
      "Salário: R$3400.00 - Abono: R$680.00\n",
      "Salário: R$5000.00 - Abono: R$1000.00\n",
      "Salário: R$7000.00 - Abono: R$1400.00\n",
      "Salário: R$2000.00 - Abono: R$400.00\n",
      "Salário: R$600.00 - Abono: R$120.00\n",
      "Salário: R$800.00 - Abono: R$160.00\n",
      "Salário: R$250.00 - Abono: R$100.00\n",
      "Salário: R$1500.00 - Abono: R$300.00\n",
      "Salário: R$20000.00 - Abono: R$4000.00\n",
      "Foram processados 15 funcionários\n",
      "Foi pago o total de R$9560.00 em abonos\n",
      "3 funcionários recebrão o abono mínimo de R$100,00\n",
      "O maior valor de abono a ser pago é de R$4000.00\n"
     ]
    }
   ],
   "source": [
    "lista_salarios = [1000, 300, 500, 200, 1500, 3000, 3400, 5000, 7000, 2000, 600, 800, 250, 1500, 20000]\n",
    "abonos = 0\n",
    "cont_funcionarios = 0\n",
    "cont_func_100 = 0\n",
    "tab_abono = []\n",
    "\n",
    "# Cada funcionário receberá o equivalente a 20% do seu salário bruto de dezembro\n",
    "# O piso minimo do abono é de 100 reais (para salários baixos)\n",
    "for salario in lista_salarios:\n",
    "    if salario * 0.2 < 100:\n",
    "        abono = 100\n",
    "        cont_func_100 += 1\n",
    "    else:\n",
    "        abono = salario * 0.2\n",
    "    abonos += abono\n",
    "    tab_abono.append(abono)\n",
    "    print(f\"Salário: R${salario:.2f} - Abono: R${abono:.2f}\")\n",
    "    cont_funcionarios += 1\n",
    "maior_abono = max(tab_abono)\n",
    "print(f\"Foram processados {cont_funcionarios} funcionários\")\n",
    "print(f\"Foi pago o total de R${abonos:.2f} em abonos\")\n",
    "print(f\"{cont_func_100} funcionários recebrão o abono mínimo de R$100,00\")\n",
    "print(f\"O maior valor de abono a ser pago é de R${maior_abono:.2f}\")\n",
    "\n",
    "\n",
    "# O maior valor pago como abono\n",
    "\n"
   ]
  },
  {
   "cell_type": "markdown",
   "id": "382b0981",
   "metadata": {
    "id": "382b0981"
   },
   "source": [
    "#### 6. Faça um programa que carregue uma lista com os modelos de cinco carros (exemplo de modelos: FUSCA, GOL, VECTRA etc). Carregue uma outra lista com o consumo desses carros, isto é, quantos quilômetros cada um desses carros faz com um litro de combustível. Calcule e mostre:\n",
    "<pre>\n",
    "a. O modelo do carro mais econômico;\n",
    "b. Quantos litros de combustível cada um dos carros cadastrados consome para percorrer uma distância de 1000 quilômetros e quanto isto custará, considerando um que a gasolina custe R$ 2,25 o litro. Abaixo segue uma tela de exemplo. O disposição das informações deve ser o mais próxima possível ao exemplo. Os dados são fictícios e podem mudar a cada execução do programa.</pre>\n",
    "```\n",
    "Comparativo de Consumo de Combustível\n",
    "\n",
    "Veículo 1\n",
    "Nome: fusca\n",
    "Km por litro: 7\n",
    "Veículo 2\n",
    "Nome: gol\n",
    "Km por litro: 10\n",
    "Veículo 3\n",
    "Nome: uno\n",
    "Km por litro: 12.5\n",
    "Veículo 4\n",
    "Nome: Vectra\n",
    "Km por litro: 9\n",
    "Veículo 5\n",
    "Nome: Peugeout\n",
    "Km por litro: 14.5\n",
    "\n",
    "Relatório Final\n",
    " 1 - fusca           -    7.0 -  142.9 litros - R$ 321.43\n",
    " 2 - gol             -   10.0 -  100.0 litros - R$ 225.00\n",
    " 3 - uno             -   12.5 -   80.0 litros - R$ 180.00\n",
    " 4 - vectra          -    9.0 -  111.1 litros - R$ 250.00\n",
    " 5 - peugeout        -   14.5 -   69.0 litros - R$ 155.17\n",
    "O menor consumo é do peugeout.\n",
    "```"
   ]
  },
  {
   "cell_type": "code",
   "execution_count": null,
   "id": "6b6c8b06",
   "metadata": {
    "id": "6b6c8b06"
   },
   "outputs": [
    {
     "name": "stdout",
     "output_type": "stream",
     "text": [
      "O veiculo gol que faz 16km/l consome 62.50 litros ao custo total de R$140.62\n",
      "O veiculo uno que faz 14km/l consome 71.43 litros ao custo total de R$160.71\n",
      "['gol', 'uno']\n",
      "[16, 14]\n",
      "O veículo mais econômico é o gol\n"
     ]
    }
   ],
   "source": [
    "\n",
    "tab_veiculos = []\n",
    "tab_kml = []\n",
    "\n",
    "for i in range(2):\n",
    "    veiculo = input(\"Qual o modelo do veículo (fusca, gol, uno, vectra, peugeot)? \")\n",
    "    if veiculo in tab_veiculos:\n",
    "        print(\"Modelo já cadastrado. Tente outro modelo\")\n",
    "    else:\n",
    "        if veiculo== \"fusca\" or veiculo == \"gol\" or veiculo == \"uno\" or veiculo == \"vectra\" or veiculo == \"peugeot\":\n",
    "            tab_veiculos.append(veiculo)\n",
    "            km_litro = int(input(f\"Quantos quilômetros por litro o veículo {veiculo} faz: \"))\n",
    "            tab_kml.append(km_litro)\n",
    "            print(f\"O veiculo {veiculo} que faz {km_litro}km/l consome {1000 / km_litro:.2f} litros ao custo total de R${2.25 * 1000 / km_litro:.2f}\")                \n",
    "        else:\n",
    "            print(\"Os modelos a serem selecionados são: fusca, gol, uno, vectra, peugeot\")\n",
    "\n",
    "print(tab_veiculos)\n",
    "print(tab_kml)\n",
    "\n",
    "# Carro mais econômico\n",
    "cont_kml = 0\n",
    "for i, kml in enumerate(tab_kml):\n",
    "    if kml > cont_kml:\n",
    "        cont_kml = kml\n",
    "        veiculo_eco = tab_veiculos[i]\n",
    "    else:\n",
    "        continue\n",
    "print(f\"O veículo mais econômico é o {veiculo_eco}\")\n",
    " \n",
    "    "
   ]
  },
  {
   "cell_type": "markdown",
   "id": "1d0260a3",
   "metadata": {
    "id": "1d0260a3"
   },
   "source": [
    "#### 7. Uma empresa paga seus vendedores com base em comissões. O vendedor recebe \\\\$200 por semana mais 9 por cento de suas vendas brutas daquela semana. Por exemplo, um vendedor que teve vendas brutas de \\\\$3000 em uma semana recebe \\\\$200 mais 9 por cento de \\\\$3000, ou seja, um total de \\\\$470. Escreva um programa (usando um array de contadores) que determine quantos vendedores receberam salários nos seguintes intervalos de valores:\n",
    "<pre>\n",
    "$200 - $299\n",
    "$300 - $399\n",
    "$400 - $499\n",
    "$500 - $599\n",
    "$600 - $699\n",
    "$700 - $799\n",
    "$800 - $899\n",
    "$900 - $999\n",
    "$1000 em diante\n",
    "</pre>\n",
    "\n",
    "Existem várias formas de fazer. Faça primeiro da forma que parecer mais intuitiva para você.\n",
    "\n",
    "Em seguida, caso queira um desafio:\n",
    "Desafio: Crie uma forma para chegar na posição da lista a partir do salário, sem fazer vários ifs aninhados."
   ]
  },
  {
   "cell_type": "code",
   "execution_count": 4,
   "id": "fc6eaae4",
   "metadata": {
    "id": "fc6eaae4"
   },
   "outputs": [
    {
     "name": "stdout",
     "output_type": "stream",
     "text": [
      "0\n",
      "8\n",
      "1\n",
      "8\n",
      "2\n",
      "8\n",
      "3\n",
      "8\n",
      "4\n",
      "8\n",
      "5\n",
      "8\n",
      "6\n",
      "8\n",
      "[290.0, 380.0, 470.0, 560.0, 650.0, 740.0, 695.0, 605.0, 524.0]\n",
      "[2, 3, 4, 5, 6, 7, 6, 6, 5]\n",
      "[]\n"
     ]
    }
   ],
   "source": [
    "vendas = [1000, 2000, 3000, 4000, 5000, 6000, 5500, 4500, 3600]\n",
    "# Comissão = 200/semana + 9% das vendas/semana\n",
    "comissoes = []\n",
    "faixa_comissoes = []\n",
    "qtd_vend_com = []\n",
    "int_comissoes = [200, 300, 400, 500, 600, 700, 800, 900]\n",
    "\n",
    "for venda in vendas:\n",
    "    comissao = 200 + 0.09 * venda\n",
    "    comissoes.append(comissao)\n",
    "    faixa = int(comissao / 100)\n",
    "    faixa_comissoes.append(faixa)\n",
    "for i in range(len(int_comissoes) - 1):\n",
    "    print(i)\n",
    "    print(len(int_comissoes))\n",
    "    contador = 0\n",
    "    if faixa_comissoes == i:\n",
    "        contador += 1\n",
    "        qtd_vend_com.append(contador)\n",
    "        \n",
    "\n",
    "\n",
    "\n",
    "print(comissoes)\n",
    "print(faixa_comissoes)\n",
    "print(qtd_vend_com)\n",
    "\n",
    "# Qtde de vendedores receberam comissao nos intervalos da tabela\n",
    "\n"
   ]
  }
 ],
 "metadata": {
  "colab": {
   "provenance": []
  },
  "kernelspec": {
   "display_name": "Python 3",
   "language": "python",
   "name": "python3"
  },
  "language_info": {
   "codemirror_mode": {
    "name": "ipython",
    "version": 3
   },
   "file_extension": ".py",
   "mimetype": "text/x-python",
   "name": "python",
   "nbconvert_exporter": "python",
   "pygments_lexer": "ipython3",
   "version": "3.12.2"
  }
 },
 "nbformat": 4,
 "nbformat_minor": 5
}
