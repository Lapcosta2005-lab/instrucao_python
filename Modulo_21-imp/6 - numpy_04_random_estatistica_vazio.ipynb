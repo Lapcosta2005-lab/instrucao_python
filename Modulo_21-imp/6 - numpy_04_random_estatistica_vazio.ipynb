{
 "cells": [
  {
   "cell_type": "markdown",
   "metadata": {
    "id": "XI0Q33rjqx4K"
   },
   "source": [
    "# Guia de Introdução ao NumPy\n",
    "\n",
    "NumPy, que significa Numerical Python, é uma biblioteca fundamental para a computação científica em Python. Ela fornece suporte para arrays e matrizes, além de funções matemáticas para operações com esses objetos. É, também, a base da biblioteca Pandas.\n",
    "\n"
   ]
  },
  {
   "cell_type": "markdown",
   "metadata": {
    "id": "ALnMiKvUqx4N"
   },
   "source": [
    "## Números aleatórios e estatística básica  "
   ]
  },
  {
   "cell_type": "code",
   "execution_count": null,
   "metadata": {
    "id": "k6SV2XzBq4Aw"
   },
   "outputs": [
    {
     "name": "stdout",
     "output_type": "stream",
     "text": [
      "Generator(PCG64)\n"
     ]
    }
   ],
   "source": [
    "import numpy as np\n",
    "\n",
    "# Crie um gerador d enúmeros aleatórios\n",
    "rng = np.random.default_rng()\n",
    "print(rng)"
   ]
  },
  {
   "cell_type": "code",
   "execution_count": 7,
   "metadata": {},
   "outputs": [
    {
     "name": "stdout",
     "output_type": "stream",
     "text": [
      "0.7223354053605167\n"
     ]
    }
   ],
   "source": [
    "numero_aleatorio = rng.random()\n",
    "print(numero_aleatorio)"
   ]
  },
  {
   "cell_type": "code",
   "execution_count": 19,
   "metadata": {},
   "outputs": [
    {
     "name": "stdout",
     "output_type": "stream",
     "text": [
      "7.214355181700362\n"
     ]
    }
   ],
   "source": [
    "numero_aleatorio = rng.random() * 10\n",
    "print(numero_aleatorio)"
   ]
  },
  {
   "cell_type": "code",
   "execution_count": 20,
   "metadata": {},
   "outputs": [
    {
     "name": "stdout",
     "output_type": "stream",
     "text": [
      "[0.09696907 0.9515563  0.07037889]\n"
     ]
    }
   ],
   "source": [
    "array_aleatorio = rng.random(3)\n",
    "print(array_aleatorio)"
   ]
  },
  {
   "cell_type": "code",
   "execution_count": 21,
   "metadata": {},
   "outputs": [
    {
     "name": "stdout",
     "output_type": "stream",
     "text": [
      "[23.59658759 49.71488703 49.03782309]\n"
     ]
    }
   ],
   "source": [
    "array_aleatorio = rng.random(3) * 100\n",
    "print(array_aleatorio)"
   ]
  },
  {
   "cell_type": "markdown",
   "metadata": {
    "id": "J4snhyVNqx4Q"
   },
   "source": [
    " Vamos criar um cenário onde esses dados aleatórios podem ser úteis para uma análise de vendas.\n",
    "\n",
    "Suponha que você seja um analista de vendas em uma empresa e queira entender melhor o desempenho das vendas de um produto específico. No entanto, você não tem acesso aos dados reais de vendas, então você decide gerar alguns dados de vendas aleatórios para realizar sua análise."
   ]
  },
  {
   "cell_type": "code",
   "execution_count": 28,
   "metadata": {
    "id": "pa8UvoZJqx4Q",
    "outputId": "704c10b2-d278-446f-e592-9e5ace8eee89"
   },
   "outputs": [
    {
     "name": "stdout",
     "output_type": "stream",
     "text": [
      "[ 63 166 148 115 114 178  62 154  80  64 128 196 160 164 157 167 126  69\n",
      " 175 117 125 105  77 189 167 146 110 173 131 116]\n"
     ]
    }
   ],
   "source": [
    "# Gere dados de vendas falsos para 30 dias\n",
    "# Vamos supor que as vendas de um produto podem variar de 50 a 200 por dia\n",
    "rng = np.random.default_rng(seed=42) \n",
    "# seed=42 fixa a aleatoriedade. Qquer um que gerar códigos com o mesmo número\n",
    "# terá os mesmo números aleatórios. Pode ser qualquer número depois do seed\n",
    "\n",
    "dados_vendas = rng.integers(low=50, high=200, size=30) # 30 números aleatórios\n",
    "print(dados_vendas)"
   ]
  },
  {
   "cell_type": "code",
   "execution_count": null,
   "metadata": {},
   "outputs": [
    {
     "name": "stdout",
     "output_type": "stream",
     "text": [
      "196\n",
      "62\n"
     ]
    }
   ],
   "source": [
    "# Valor máximo:\n",
    "print(np.max(dados_vendas))\n",
    "\n",
    "# Valor mínimo:\n",
    "print(np.min(dados_vendas))"
   ]
  },
  {
   "cell_type": "markdown",
   "metadata": {
    "id": "PMoBGzLJqx4Q"
   },
   "source": [
    "Agora, você pode usar esses dados para realizar várias análises. Por exemplo, você pode querer saber qual foi o dia com as vendas mais altas, as vendas mais baixas, ou a média de vendas durante o mês. Aqui está como você pode fazer isso:\n",
    "\n"
   ]
  },
  {
   "cell_type": "code",
   "execution_count": 35,
   "metadata": {
    "id": "o19wgc_Fq8M_"
   },
   "outputs": [
    {
     "name": "stdout",
     "output_type": "stream",
     "text": [
      "O dia do valor máximo é o 12º dia\n",
      "O dia do valor mínimo é o 7º dia\n"
     ]
    }
   ],
   "source": [
    "# Qual o dia do valor máximo\n",
    "dia_max = np.argmax(dados_vendas)\n",
    "print(f\"O dia do valor máximo é o {dia_max + 1}º dia\")\n",
    "# dia_max + 1 --> lembre que sempre começa no 0. \n",
    "# Então, o dado da posição 11 é o dia 12\n",
    "\n",
    "dia_min = np.argmin(dados_vendas)\n",
    "print(f\"O dia do valor mínimo é o {dia_min + 1}º dia\")"
   ]
  },
  {
   "cell_type": "code",
   "execution_count": null,
   "metadata": {},
   "outputs": [
    {
     "name": "stdout",
     "output_type": "stream",
     "text": [
      "A média de vendas no mês foi de R$131.40\n"
     ]
    }
   ],
   "source": [
    "# Média de vendas:\n",
    "media_vendas = np.mean(dados_vendas)\n",
    "print(f\"A média de vendas no mês foi de R${media_vendas:.2f} por dia\")"
   ]
  },
  {
   "cell_type": "markdown",
   "metadata": {
    "id": "jlm7p2F-qx4T"
   },
   "source": [
    "Breve resumo e conceitos simplificados das funções estatísticas citadas:\n",
    "\n",
    "1. Mediana:\n",
    "A mediana é um valor que divide um conjunto de dados em duas partes iguais. Para encontrá-la, você deve organizar os dados em ordem crescente ou decrescente e escolher o valor do meio. Se houver um número ímpar de dados, a mediana será exatamente o valor central. Se houver um número par de dados, a mediana será a média dos dois valores do meio.\n",
    "\n",
    "2. Percentil:\n",
    "O percentil é uma medida estatística que indica a posição relativa de um dado dentro de um conjunto de dados. Ele informa a porcentagem de valores que estão abaixo desse dado. Por exemplo, o percentil 50 (também conhecido como mediana) divide os dados em duas partes iguais, com 50% dos valores abaixo dele e 50% acima.\n",
    "\n",
    "3. Desvio padrão:\n",
    "O desvio padrão é uma medida que indica o quão dispersos os valores de um conjunto de dados estão em relação à média. Ele mostra a variabilidade dos dados em relação ao valor médio. Um desvio padrão maior indica que os dados estão mais espalhados, enquanto um desvio padrão menor indica que os dados estão mais próximos da média.\n",
    "\n",
    "4. Variância:\n",
    "A variância é outra medida de dispersão que indica o quão distantes os valores de um conjunto de dados estão da média. Ela é calculada como a média dos quadrados das diferenças entre cada valor e a média. A variância fornece uma medida da dispersão total dos dados, independentemente de serem maiores ou menores que a média.\n",
    "\n",
    "Essas medidas são amplamente utilizadas na estatística para resumir e analisar conjuntos de dados. Elas fornecem informações valiosas sobre a distribuição, a variabilidade e a posição dos dados, permitindo uma compreensão mais completa dos mesmos."
   ]
  },
  {
   "cell_type": "code",
   "execution_count": 40,
   "metadata": {},
   "outputs": [
    {
     "name": "stdout",
     "output_type": "stream",
     "text": [
      "129.5\n",
      "129.5\n",
      "39.305300745149715\n",
      "1544.9066666666665\n"
     ]
    }
   ],
   "source": [
    "# Mediana:\n",
    "print(np.median(dados_vendas))\n",
    "\n",
    "# Percentual:\n",
    "print(np.percentile(dados_vendas, 50))\n",
    "\n",
    "# Desvio Padrão:\n",
    "print(np.std(dados_vendas))\n",
    "\n",
    "# Variância:\n",
    "print(np.var(dados_vendas))"
   ]
  }
 ],
 "metadata": {
  "colab": {
   "provenance": []
  },
  "kernelspec": {
   "display_name": "Python 3",
   "language": "python",
   "name": "python3"
  },
  "language_info": {
   "codemirror_mode": {
    "name": "ipython",
    "version": 3
   },
   "file_extension": ".py",
   "mimetype": "text/x-python",
   "name": "python",
   "nbconvert_exporter": "python",
   "pygments_lexer": "ipython3",
   "version": "3.12.2"
  }
 },
 "nbformat": 4,
 "nbformat_minor": 0
}
