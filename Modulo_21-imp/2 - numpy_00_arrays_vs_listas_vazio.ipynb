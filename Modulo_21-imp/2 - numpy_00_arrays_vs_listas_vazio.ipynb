{
 "cells": [
  {
   "cell_type": "markdown",
   "metadata": {
    "id": "BVKaxu0ppS0l"
   },
   "source": [
    "# Guia de Introdução ao NumPy\n",
    "\n",
    "NumPy, que significa Numerical Python, é uma biblioteca fundamental para a computação científica em Python. Mas suas capacidades vão muito além disso, como veremos nos nestes vídeos. E ele serve como uma boa base para o Pandas, que é uma das bibliotecas mais populares para análise de dados em Python."
   ]
  },
  {
   "cell_type": "markdown",
   "metadata": {
    "id": "oEtVeUhWpS0o"
   },
   "source": [
    "## Instalação\n",
    "\n",
    "Para instalar o NumPy, você pode usar o comando `pip install numpy` no terminal."
   ]
  },
  {
   "cell_type": "code",
   "execution_count": null,
   "metadata": {
    "id": "AFLu4-arpS0o",
    "jupyter": {
     "outputs_hidden": false
    }
   },
   "outputs": [],
   "source": [
    "# !pip install numpy"
   ]
  },
  {
   "cell_type": "markdown",
   "metadata": {
    "id": "JG5mbDHvpS0p"
   },
   "source": [
    "## Arrays NumPy\n",
    "\n",
    "Um array é uma estrutura de dados que armazena valores de um mesmo tipo. Em Python, isso é uma grande vantagem porque economiza espaço e permite operações mais eficientes."
   ]
  },
  {
   "cell_type": "code",
   "execution_count": 1,
   "metadata": {
    "id": "wou4zRsipYcR"
   },
   "outputs": [
    {
     "name": "stdout",
     "output_type": "stream",
     "text": [
      "[1 2 3 4 5]\n"
     ]
    }
   ],
   "source": [
    "import numpy as np\n",
    "\n",
    "array = np.array([1, 2, 3, 4, 5])\n",
    "\n",
    "print(array)"
   ]
  },
  {
   "cell_type": "markdown",
   "metadata": {
    "id": "byBKpRdnpS0q"
   },
   "source": [
    "É relevante entender a diferença entre uma lista e um array.\n",
    "\n",
    "Uma **lista** é uma das estruturas de dados mais básicas em Python. Ela pode conter qualquer tipo de elementos, como números, strings, outras listas, e todos eles podem ser de tipos diferentes. Por exemplo:\n"
   ]
  },
  {
   "cell_type": "code",
   "execution_count": 5,
   "metadata": {
    "id": "-lMHXuskpujN"
   },
   "outputs": [
    {
     "name": "stdout",
     "output_type": "stream",
     "text": [
      "[1, 'dois', 3.0]\n",
      "<class 'list'>\n",
      "----------------------------------------------------------------------------------------------------\n",
      "<class 'int'>\n",
      "<class 'str'>\n",
      "<class 'float'>\n"
     ]
    }
   ],
   "source": [
    "lista = [1, \"dois\", 3.0]\n",
    "print(lista)\n",
    "print(type(lista))\n",
    "\n",
    "print(\"-\" * 100)\n",
    "\n",
    "for elemento in lista:\n",
    "    print(type(elemento))"
   ]
  },
  {
   "cell_type": "markdown",
   "metadata": {
    "id": "Tko5ffjnpS0r"
   },
   "source": [
    "Um **array**, por outro lado, é uma estrutura de dados que também armazena elementos, mas todos os elementos devem ser do mesmo tipo. Se você tentar criar um array com elementos de tipos diferentes, o NumPy irá convertê-los todos para o tipo mais geral. Por exemplo:"
   ]
  },
  {
   "cell_type": "code",
   "execution_count": null,
   "metadata": {
    "id": "4mxRmRGrpw_p"
   },
   "outputs": [
    {
     "name": "stdout",
     "output_type": "stream",
     "text": [
      "['1' 'dois' '3.0']\n",
      "<class 'numpy.ndarray'>\n",
      "----------------------------------------------------------------------------------------------------\n",
      "<class 'numpy.str_'>\n",
      "<class 'numpy.str_'>\n",
      "<class 'numpy.str_'>\n",
      "----------------------------------------------------------------------------------------------------\n",
      "<U32\n"
     ]
    }
   ],
   "source": [
    "array = np.array(lista)\n",
    "print(array) # converte tipos diferentes para um mesmo tipo (o mais genérico possível)\n",
    "print(type(array))\n",
    "\n",
    "print(\"-\" * 100)\n",
    "\n",
    "for elemento in array:\n",
    "    print(type(elemento))\n",
    "\n",
    "print(\"-\" * 100)\n",
    "\n",
    "print(array.dtype)\n",
    "# U32 --> Unicode de 32 bites"
   ]
  },
  {
   "cell_type": "markdown",
   "metadata": {
    "id": "npbEgJJkpS0s"
   },
   "source": [
    "\n",
    "## Operações Matemáticas\n",
    "\n",
    "Se você tentar adicionar um número a todos os elementos de uma lista, você receberá um erro.\n",
    "\n"
   ]
  },
  {
   "cell_type": "code",
   "execution_count": 11,
   "metadata": {
    "id": "ZJ3tCJPYpzQf"
   },
   "outputs": [
    {
     "ename": "TypeError",
     "evalue": "can only concatenate list (not \"int\") to list",
     "output_type": "error",
     "traceback": [
      "\u001b[1;31m---------------------------------------------------------------------------\u001b[0m",
      "\u001b[1;31mTypeError\u001b[0m                                 Traceback (most recent call last)",
      "Cell \u001b[1;32mIn[11], line 2\u001b[0m\n\u001b[0;32m      1\u001b[0m lista \u001b[38;5;241m=\u001b[39m [\u001b[38;5;241m1\u001b[39m, \u001b[38;5;241m2\u001b[39m, \u001b[38;5;241m3\u001b[39m, \u001b[38;5;241m4\u001b[39m, \u001b[38;5;241m5\u001b[39m]\n\u001b[1;32m----> 2\u001b[0m nova_lista \u001b[38;5;241m=\u001b[39m \u001b[43mlista\u001b[49m\u001b[43m \u001b[49m\u001b[38;5;241;43m+\u001b[39;49m\u001b[43m \u001b[49m\u001b[38;5;241;43m1\u001b[39;49m\n\u001b[0;32m      3\u001b[0m \u001b[38;5;28mprint\u001b[39m(nova_lista)\n",
      "\u001b[1;31mTypeError\u001b[0m: can only concatenate list (not \"int\") to list"
     ]
    }
   ],
   "source": [
    "lista = [1, 2, 3, 4, 5]\n",
    "nova_lista = lista + 1\n",
    "print(nova_lista)"
   ]
  },
  {
   "cell_type": "code",
   "execution_count": 12,
   "metadata": {},
   "outputs": [
    {
     "name": "stdout",
     "output_type": "stream",
     "text": [
      "[2, 3, 4, 5, 6]\n"
     ]
    }
   ],
   "source": [
    "nova_lista = []\n",
    "\n",
    "for numero in lista:\n",
    "    nova_lista.append(numero + 1)\n",
    "print(nova_lista)"
   ]
  },
  {
   "cell_type": "markdown",
   "metadata": {
    "id": "Q7VujUWXpS0s"
   },
   "source": [
    "Com um array NumPy, você pode adicionar (ou subtrair, multiplicar, dividir) um número a todos os elementos de uma vez.\n",
    "\n"
   ]
  },
  {
   "cell_type": "code",
   "execution_count": 17,
   "metadata": {
    "id": "z_IVsBH9p1Dd"
   },
   "outputs": [
    {
     "name": "stdout",
     "output_type": "stream",
     "text": [
      "[ 6  7  8  9 10]\n",
      "[ 1  4  9 16 25]\n"
     ]
    }
   ],
   "source": [
    "array = np.array([1, 2, 3, 4, 5])\n",
    "novo_array = array + 5\n",
    "novo_array2 = array ** 2\n",
    "print(novo_array)\n",
    "print(novo_array2)"
   ]
  },
  {
   "cell_type": "markdown",
   "metadata": {
    "id": "_T3MaA0NpS0t"
   },
   "source": [
    "## Desempenho\n",
    "\n",
    "Para grandes quantidades de dados, os arrays NumPy são significativamente mais eficientes em termos de memória e desempenho do que as listas Python. Aqui está um exemplo que demonstra isso:\n",
    "\n"
   ]
  },
  {
   "cell_type": "code",
   "execution_count": 19,
   "metadata": {
    "id": "tDG8l7UXp2QF"
   },
   "outputs": [
    {
     "name": "stdout",
     "output_type": "stream",
     "text": [
      "Tempo soma lista: 0.23483991622924805\n",
      "Tempo soma array: 0.0049974918365478516\n"
     ]
    }
   ],
   "source": [
    "import numpy as np\n",
    "import time\n",
    "\n",
    "# Criar uma lista e um array com 10 milhões de números\n",
    "lista = list(range(1, 10_000_001))\n",
    "array = np.array(range(1, 10_000_001))\n",
    "\n",
    "# Calcular a soma de todos os números\n",
    "inicio = time.time()\n",
    "soma_lista = sum(lista)\n",
    "fim = time.time()\n",
    "print(f\"Tempo soma lista: {fim - inicio}\")\n",
    "\n",
    "# Calcular a soma de todos os arrays\n",
    "inicio = time.time()\n",
    "soma_array = np.sum(array)\n",
    "fim = time.time()\n",
    "print(f\"Tempo soma array: {fim - inicio}\")"
   ]
  },
  {
   "cell_type": "markdown",
   "metadata": {
    "id": "8OSreiN_pS0t"
   },
   "source": [
    "## Resumindo\n",
    "\n",
    "Aqui estão algumas diferenças chave entre listas e arrays:\n",
    "\n",
    "1. **Tipo de dados**: As listas podem armazenar elementos de tipos diferentes ao mesmo tempo, enquanto os arrays armazenam elementos do mesmo tipo.\n",
    "\n",
    "2. **Operações matemáticas**: Você pode realizar operações matemáticas em todos os elementos de um array de uma vez, o que não é possível com listas.\n",
    "\n",
    "3. **Desempenho**: Arrays são mais eficientes em termos de memória e desempenho do que listas quando se trabalha com grandes quantidades de dados numéricos.\n",
    "\n",
    "4. **Funcionalidades**: NumPy arrays vêm com várias funções integradas para operações matemáticas e científicas, como média, soma, multiplicação de matrizes, etc., que não estão disponíveis com listas.\n"
   ]
  }
 ],
 "metadata": {
  "colab": {
   "provenance": []
  },
  "kernelspec": {
   "display_name": "Python 3",
   "language": "python",
   "name": "python3"
  },
  "language_info": {
   "codemirror_mode": {
    "name": "ipython",
    "version": 3
   },
   "file_extension": ".py",
   "mimetype": "text/x-python",
   "name": "python",
   "nbconvert_exporter": "python",
   "pygments_lexer": "ipython3",
   "version": "3.12.2"
  }
 },
 "nbformat": 4,
 "nbformat_minor": 0
}
