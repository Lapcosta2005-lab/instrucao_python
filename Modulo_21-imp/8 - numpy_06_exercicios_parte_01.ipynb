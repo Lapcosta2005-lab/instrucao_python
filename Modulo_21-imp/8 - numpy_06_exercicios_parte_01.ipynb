{
 "cells": [
  {
   "cell_type": "markdown",
   "metadata": {},
   "source": [
    "## Exercício\n",
    "\n",
    "Você é um analista de RH e tem os salários de todos os funcionários da sua empresa em um array NumPy. Seu trabalho é identificar quantos funcionários ganham acima da média. Use o seguinte array para sua análise: `salarios = np.array([3000, 2500, 3500, 4000, 2000, 4500, 3000, 3800, 4800])`."
   ]
  },
  {
   "cell_type": "code",
   "execution_count": 1,
   "metadata": {
    "ExecuteTime": {
     "end_time": "2023-07-03T17:58:55.261401600Z",
     "start_time": "2023-07-03T17:58:55.249755Z"
    },
    "collapsed": false,
    "jupyter": {
     "outputs_hidden": false
    }
   },
   "outputs": [
    {
     "name": "stdout",
     "output_type": "stream",
     "text": [
      "3455.5555555555557\n"
     ]
    }
   ],
   "source": [
    "import numpy as np\n",
    "\n",
    "salarios = np.array([3000, 2500, 3500, 4000, 2000, 4500, 3000, 3800, 4800])\n",
    "\n",
    "media = np.mean(salarios)\n",
    "print(media)\n"
   ]
  },
  {
   "cell_type": "code",
   "execution_count": 7,
   "metadata": {},
   "outputs": [
    {
     "name": "stdout",
     "output_type": "stream",
     "text": [
      "[3500 4000 4500 3800 4800]\n",
      "5\n"
     ]
    }
   ],
   "source": [
    "acima_media = np.where(salarios > media)\n",
    "print(salarios[acima_media])\n",
    "func_sal_acima_media = len(salarios[acima_media])\n",
    "print(func_sal_acima_media)"
   ]
  },
  {
   "cell_type": "code",
   "execution_count": 14,
   "metadata": {},
   "outputs": [
    {
     "name": "stdout",
     "output_type": "stream",
     "text": [
      "[False False  True  True False  True False  True  True]\n",
      "5 funcionários acima da média\n"
     ]
    }
   ],
   "source": [
    "print(salarios > media)\n",
    "func_sal_acima_media = np.sum(salarios > media)\n",
    "print(f\"{func_sal_acima_media} funcionários acima da média\")"
   ]
  },
  {
   "cell_type": "code",
   "execution_count": 13,
   "metadata": {},
   "outputs": [
    {
     "name": "stdout",
     "output_type": "stream",
     "text": [
      "True\n",
      "False\n",
      "3\n"
     ]
    }
   ],
   "source": [
    "print(True == 1)\n",
    "print(True == 0)\n",
    "print(sum([True, True, True, False]))"
   ]
  },
  {
   "cell_type": "code",
   "execution_count": 19,
   "metadata": {},
   "outputs": [
    {
     "name": "stdout",
     "output_type": "stream",
     "text": [
      "5\n",
      "[False  True]\n",
      "(array([False,  True]), array([4, 5]))\n",
      "[False  True]\n",
      "[4 5]\n"
     ]
    }
   ],
   "source": [
    "# BONUS\n",
    "print(np.count_nonzero(salarios > media))\n",
    "\n",
    "print(np.unique(salarios > media))\n",
    "print(np.unique(salarios > media, return_counts=True))\n",
    "\n",
    "valores_unicos, contagem = np.unique(salarios > media, return_counts=True)\n",
    "print(valores_unicos)\n",
    "print(contagem)\n",
    "\n"
   ]
  },
  {
   "cell_type": "code",
   "execution_count": null,
   "metadata": {},
   "outputs": [
    {
     "name": "stdout",
     "output_type": "stream",
     "text": [
      "[2249 4167 3832 3228 3212 4404 2240 3952 2564 2263 3474 4731 4060 4131\n",
      " 4008 4200 3437 2358 4351 3261]\n",
      "[3401 3038 2511 4595 4189 3803 3127 4304 3527 3242 3261 2636 2258 3553\n",
      " 4486 2178 4404 4318 2775 3769]\n"
     ]
    }
   ],
   "source": [
    "# BONUS 2\n",
    "# Criando 20 valores fictícios de salários com a mesma faixa anterior, tomando cuidado de \n",
    "# outras pessoas gerarem os memso valores.\n",
    "rng = np.random.default_rng(seed=42)\n",
    "# Lembre que a seed fixa os valores\n",
    "\n",
    "salarios_gerados = rng.integers(low=np.min(salarios), high=np.max(salarios), size=20)\n",
    "print(salarios_gerados)\n",
    "\n",
    "salarios_gerados = rng.integers(low=np.min(salarios), high=np.max(salarios), size=20, endpoint=True)\n",
    "# endpoint=True --> Inclui o ultimo valor se for o caso (4800), ou seja o valor de \n",
    "# high=np.max(salarios)\n",
    "print(salarios_gerados)"
   ]
  },
  {
   "cell_type": "code",
   "execution_count": 32,
   "metadata": {},
   "outputs": [
    {
     "name": "stdout",
     "output_type": "stream",
     "text": [
      "2178\n",
      "4595\n",
      "2178\n"
     ]
    }
   ],
   "source": [
    "# BONUS 3\n",
    "# As funções estatísticas também podem ser chamadas como métodos dos arrays\n",
    "print(salarios_gerados.min())\n",
    "print(salarios_gerados.max())\n",
    "print(salarios_gerados.min())"
   ]
  }
 ],
 "metadata": {
  "kernelspec": {
   "display_name": "Python 3",
   "language": "python",
   "name": "python3"
  },
  "language_info": {
   "codemirror_mode": {
    "name": "ipython",
    "version": 3
   },
   "file_extension": ".py",
   "mimetype": "text/x-python",
   "name": "python",
   "nbconvert_exporter": "python",
   "pygments_lexer": "ipython3",
   "version": "3.12.2"
  }
 },
 "nbformat": 4,
 "nbformat_minor": 4
}
