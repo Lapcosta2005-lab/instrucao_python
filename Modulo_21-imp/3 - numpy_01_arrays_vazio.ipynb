{
 "cells": [
  {
   "cell_type": "markdown",
   "metadata": {
    "id": "ES92XHoTqGqP"
   },
   "source": [
    "# Guia de Introdução ao NumPy\n",
    "\n",
    "NumPy, que significa Numerical Python, é uma biblioteca fundamental para a computação científica em Python. Ela fornece suporte para arrays e matrizes, além de funções matemáticas para operações com esses objetos. É, também, a base da biblioteca Pandas.\n",
    "\n"
   ]
  },
  {
   "cell_type": "markdown",
   "metadata": {
    "id": "hA6Up4mtqGqS"
   },
   "source": [
    "## Instalação\n",
    "\n",
    "Para instalar o NumPy, você pode usar o pip, que é o gerenciador de pacotes do Python.\n",
    "\n",
    "```python\n",
    "pip install numpy\n",
    "```\n",
    "\n",
    "## Arrays\n",
    "\n",
    "Um array é uma estrutura de dados que armazena valores do mesmo tipo. Em Python, isso é uma grande vantagem porque economiza espaço e permite operações mais eficientes. Vamos criar um array.\n",
    "\n"
   ]
  },
  {
   "cell_type": "code",
   "execution_count": 5,
   "metadata": {
    "id": "SqSF4w0OqJcf"
   },
   "outputs": [
    {
     "name": "stdout",
     "output_type": "stream",
     "text": [
      "[1 2 3 4 5]\n"
     ]
    }
   ],
   "source": [
    "import numpy as np\n",
    "\n",
    "# criação de um array\n",
    "cria_array = np.array([1, 2, 3, 4, 5])\n",
    "print(cria_array)"
   ]
  },
  {
   "cell_type": "code",
   "execution_count": 15,
   "metadata": {},
   "outputs": [
    {
     "name": "stdout",
     "output_type": "stream",
     "text": [
      "1\n",
      "5\n",
      "[2 3 4]\n",
      "[1 2 3 4]\n",
      "[1 3]\n",
      "[1 3 5]\n",
      "[1 3 5]\n",
      "[1 2 3 4 5]\n",
      "[5 4 3 2 1]\n"
     ]
    }
   ],
   "source": [
    "# \"Slace\" --> [x, y, z]\n",
    "print(cria_array[0])\n",
    "print(cria_array[-1]) # coloca o último elemento\n",
    "print(cria_array[1:4])\n",
    "print(cria_array[0:-1]) # exclui o ultimo elemento\n",
    "print(cria_array[0:-1:2])\n",
    "print(cria_array[0::2])\n",
    "print(cria_array[::2])\n",
    "print(cria_array[::])\n",
    "print(cria_array[::-1])"
   ]
  }
 ],
 "metadata": {
  "colab": {
   "provenance": []
  },
  "kernelspec": {
   "display_name": "Python 3",
   "language": "python",
   "name": "python3"
  },
  "language_info": {
   "codemirror_mode": {
    "name": "ipython",
    "version": 3
   },
   "file_extension": ".py",
   "mimetype": "text/x-python",
   "name": "python",
   "nbconvert_exporter": "python",
   "pygments_lexer": "ipython3",
   "version": "3.12.2"
  }
 },
 "nbformat": 4,
 "nbformat_minor": 0
}
