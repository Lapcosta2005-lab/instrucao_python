{
 "cells": [
  {
   "cell_type": "markdown",
   "id": "ac60394f",
   "metadata": {
    "id": "ac60394f"
   },
   "source": [
    "# Estruturas de repetição\n",
    "\n",
    "<span style=\"color: red;\"><b>Todos os exercícios são feitos partindo-se do pressuposto de que todas as entradas são dadas de forma correta. Casos limite não mencionados no enunciado não são abordados porque não fazem parte do exercício.</b></span>"
   ]
  },
  {
   "cell_type": "markdown",
   "id": "017affd0",
   "metadata": {
    "id": "017affd0"
   },
   "source": [
    "#### 1. Faça um programa que peça uma nota, entre zero e dez. Mostre uma mensagem caso o valor seja inválido e continue pedindo até que o usuário informe um valor válido."
   ]
  },
  {
   "cell_type": "code",
   "execution_count": null,
   "id": "5f12870d",
   "metadata": {
    "id": "5f12870d"
   },
   "outputs": [
    {
     "name": "stdout",
     "output_type": "stream",
     "text": [
      "9.0\n"
     ]
    }
   ],
   "source": [
    "# Pedir a nota entre 0 e 10\n",
    "\n",
    "nota = float(input(\"Digite a nota de 0 a 10: \"))\n",
    "\n",
    "while not (0 <= nota <= 10):\n",
    "    nota = float(input(f\"Nota {nota:.2f} inválida! Digite a nota corretamente entre 0 e 10:\"))\n",
    "print(nota)\n",
    "\n",
    "# Mostar mensagem para valor inválido\n",
    "\n",
    "# Pedindo a nota até informar o valor válido\n",
    "\n"
   ]
  },
  {
   "cell_type": "markdown",
   "id": "dd0c6d56",
   "metadata": {
    "id": "dd0c6d56"
   },
   "source": [
    "#### 2. Faça um programa que leia um nome de usuário e a sua senha e não aceite a senha igual ao nome do usuário, mostrando uma mensagem de erro e voltando a pedir as informações."
   ]
  },
  {
   "cell_type": "code",
   "execution_count": 10,
   "id": "f6579866",
   "metadata": {
    "id": "f6579866"
   },
   "outputs": [
    {
     "name": "stdout",
     "output_type": "stream",
     "text": [
      "A senha não pode ser a mesma do login\n",
      "A senha não pode ser a mesma do login\n",
      "lapcosta\n",
      "9210\n"
     ]
    }
   ],
   "source": [
    "login = input(\"Qual é o usuário? \")\n",
    "senha = input(\"Qual a senha? \")\n",
    "\n",
    "while login == senha:\n",
    "    print (\"A senha não pode ser a mesma do login\")\n",
    "    login = input(\"Qual é o usuário? \")\n",
    "    senha = input(\"Qual a senha? \")\n",
    "print(login)\n",
    "print(senha)\n"
   ]
  },
  {
   "cell_type": "markdown",
   "id": "ed113a82",
   "metadata": {
    "id": "ed113a82"
   },
   "source": [
    "#### 3. Faça um programa que leia e valide as seguintes informações (e para cada uma delas, continue pedindo a informação até o usuário inserir corretamente):\n",
    "##### Nome: maior que 3 caracteres;\n",
    "##### Idade: entre 0 e 150;\n",
    "##### Salário: maior que zero;\n",
    "##### Sexo: 'f' ou 'm';\n",
    "##### Estado Civil: 's', 'c', 'v', 'd';"
   ]
  },
  {
   "cell_type": "code",
   "execution_count": 1,
   "id": "3284f187",
   "metadata": {
    "id": "3284f187"
   },
   "outputs": [
    {
     "name": "stdout",
     "output_type": "stream",
     "text": [
      "Digite corretamente o estado civil.\n",
      "André\n",
      "52\n",
      "18000.0\n",
      "m\n",
      "c\n"
     ]
    }
   ],
   "source": [
    "nome = input(\"Qual o seu nome? \")\n",
    "while len(nome) < 4:\n",
    "    print(\"O nome deve ter mais que 3 caracteres.\")\n",
    "    nome = input(\"Qual o seu nome? \")\n",
    "\n",
    "idade = int(input(f\"Qual a sua idade {nome}? \"))\n",
    "while not (0 <= idade <= 150):\n",
    "    print(\"A idade deve estar ente 0 e 150 anos.\")\n",
    "    idade = int(input(f\"Qual a sua idade {nome}? \"))\n",
    "\n",
    "salario = input(f\"Qual o seu salário {nome}? \")\n",
    "while True:\n",
    "    if salario == \"\":\n",
    "        print(\"Você deve digitar o seu salário\")\n",
    "        salario = int(input(f\"Qual o seu salário {nome}? \"))\n",
    "    else:\n",
    "        try:\n",
    "            salario = float(salario)\n",
    "            if salario <= 0:\n",
    "                print(\"O salário deve ser maior que 0 (zero).\")\n",
    "                salario = input(f\"Qual o seu salário {nome}? \")\n",
    "            else:\n",
    "                break  # Sai do loop se o salário for válido\n",
    "        except ValueError:\n",
    "            print(\"Por favor, digite um número válido para o salário.\")\n",
    "            salario = input(f\"Qual o seu salário {nome}? \")\n",
    "\n",
    "sexo = input(\"Qual o seu sexo (f = feminino, m = masculino)? \")\n",
    "sexo = sexo.lower()\n",
    "while not sexo in [\"m\", \"f\"]:\n",
    "    print(\"Digite corretamente o sexo - f para feminino e m para masculino: \")\n",
    "    sexo = input(\"Qual o seu sexo (f = feminino, m = masculino)? \")\n",
    "    sexo = sexo.lower()\n",
    "\n",
    "civil = input(\"Qual seu estado civil (s - colteiro, c - casado, v - viúvo, d - divorciado)\").lower()\n",
    "while not civil in [\"s\", \"c\", \"v\", \"v\"]:\n",
    "    print(\"Digite corretamente o estado civil.\")\n",
    "    civil = input(\"Qual seu estado civil (s - colteiro, c - casado, v - viúvo, d - divorciado)\").lower()\n",
    "\n",
    "print(nome)\n",
    "print(idade)\n",
    "print(salario)\n",
    "print(sexo)\n",
    "print(civil)\n",
    "\n",
    "            "
   ]
  },
  {
   "cell_type": "markdown",
   "id": "2f25dceb",
   "metadata": {
    "id": "2f25dceb"
   },
   "source": [
    "#### 4. Supondo que a população de um país A seja da ordem de 80000 habitantes com uma taxa anual de crescimento de 3% e que a população de B seja 200000 habitantes com uma taxa de crescimento de 1.5%. Faça um programa que calcule e escreva o número de anos necessários para que a população do país A ultrapasse ou iguale a população do país B, mantidas as taxas de crescimento."
   ]
  },
  {
   "cell_type": "code",
   "execution_count": null,
   "id": "7ad0f5e9",
   "metadata": {
    "id": "7ad0f5e9"
   },
   "outputs": [
    {
     "name": "stdout",
     "output_type": "stream",
     "text": [
      "\n",
      "População cidade A: 80000.0, com taxa de crescomento de 8.00%\n",
      "População cidade B: 100000.0, com taxa de crescimento de 4.00%\n",
      "Serão necessários 6 anos para que a cidade A alcance a cidade B\n",
      "\n",
      "População cidade A: 500000.0, com taxa de crescomento de 1.00%\n",
      "População cidade B: 310000.0, com taxa de crescimento de 1.30%\n",
      "Serão necessários 162 anos para que a cidade B alcance a cidade A\n"
     ]
    }
   ],
   "source": [
    "# pop_final_a = 80000 * (1 + 0.03) ^ t\n",
    "# pop_final_b = 200000 * (1 + 0.015) ^ t\n",
    "# pop_final_a = pop_final_b\n",
    "repete = \"s\"\n",
    "\n",
    "while repete == \"s\":\n",
    "    pop_a = float(input(\"Qual a população da cidade A? \"))\n",
    "    pop_b = float(input(\"Qual a população da cidade B? \"))\n",
    "    taxa_a = float(input(\"qual a taxa de crescimento da cisase A? \"))\n",
    "    taxa_a /= 100\n",
    "    taxa_b = float(input(\"Qual a taxa de crescimento da cidade B\"))\n",
    "    taxa_b /= 100\n",
    "    t = 0\n",
    "\n",
    "    print(f\"\\nPopulação cidade A: {pop_a}, com taxa de crescimento de {taxa_a:.2%}\")\n",
    "    print(f\"População cidade B: {pop_b}, com taxa de crescimento de {taxa_b:.2%}\")\n",
    "\n",
    "    if (pop_a < pop_b) and (taxa_a > taxa_b):\n",
    "        while pop_a <= pop_b:\n",
    "            pop_a += pop_a * taxa_a\n",
    "            pop_b += pop_b * taxa_b\n",
    "            t += 1\n",
    "        print(f\"Serão necessários {t} anos para que a cidade A alcance a cidade B\")\n",
    "    elif (pop_a > pop_b) and (taxa_a < taxa_b):\n",
    "        while pop_b <= pop_a:\n",
    "            pop_a += pop_a * taxa_a\n",
    "            pop_b += pop_b * taxa_b\n",
    "            t += 1\n",
    "        print(f\"Serão necessários {t} anos para que a cidade B alcance a cidade A\")\n",
    "    else:\n",
    "        print(\"As cidades nunca terão a mesma população\")\n",
    "    repete = input('Deseja repetir a operação? Tecle \"s\" para sim, qualquer outra tecla para não.')"
   ]
  },
  {
   "cell_type": "markdown",
   "id": "e9626858",
   "metadata": {
    "id": "e9626858"
   },
   "source": [
    "#### 5. Altere o programa anterior permitindo ao usuário informar as populações e as taxas de crescimento iniciais. Valide a entrada e permita repetir a operação."
   ]
  },
  {
   "cell_type": "code",
   "execution_count": null,
   "id": "c7e250a4",
   "metadata": {
    "id": "c7e250a4"
   },
   "outputs": [],
   "source": []
  },
  {
   "cell_type": "markdown",
   "id": "b3d268b5",
   "metadata": {
    "id": "b3d268b5"
   },
   "source": [
    "#### 6. Faça um programa que peça para o usuário inserir o faturamento dos últimos 5 meses (individualmente) e informe o maior faturamento"
   ]
  },
  {
   "cell_type": "code",
   "execution_count": 10,
   "id": "8078e7a5",
   "metadata": {
    "id": "8078e7a5"
   },
   "outputs": [
    {
     "name": "stdout",
     "output_type": "stream",
     "text": [
      "O faturamento nos 5 meses foi:\n",
      "Mês 1: R$120.00\n",
      "Mês 2: R$240.00\n",
      "Mês 3: R$300.00\n",
      "Mês 4: R$600.00\n",
      "Mês 5: R$450.60\n",
      "\n",
      "O maior faturamento é de R$600.00\n",
      "A média de faturamento nos 5 meses é de R$342.12\n"
     ]
    }
   ],
   "source": [
    "tempo = int(input(\"Quanto tempo de faturamento você quer analisar? \"))\n",
    "tab_faturamento = []\n",
    "cont_tempo = 0\n",
    "soma_faturamento = 0\n",
    "\n",
    "while cont_tempo < tempo:\n",
    "    faturamento = float(input(f\"Qual o valor do faturamento {cont_tempo + 1}: \"))\n",
    "    soma_faturamento += faturamento\n",
    "    tab_faturamento.append(faturamento)\n",
    "    cont_tempo += 1\n",
    "\n",
    "print(f\"O faturamento nos {tempo} meses foi:\")\n",
    "for i in range(tempo):\n",
    "    print(f\"Mês {i + 1}: R${tab_faturamento[i]:.2f}\")\n",
    "\n",
    "print(f\"\\nO maior faturamento é de R${max(tab_faturamento):.2f}\")\n",
    "print(f\"A média de faturamento nos {tempo} meses é de R${soma_faturamento / tempo:.2f}\")\n"
   ]
  },
  {
   "cell_type": "markdown",
   "id": "6407824c",
   "metadata": {
    "id": "6407824c"
   },
   "source": [
    "#### 7. Faça um programa que peça para o usuário inserir o faturamento dos últimos 5 meses (individualmente) e informe o faturamento total (soma) e o faturamento médio por mês (média)."
   ]
  },
  {
   "cell_type": "code",
   "execution_count": null,
   "id": "a02320d1",
   "metadata": {
    "id": "a02320d1"
   },
   "outputs": [],
   "source": []
  },
  {
   "cell_type": "markdown",
   "id": "703f3c4d",
   "metadata": {
    "id": "703f3c4d"
   },
   "source": [
    "#### 8. Faça um programa que consiga categorizar a idade das equipes de uma empresa. Faça um programa que peça para n pessoas a sua idade, ao final o programa devera verificar se a média de idade da equipe varia entre 0 e 25 (jovem) ,26 e 60 (sênior) e maior que 60 (idosa); e então, dizer se a equipe é jovem, sênior ou idosa, conforme a média calculada."
   ]
  },
  {
   "cell_type": "code",
   "execution_count": null,
   "id": "b56a85de",
   "metadata": {
    "id": "b56a85de"
   },
   "outputs": [
    {
     "name": "stdout",
     "output_type": "stream",
     "text": [
      "A equipe possui uma média de idade de 59.0anos, considerada sênior.\n"
     ]
    }
   ],
   "source": [
    "idade = input(\"Qual a idade (Enter para fechar)? \")\n",
    "tab_idade = []\n",
    "soma_idade = 0\n",
    "contador = 0\n",
    "\n",
    "while True:\n",
    "    if idade != \"\":\n",
    "        idade = int(idade)\n",
    "        soma_idade += idade\n",
    "        tab_idade.append(idade)\n",
    "        contador += 1\n",
    "        idade = input(\"Qual a idade (Enter para fechar)? \")\n",
    "    else:\n",
    "        break\n",
    "media_idade = soma_idade / contador\n",
    "\n",
    "if media_idade > 60:\n",
    "    print(f\"A equipe possui uma média de idade de {media_idade:.1f}anos, considerada idosa.\")\n",
    "elif media_idade > 26:\n",
    "    print(f\"A equipe possui uma média de idade de {media_idade:.1f}anos, considerada sênior.\")\n",
    "else:\n",
    "    print(f\"A equipe possui uma média de idade de {media_idade:.1f}anos, considerada jovem.\")"
   ]
  },
  {
   "cell_type": "markdown",
   "id": "aad21b98",
   "metadata": {
    "id": "aad21b98"
   },
   "source": [
    "#### 9. Numa eleição existem três candidatos. Faça um programa que peça o número total de eleitores. Peça para cada eleitor votar e ao final mostrar o número de votos de cada candidato."
   ]
  },
  {
   "cell_type": "code",
   "execution_count": null,
   "id": "84aa7a93",
   "metadata": {
    "id": "84aa7a93"
   },
   "outputs": [
    {
     "name": "stdout",
     "output_type": "stream",
     "text": [
      "Você não selecionou adequadamente o seu candidato\n",
      "Canditado A: 4 vtos\n",
      "Canditado B: 2 vtos\n",
      "Canditado C: 4 vtos\n"
     ]
    }
   ],
   "source": [
    "candidatos = [\"a\", \"b\", \"c\"]\n",
    "qtde_eleitores = int(input(\"Quantos eleitpres há no município? \"))\n",
    "cont_eleitor = 0\n",
    "lista_voto = []\n",
    "\n",
    "while cont_eleitor <= qtde_eleitores - 1:\n",
    "    voto_eleitor = input(f\"Em qual canditado você quer votar? {candidatos} / Vote aqui --> \").lower()\n",
    "    if voto_eleitor in candidatos:\n",
    "        lista_voto.append(voto_eleitor)\n",
    "        cont_eleitor += 1\n",
    "    else:\n",
    "        print(\"Você não selecionou adequadamente o seu candidato\")\n",
    "        continue\n",
    "\n",
    "voto_a = lista_voto.count(\"a\")\n",
    "voto_b = lista_voto.count(\"b\")\n",
    "voto_c = lista_voto.count(\"c\")\n",
    "\n",
    "print(f\"Canditado A: {voto_a} vtos\")\n",
    "print(f\"Canditado B: {voto_b} vtos\")\n",
    "print(f\"Canditado C: {voto_c} vtos\")\n",
    "\n"
   ]
  },
  {
   "cell_type": "markdown",
   "id": "6e306453",
   "metadata": {
    "id": "6e306453"
   },
   "source": [
    "#### 10. Faça um programa que calcule o valor total investido por um colecionador em sua coleção de CDs e o valor médio gasto em cada um deles. O usuário deverá informar a quantidade de CDs e o valor para em cada um."
   ]
  },
  {
   "cell_type": "code",
   "execution_count": null,
   "id": "6b7fa4a2",
   "metadata": {
    "id": "6b7fa4a2"
   },
   "outputs": [
    {
     "name": "stdout",
     "output_type": "stream",
     "text": [
      "[['pink Floyd', 100.0], ['Guns', 400.0], ['Rita', 300.0]]\n",
      " O custo total dos LPs adquiridos foi de: R$800.00\n",
      "A quantidade de discos é de 3 LPs\n",
      "Disco: pink Floyd / Custo: 100.0\n",
      "Disco: Guns / Custo: 400.0\n",
      "Disco: Rita / Custo: 300.0\n"
     ]
    }
   ],
   "source": [
    "nome_lp = input(\"Informe o nome do LP em que vc investiu: \")\n",
    "custo_lp = float(input(f\"Qual o valor do lp {nome_lp}? \"))\n",
    "\n",
    "lista_lp = []\n",
    "\n",
    "while nome_lp != '':\n",
    "    lista_lp.append([nome_lp, custo_lp])\n",
    "    nome_lp = input(\"Informe o nome do LP em que vc investiu: \")\n",
    "    if nome_lp == \"\":\n",
    "        break\n",
    "    else:\n",
    "        try:\n",
    "            custo_lp = float(input(f\"Qual o valor do lp {nome_lp}? \"))\n",
    "        except ValueError:\n",
    "            break\n",
    "print(lista_lp)\n",
    "\n",
    "qtd_lp = len(lista_lp)\n",
    "valor_discos = sum(disco[1] for disco in lista_lp)\n",
    "\n",
    "print(f\"O custo total dos LPs adquiridos foi de: R${valor_discos:.2f}\")\n",
    "print(f\"A quantidade de discos é de {qtd_lp} LPs\")\n",
    "\n",
    "for i in range(qtd_lp):\n",
    "    print(f\"Disco: {lista_lp[i][0]} / Custo: {lista_lp[i][1]}\")\n"
   ]
  },
  {
   "cell_type": "markdown",
   "id": "f19c8d86",
   "metadata": {
    "id": "f19c8d86"
   },
   "source": [
    "#### 11. O Sr. Manoel Joaquim possui uma grande loja de artigos de R\\\\$ 1,99, com cerca de 10 caixas. Para agilizar o cálculo de quanto cada cliente deve pagar ele desenvolveu um tabela que contém o número de itens que o cliente comprou e ao lado o valor da conta. Desta forma a atendente do caixa precisa apenas contar quantos itens o cliente está levando e olhar na tabela de preços. Você foi contratado para desenvolver o programa que monta esta tabela de preços, que conterá os preços de 1 até 50 produtos, conforme o exemplo abaixo:\n",
    "<pre>\n",
    "Lojas Quase Dois - Tabela de preços\n",
    "1 - R$ 1.99\n",
    "2 - R$ 3.98\n",
    "...\n",
    "50 - R$ 99.50\n",
    "</pre>"
   ]
  },
  {
   "cell_type": "code",
   "execution_count": 37,
   "id": "4fc4d54d",
   "metadata": {
    "id": "4fc4d54d"
   },
   "outputs": [
    {
     "name": "stdout",
     "output_type": "stream",
     "text": [
      "1 - R$ 1.99\n",
      "2 - R$ 3.98\n",
      "3 - R$ 5.97\n",
      "4 - R$ 7.96\n",
      "5 - R$ 9.95\n",
      "6 - R$ 11.94\n",
      "7 - R$ 13.93\n",
      "8 - R$ 15.92\n",
      "9 - R$ 17.91\n",
      "10 - R$ 19.90\n",
      "11 - R$ 21.89\n",
      "12 - R$ 23.88\n",
      "13 - R$ 25.87\n",
      "14 - R$ 27.86\n",
      "15 - R$ 29.85\n",
      "16 - R$ 31.84\n",
      "17 - R$ 33.83\n",
      "18 - R$ 35.82\n",
      "19 - R$ 37.81\n",
      "20 - R$ 39.80\n",
      "21 - R$ 41.79\n",
      "22 - R$ 43.78\n",
      "23 - R$ 45.77\n",
      "24 - R$ 47.76\n",
      "25 - R$ 49.75\n",
      "26 - R$ 51.74\n",
      "27 - R$ 53.73\n",
      "28 - R$ 55.72\n",
      "29 - R$ 57.71\n",
      "30 - R$ 59.70\n",
      "31 - R$ 61.69\n",
      "32 - R$ 63.68\n",
      "33 - R$ 65.67\n",
      "34 - R$ 67.66\n",
      "35 - R$ 69.65\n",
      "36 - R$ 71.64\n",
      "37 - R$ 73.63\n",
      "38 - R$ 75.62\n",
      "39 - R$ 77.61\n",
      "40 - R$ 79.60\n",
      "41 - R$ 81.59\n",
      "42 - R$ 83.58\n",
      "43 - R$ 85.57\n",
      "44 - R$ 87.56\n",
      "45 - R$ 89.55\n",
      "46 - R$ 91.54\n",
      "47 - R$ 93.53\n",
      "48 - R$ 95.52\n",
      "49 - R$ 97.51\n",
      "50 - R$ 99.50\n"
     ]
    }
   ],
   "source": [
    "\n",
    "for i in range(50):\n",
    "    print(f\"{i + 1} - R$ {(i + 1) * 1.99:.2f}\")"
   ]
  },
  {
   "cell_type": "markdown",
   "id": "6cd19c52",
   "metadata": {
    "id": "6cd19c52"
   },
   "source": [
    "#### 12. Um funcionário de uma empresa recebe aumento salarial anualmente: Sabe-se que:\n",
    "<pre>\n",
    "Esse funcionário foi contratado em 1995, com salário inicial de R$ 1.000,00;\n",
    "Em 1996 recebeu aumento de 1,5% sobre seu salário inicial;\n",
    "A partir de 1997 (inclusive), os aumentos salariais sempre correspondem ao dobro do percentual do ano anterior. Faça um programa que \n",
    "determine o salário desse funcionário em 2003. \n",
    "</pre>"
   ]
  },
  {
   "cell_type": "code",
   "execution_count": 41,
   "id": "98a4811b",
   "metadata": {
    "id": "98a4811b"
   },
   "outputs": [
    {
     "name": "stdout",
     "output_type": "stream",
     "text": [
      "Ano 1996: R$1015.00\n",
      "Ano 1997: R$1045.45\n",
      "Ano 1998: R$1108.18\n",
      "Ano 1999: R$1241.16\n",
      "Ano 2000: R$1539.04\n",
      "Ano 2001: R$2277.77\n",
      "Ano 2002: R$4464.44\n",
      "Ano 2003: R$13036.15\n"
     ]
    }
   ],
   "source": [
    "salario = 1000\n",
    "ano = 1996\n",
    "taxa = 1.5 / 100\n",
    "\n",
    "while ano <= 2003:\n",
    "    salario += salario * taxa\n",
    "    print(f\"Ano {ano}: R${salario:.2f}\")\n",
    "    ano += 1\n",
    "    taxa = 2 * taxa\n",
    "\n"
   ]
  },
  {
   "cell_type": "markdown",
   "id": "227928d1",
   "metadata": {
    "id": "227928d1"
   },
   "source": [
    "#### 13. O cardápio de uma lanchonete é o seguinte:\n",
    "<pre>\n",
    "Especificação   Código  Preço\n",
    "Cachorro Quente 100     R$ 1,20\n",
    "Bauru Simples   101     R$ 1,30\n",
    "Bauru com ovo   102     R$ 1,50\n",
    "Hambúrguer      103     R$ 1,20\n",
    "Cheeseburguer   104     R$ 1,30\n",
    "Refrigerante    105     R$ 1,00\n",
    "Faça um programa que leia o código dos itens pedidos e as quantidades desejadas. Calcule e mostre o valor a ser pago por item \n",
    "(preço * quantidade) e o total geral do pedido. Considere que o cliente deve informar quando o pedido deve ser encerrado.\n",
    "</pre>"
   ]
  },
  {
   "cell_type": "code",
   "execution_count": null,
   "id": "8a784b86",
   "metadata": {
    "id": "8a784b86"
   },
   "outputs": [
    {
     "name": "stdout",
     "output_type": "stream",
     "text": [
      "xis\n",
      "[]\n"
     ]
    },
    {
     "ename": "",
     "evalue": "",
     "output_type": "error",
     "traceback": [
      "\u001b[1;31mThe Kernel crashed while executing code in the current cell or a previous cell. \n",
      "\u001b[1;31mPlease review the code in the cell(s) to identify a possible cause of the failure. \n",
      "\u001b[1;31mClick <a href='https://aka.ms/vscodeJupyterKernelCrash'>here</a> for more info. \n",
      "\u001b[1;31mView Jupyter <a href='command:jupyter.viewOutput'>log</a> for further details."
     ]
    }
   ],
   "source": [
    "cardapio = [\n",
    "    ['cachorro quente', 100], \n",
    "    ['bauru simples', 101], \n",
    "    ['bauru com ovo', 102], \n",
    "    ['hamburguer', 102], \n",
    "    ['cheesburger', 104], \n",
    "    ['refrigerante', 105]]\n",
    "\n",
    "preco = [1.2, 1.3, 1.5, 1.2, 1.3, 1]\n",
    "pedido = []\n",
    "total_geral = 0\n",
    "\n",
    "produto = input(\"Selecione o produto desejado (S para sair): \").lower()\n",
    "while not \"s\":\n",
    "    while not produto in cardapio[0]:\n",
    "        print(\"Selecione o produto coorespondente no cardápio.\")\n",
    "        produto = input(\"Selecione o produto desejado: \")\n",
    "    qtde = int(input(f\"Selecione a quantidade de {produto}: \"))\n",
    "    pedido.append([produto, qtde])\n",
    "print(produto)\n",
    "print(pedido)\n",
    "\n",
    "\n"
   ]
  },
  {
   "cell_type": "markdown",
   "id": "9877b8ba",
   "metadata": {
    "id": "9877b8ba"
   },
   "source": [
    "#### 14. Uma grande emissora de televisão quer fazer uma enquete entre os seus telespectadores para saber qual o melhor jogador após cada jogo. Para isto, faz-se necessário o desenvolvimento de um programa, que será utilizado pelas telefonistas, para a computação dos votos. Sua equipe foi contratada para desenvolver este programa, utilizando a linguagem de programação Python. Para computar cada voto, a telefonista digitará um número, entre 1 e 23, correspondente ao número da camisa do jogador. Um número de jogador igual zero, indica que a votação foi encerrada. Se um número inválido for digitado, o programa deve ignorá-lo, mostrando uma breve mensagem de aviso, e voltando a pedir outro número. Após o final da votação, o programa deverá exibir:\n",
    "<pre>a. O total de votos computados;\n",
    "b. Os números e respectivos votos de todos os jogadores que receberam votos;\n",
    "c. O percentual de votos de cada um destes jogadores;\n",
    "d. O número do jogador escolhido como o melhor jogador da partida, juntamente com o número de votos e o percentual de votos dados a ele.\n",
    "        Observe que os votos inválidos e o zero final não devem ser computados como votos. O resultado aparece ordenado pelo número do jogador. O programa deve fazer uso de arrays. O programa deverá executar o cálculo do percentual de cada jogador através de uma função. Esta função receberá dois parâmetros: o número de votos de um jogador e o total de votos. A função calculará o percentual e retornará o valor calculado. Abaixo segue uma tela de exemplo. O disposição das informações deve ser o mais próxima possível ao exemplo. Os dados são fictícios e podem mudar a cada execução do programa. Ao final, o programa deve ainda gravar os dados referentes ao resultado da votação em um arquivo texto no disco, obedecendo a mesma disposição apresentada na tela.</pre>\n",
    "```\n",
    "Enquete: Quem foi o melhor jogador?\n",
    "\n",
    "Número do jogador (0=fim): 9\n",
    "Número do jogador (0=fim): 10\n",
    "Número do jogador (0=fim): 9\n",
    "Número do jogador (0=fim): 10\n",
    "Número do jogador (0=fim): 11\n",
    "Número do jogador (0=fim): 10\n",
    "Número do jogador (0=fim): 50\n",
    "Informe um valor entre 1 e 23 ou 0 para sair!\n",
    "Número do jogador (0=fim): 9\n",
    "Número do jogador (0=fim): 9\n",
    "Número do jogador (0=fim): 0\n",
    "\n",
    "Resultado da votação:\n",
    "\n",
    "Foram computados 8 votos.\n",
    "\n",
    "Jogador Votos           %\n",
    "9               4               50,0%\n",
    "10              3               37,5%\n",
    "11              1               12,5%\n",
    "``` "
   ]
  },
  {
   "cell_type": "code",
   "execution_count": null,
   "id": "79b82364",
   "metadata": {
    "id": "79b82364"
   },
   "outputs": [],
   "source": []
  }
 ],
 "metadata": {
  "colab": {
   "collapsed_sections": [],
   "provenance": []
  },
  "kernelspec": {
   "display_name": "Python 3",
   "language": "python",
   "name": "python3"
  },
  "language_info": {
   "codemirror_mode": {
    "name": "ipython",
    "version": 3
   },
   "file_extension": ".py",
   "mimetype": "text/x-python",
   "name": "python",
   "nbconvert_exporter": "python",
   "pygments_lexer": "ipython3",
   "version": "3.12.2"
  }
 },
 "nbformat": 4,
 "nbformat_minor": 5
}
