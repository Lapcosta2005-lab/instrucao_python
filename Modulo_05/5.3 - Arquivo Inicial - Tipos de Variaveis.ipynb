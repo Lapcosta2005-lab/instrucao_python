{
 "cells": [
  {
   "cell_type": "code",
   "execution_count": 5,
   "metadata": {},
   "outputs": [
    {
     "name": "stdout",
     "output_type": "stream",
     "text": [
      "O faturamento da loja foi 1000\n",
      "O lucro foi de 700\n"
     ]
    }
   ],
   "source": [
    "faturamento = 1000\n",
    "custo = 300\n",
    "lucro = faturamento - custo\n",
    "\n",
    "print('O faturamento da loja foi ' + str(faturamento))\n",
    "print('O lucro foi de ' + str(lucro))"
   ]
  },
  {
   "cell_type": "code",
   "execution_count": 8,
   "metadata": {},
   "outputs": [
    {
     "name": "stdout",
     "output_type": "stream",
     "text": [
      "O seu faturamento foi de 1000.00, com o custo de 300.00, tendo 700.00 como lucro\n"
     ]
    }
   ],
   "source": [
    "print(f\"O seu faturamento foi de {faturamento:.2f}, com o custo de {custo:.2f}, tendo {lucro:.2f} como lucro\")"
   ]
  }
 ],
 "metadata": {
  "kernelspec": {
   "display_name": "Python 3",
   "language": "python",
   "name": "python3"
  },
  "language_info": {
   "codemirror_mode": {
    "name": "ipython",
    "version": 3
   },
   "file_extension": ".py",
   "mimetype": "text/x-python",
   "name": "python",
   "nbconvert_exporter": "python",
   "pygments_lexer": "ipython3",
   "version": "3.11.2"
  }
 },
 "nbformat": 4,
 "nbformat_minor": 4
}
