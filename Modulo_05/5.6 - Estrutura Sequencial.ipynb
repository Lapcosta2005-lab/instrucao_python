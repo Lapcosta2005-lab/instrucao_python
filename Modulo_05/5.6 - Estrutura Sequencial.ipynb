{
 "cells": [
  {
   "cell_type": "markdown",
   "id": "bb0f9514",
   "metadata": {
    "id": "bb0f9514"
   },
   "source": [
    "# Lista de Estrutura Sequencial"
   ]
  },
  {
   "cell_type": "markdown",
   "id": "4e7a8c30",
   "metadata": {
    "id": "4e7a8c30"
   },
   "source": [
    "#### 1. Faça um Programa que mostre a mensagem (print) \"Alo mundo\" na tela."
   ]
  },
  {
   "cell_type": "code",
   "execution_count": 1,
   "id": "883bfe85",
   "metadata": {
    "id": "883bfe85"
   },
   "outputs": [
    {
     "name": "stdout",
     "output_type": "stream",
     "text": [
      "Alô mundo\n"
     ]
    }
   ],
   "source": [
    "print(\"Alô mundo\")"
   ]
  },
  {
   "cell_type": "markdown",
   "id": "71d6d6a2",
   "metadata": {
    "id": "71d6d6a2"
   },
   "source": [
    "#### 2. Faça um Programa que peça um número (input) e então mostre a mensagem: \"O número informado foi [número].\""
   ]
  },
  {
   "cell_type": "code",
   "execution_count": 2,
   "id": "30cfffcf",
   "metadata": {
    "id": "30cfffcf"
   },
   "outputs": [
    {
     "name": "stdout",
     "output_type": "stream",
     "text": [
      "O número informado foi 10.0\n"
     ]
    }
   ],
   "source": [
    "numero = float(input(\"Digite um número: \"))\n",
    "print(f\"O número informado foi {numero}\")"
   ]
  },
  {
   "cell_type": "markdown",
   "id": "c5e43160",
   "metadata": {
    "id": "c5e43160"
   },
   "source": [
    "#### 3. Faça um Programa que peça dois números e imprima a soma."
   ]
  },
  {
   "cell_type": "code",
   "execution_count": 7,
   "id": "b0e79590",
   "metadata": {
    "id": "b0e79590"
   },
   "outputs": [
    {
     "name": "stdout",
     "output_type": "stream",
     "text": [
      "A soma dos números 3.0 e 5.0 é 8.0\n"
     ]
    }
   ],
   "source": [
    "num1 = float(input(\"Qual o primeiro número: \"))\n",
    "num2 = float(input(\"Qual o segundo número: \"))\n",
    "\n",
    "print(f\"A soma dos números {num1} e {num2} é {num1 + num2}\")"
   ]
  },
  {
   "cell_type": "markdown",
   "id": "17826987",
   "metadata": {
    "id": "17826987"
   },
   "source": [
    "#### 4. Faça um Programa que peça as 4 notas bimestrais de um aluno e mostre a média de todas as notas."
   ]
  },
  {
   "cell_type": "code",
   "execution_count": null,
   "id": "23b66762",
   "metadata": {
    "id": "23b66762"
   },
   "outputs": [
    {
     "name": "stdout",
     "output_type": "stream",
     "text": [
      "A média do aluno Luiz Andre Pereira Costa é 6.5\n"
     ]
    }
   ],
   "source": [
    "nome = input(\"Qual o nome do aluno? \")\n",
    "nota1 = float(input(\"Qual a nora do 1º bimestre? \"))\n",
    "nota2 = float(input(\"Qual a nora do segundo bimestre? \"))\n",
    "nota3 = float(input(\"Qual a nota do terceiro bimestre? \"))\n",
    "nota4 = float(input(\"Qual a nota do quarto bimestre? \"))\n",
    "\n",
    "print(f\"A média do aluno {nome} e sua nota é {(nota1 + nota2 + nota3 +nota4)/4}\")\n"
   ]
  },
  {
   "cell_type": "markdown",
   "id": "62d461c5",
   "metadata": {
    "id": "62d461c5"
   },
   "source": [
    "#### 5. Faça um Programa que converta metros para centímetros. Você pode pedir o comprimento em metros para o usuário (input)."
   ]
  },
  {
   "cell_type": "code",
   "execution_count": 4,
   "id": "d642f1ba",
   "metadata": {
    "id": "d642f1ba"
   },
   "outputs": [
    {
     "name": "stdout",
     "output_type": "stream",
     "text": [
      "A medida em centímetros é de 100.0 cm\n"
     ]
    }
   ],
   "source": [
    "medida_metros = float(input(\"Quantos centimetros tem a medida? \"))\n",
    "\n",
    "print(f\"A medida em centímetros é de {medida_metros * 100} cm\")"
   ]
  },
  {
   "cell_type": "markdown",
   "id": "f1311697",
   "metadata": {
    "id": "f1311697"
   },
   "source": [
    "#### 6. Faça um Programa que calcule a área de uma sala de um apartamento. Para isso, o seu programa precisa pedir a largura da sala, o comprimento da sala e imprimir a área em m² da sala."
   ]
  },
  {
   "cell_type": "code",
   "execution_count": 5,
   "id": "612ea24b",
   "metadata": {
    "id": "612ea24b"
   },
   "outputs": [
    {
     "name": "stdout",
     "output_type": "stream",
     "text": [
      "A área total da sala é de 200.0 m2\n"
     ]
    }
   ],
   "source": [
    "comprimento = float(input(\"Qual o comprimento da sala (m)? \"))\n",
    "largura = float(input(\"Qual a largura da sala (m)? \"))\n",
    "\n",
    "print(f\"A área total da sala é de {comprimento * largura} m2\")\n"
   ]
  },
  {
   "cell_type": "markdown",
   "id": "2a285929",
   "metadata": {
    "id": "2a285929"
   },
   "source": [
    "#### 7. Faça um Programa que pergunte quanto você ganha por hora e o número de horas trabalhadas no mês. Calcule e mostre o total do seu salário no referido mês."
   ]
  },
  {
   "cell_type": "code",
   "execution_count": 7,
   "id": "359e2232",
   "metadata": {
    "id": "359e2232"
   },
   "outputs": [
    {
     "name": "stdout",
     "output_type": "stream",
     "text": [
      "O seu salário mensal é de R$ 1000.0\n"
     ]
    }
   ],
   "source": [
    "valor_hora = float(input(\"Quanto você recebe() por hora trabalhada? \"))\n",
    "num_horas = float(input(\"Quantas horas você trabalhou no mês? \"))\n",
    "total = valor_hora * num_horas\n",
    "print(\"O seu salário mensal é de R$\", total)"
   ]
  },
  {
   "cell_type": "markdown",
   "id": "7e2d4615",
   "metadata": {
    "id": "7e2d4615"
   },
   "source": [
    "#### 8. Vamos criar um conversor de temperatura. Faça um Programa que peça a temperatura em graus Fahrenheit, transforme e mostre a temperatura em graus Celsius.\n",
    "$C = \\frac{5}{9}(F-32)$"
   ]
  },
  {
   "cell_type": "code",
   "execution_count": 10,
   "id": "82daf9fd",
   "metadata": {
    "id": "82daf9fd"
   },
   "outputs": [
    {
     "name": "stdout",
     "output_type": "stream",
     "text": [
      "A temperatura em Celcius é de 21.1ºC\n",
      "A temperatura em Celcius é de 21.11111111111111 ºC\n"
     ]
    }
   ],
   "source": [
    "temp_f = float(input(\"Qual a temperatura em Fahrenheit? \"))\n",
    "temp_c = 5 * (temp_f - 32) / 9\n",
    "\n",
    "print(f\"A temperatura em Celcius é de {temp_c:.1f}ºC\")\n",
    "print(\"A temperatura em Celcius é de\", temp_c, \"ºC\")"
   ]
  },
  {
   "cell_type": "markdown",
   "id": "20708b1c",
   "metadata": {
    "id": "20708b1c"
   },
   "source": [
    "#### 9. Faça um Programa que peça a temperatura em graus Celsius, transforme e mostre em graus Fahrenheit.\n",
    "$F = \\frac{9}{5}C + 32$"
   ]
  },
  {
   "cell_type": "code",
   "execution_count": 13,
   "id": "c73cfb38",
   "metadata": {
    "id": "c73cfb38"
   },
   "outputs": [
    {
     "name": "stdout",
     "output_type": "stream",
     "text": [
      "A temperatura em Fahrenheit é de 50.0F\n",
      "A temperatura em F é de 50.0 F\n"
     ]
    }
   ],
   "source": [
    "temp_c = float(input(\"Qual a temperatura em celcius? \"))\n",
    "temp_f = 9 / 5 * temp_c + 32\n",
    "\n",
    "print(f\"A temperatura em Fahrenheit é de {temp_f:.1f}F\")\n",
    "print (\"A temperatura em F é de\", temp_f,\"F\")"
   ]
  },
  {
   "cell_type": "markdown",
   "id": "b263a9dc",
   "metadata": {
    "id": "b263a9dc"
   },
   "source": [
    "#### 10. Tendo como dados de entrada a altura (h) de uma pessoa, construa um algoritmo que calcule seu peso ideal, usando a seguinte fórmula:\n",
    "$P = 72,7h - 58$\n",
    "\n",
    "Lembrando que \"algoritmo\" nada mais é do que um programa, como todos os outros que você vem fazendo"
   ]
  },
  {
   "cell_type": "code",
   "execution_count": 14,
   "id": "9a9b8dca",
   "metadata": {
    "id": "9a9b8dca"
   },
   "outputs": [
    {
     "name": "stdout",
     "output_type": "stream",
     "text": [
      "O pessoal é de 72.86Kg\n",
      "O peso ideal é: 72.86000000000001 kg\n"
     ]
    }
   ],
   "source": [
    "altura = float(input(\"Qual a altura do indivíduo? \"))\n",
    "peso = 72.7 * altura - 58\n",
    "\n",
    "print(f\"O pessoal é de {peso:.2f}Kg\")\n",
    "print('O peso ideal é:', peso, 'kg')"
   ]
  },
  {
   "cell_type": "markdown",
   "id": "13bb40d7",
   "metadata": {
    "id": "13bb40d7"
   },
   "source": [
    "#### 11. Tendo como dado de entrada a altura (h) de uma pessoa, construa um algoritmo que calcule seu peso ideal, utilizando as seguintes fórmulas:\n",
    "##### a. Para homens: $P = 72,7h - 58$\n",
    "##### b. Para mulheres: $P = 62,1h - 44,7$"
   ]
  },
  {
   "cell_type": "code",
   "execution_count": 17,
   "id": "bf82dc8c",
   "metadata": {
    "id": "bf82dc8c"
   },
   "outputs": [
    {
     "name": "stdout",
     "output_type": "stream",
     "text": [
      "O seu peso é de 67.08Kg\n",
      "\n",
      "O peso ideal com essa altura para homens é: 72.86000000000001 kg\n",
      "O peso ideal com essa altura para mulheres é: 67.08 kg\n"
     ]
    }
   ],
   "source": [
    "sexo = input(\"Qual o seu sexo? (M ou F) \")\n",
    "altura = float(input(\"Qual a sua altura? \"))\n",
    "\n",
    "peso_m = 72.7 * altura - 58\n",
    "peso_f = 62.1 * altura - 44.7\n",
    "\n",
    "if sexo == \"M\":\n",
    "    print(f\"O seu peso é de {peso_m}Kg\")\n",
    "else:\n",
    "    print(f\"O seu peso é de {peso_f}Kg\")\n",
    "\n",
    "\n",
    "print('\\nO peso ideal com essa altura para homens é:', peso_m, 'kg')\n",
    "print('O peso ideal com essa altura para mulheres é:', peso_f, 'kg')\n"
   ]
  },
  {
   "cell_type": "markdown",
   "id": "f208ef89",
   "metadata": {
    "id": "f208ef89"
   },
   "source": [
    "#### 12. Faça um Programa que pergunte quanto você ganha por hora e o número de horas trabalhadas no mês."
   ]
  },
  {
   "cell_type": "code",
   "execution_count": 18,
   "id": "2d5b23e0",
   "metadata": {
    "id": "2d5b23e0"
   },
   "outputs": [],
   "source": [
    "valor_hora = float(input(\"Quanto você recebe por hora trabalhada? \"))\n",
    "horas_mes = float(input(\"Quantas horas você trabalhou no mês? \"))"
   ]
  },
  {
   "cell_type": "markdown",
   "id": "607dee3c",
   "metadata": {
    "id": "607dee3c"
   },
   "source": [
    "#####  Calcule o salário bruto (horas * salario por hora)"
   ]
  },
  {
   "cell_type": "code",
   "execution_count": 24,
   "id": "7f80ccbb",
   "metadata": {
    "id": "7f80ccbb"
   },
   "outputs": [
    {
     "name": "stdout",
     "output_type": "stream",
     "text": [
      "O seu slaário no mês é de R$1000.00\n",
      "O seu salário bruto é de R$ 1000.0\n"
     ]
    }
   ],
   "source": [
    "salario_bruto = valor_hora * horas_mes\n",
    "\n",
    "print(f\"O seu slaário no mês é de R${salario_bruto:.2f}\")\n",
    "print(\"O seu salário bruto é de R$\", salario_bruto)"
   ]
  },
  {
   "cell_type": "markdown",
   "id": "2ed93cb0",
   "metadata": {
    "id": "2ed93cb0"
   },
   "source": [
    "##### Calcule o desconto do IR (11% do salário bruto)"
   ]
  },
  {
   "cell_type": "code",
   "execution_count": 25,
   "id": "3363e22f",
   "metadata": {
    "id": "3363e22f"
   },
   "outputs": [
    {
     "name": "stdout",
     "output_type": "stream",
     "text": [
      "O seu imposto de renda é de R$110.00\n"
     ]
    }
   ],
   "source": [
    "ir = salario_bruto * 0.11\n",
    "\n",
    "print(f\"O seu imposto de renda é de R${ir:.2f}\")"
   ]
  },
  {
   "cell_type": "markdown",
   "id": "0994b2c0",
   "metadata": {
    "id": "0994b2c0"
   },
   "source": [
    "##### Calcule o desconto do INSS (8% do salário bruto)"
   ]
  },
  {
   "cell_type": "code",
   "execution_count": 26,
   "id": "748c6088",
   "metadata": {
    "id": "748c6088"
   },
   "outputs": [
    {
     "name": "stdout",
     "output_type": "stream",
     "text": [
      "O desconto do INSS é de R$80.00\n"
     ]
    }
   ],
   "source": [
    "inss = salario_bruto * 0.08\n",
    "\n",
    "print(f\"O desconto do INSS é de R${inss:.2f}\")"
   ]
  },
  {
   "cell_type": "markdown",
   "id": "06e8dae4",
   "metadata": {
    "id": "06e8dae4"
   },
   "source": [
    "##### Calcule o desconto do sindicato (5% do salário bruto)"
   ]
  },
  {
   "cell_type": "code",
   "execution_count": 27,
   "id": "21b95b15",
   "metadata": {
    "id": "21b95b15",
    "scrolled": true
   },
   "outputs": [
    {
     "name": "stdout",
     "output_type": "stream",
     "text": [
      "O desconto sindical é de R$50.00\n"
     ]
    }
   ],
   "source": [
    "sind = salario_bruto * 0.05\n",
    "\n",
    "print(f\"O desconto sindical é de R${sind:.2f}\")"
   ]
  },
  {
   "cell_type": "markdown",
   "id": "bb14ce36",
   "metadata": {
    "id": "bb14ce36"
   },
   "source": [
    "##### Calcule o salário líquido (salário bruto - descontos)"
   ]
  },
  {
   "cell_type": "code",
   "execution_count": 28,
   "id": "56317086",
   "metadata": {
    "id": "56317086"
   },
   "outputs": [
    {
     "name": "stdout",
     "output_type": "stream",
     "text": [
      "O desconto total é de R$240.00\n",
      "O seu salarío líquido é de R$760.00\n"
     ]
    }
   ],
   "source": [
    "descontos = ir + inss + sind\n",
    "print(f\"O desconto total é de R${descontos:.2f}\")\n",
    "salario_liq = (salario_bruto - descontos)\n",
    "print(f\"O seu salarío líquido é de R${salario_liq:.2f}\")"
   ]
  },
  {
   "cell_type": "markdown",
   "id": "cfbfcc87",
   "metadata": {
    "id": "cfbfcc87"
   },
   "source": [
    "#### 13. Faça um programa para uma loja de tintas. O programa deverá pedir o tamanho em metros quadrados da área a ser pintada. Considere que a cobertura da tinta é de 1 litro para cada 3 metros quadrados e que a tinta é vendida em latas de 18 litros, que custam R\\$ 80,00. Informe ao usuário a quantidades de latas de tinta a serem compradas e o preço total. (para simplificação nesse momento, não se preocupe em arredondar a quantidade de latas a serem compradas - vamos trabalhar isso em breve)"
   ]
  },
  {
   "cell_type": "code",
   "execution_count": 29,
   "id": "fb6a083b",
   "metadata": {
    "id": "fb6a083b"
   },
   "outputs": [
    {
     "name": "stdout",
     "output_type": "stream",
     "text": [
      "Você precisará comprar 2 latas de tintas de 18 litros\n",
      "O custo total de tinta é de R$160.00\n"
     ]
    }
   ],
   "source": [
    "# Área da Loja\n",
    "area = float(input(\"Qual a área da loja a ser pintada? \"))\n",
    "\n",
    "# Qtde de latas de tinta\n",
    "# 1L para  3m2 --> latas de 18l (80 reais)\n",
    "qtde_tinta_litros = area / 3\n",
    "qtde_tinta_latas = int(qtde_tinta_litros / 18) + 1\n",
    "\n",
    "print(f\"Você precisará comprar {qtde_tinta_latas} latas de tintas de 18 litros\")\n",
    "\n",
    "# Preço total\n",
    "custo_total = qtde_tinta_latas * 80\n",
    "print(f\"O custo total de tinta é de R${custo_total:.2f}\")"
   ]
  },
  {
   "cell_type": "markdown",
   "id": "d6503c92",
   "metadata": {
    "id": "d6503c92"
   },
   "source": [
    "#### 14. Faça um programa que peça o tamanho de um arquivo para download (em MB) e a velocidade de um link de Internet (em Mbps), calcule e informe o tempo aproximado de download do arquivo usando este link (em minutos).\n",
    "\n",
    "Detalhe: MB significa megabyte, Mb (com b minúsculo) significa megabit. Um megabit é 1/8 de um megabyte. "
   ]
  },
  {
   "cell_type": "code",
   "execution_count": 30,
   "id": "0563aa62",
   "metadata": {
    "id": "0563aa62"
   },
   "outputs": [
    {
     "name": "stdout",
     "output_type": "stream",
     "text": [
      "Você levará 1.33 minutos para baixar o arquivo\n"
     ]
    }
   ],
   "source": [
    "arquivo = float(input(\"Quantos MB tem o arquivo a fazer download? \"))\n",
    "link = float(input(\"Qual o link da internet em Mbps? \"))\n",
    "\n",
    "velocidade_megabytes = link / 8\n",
    "tempo = arquivo / (velocidade_megabytes * 60)\n",
    "\n",
    "print(f\"Você levará {tempo:.2f} minutos para baixar o arquivo\")"
   ]
  }
 ],
 "metadata": {
  "colab": {
   "provenance": []
  },
  "kernelspec": {
   "display_name": "Python 3",
   "language": "python",
   "name": "python3"
  },
  "language_info": {
   "codemirror_mode": {
    "name": "ipython",
    "version": 3
   },
   "file_extension": ".py",
   "mimetype": "text/x-python",
   "name": "python",
   "nbconvert_exporter": "python",
   "pygments_lexer": "ipython3",
   "version": "3.11.2"
  }
 },
 "nbformat": 4,
 "nbformat_minor": 5
}
