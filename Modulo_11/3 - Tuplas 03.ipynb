{
 "cells": [
  {
   "cell_type": "markdown",
   "metadata": {},
   "source": [
    "# Aplicação de Tupla - Lista de Tuplas\n",
    "\n",
    "### Estrutura:\n",
    "\n",
    "Além de casos como o do enumerate, em que usamos uma função para transformar itens em tuplas porque isso ajuda o nosso código, temos também listas de tuplas como algo comum dentro do Python."
   ]
  },
  {
   "cell_type": "raw",
   "metadata": {},
   "source": [
    "lista = [\n",
    "    tupla1,\n",
    "    tupla2,\n",
    "    tupla3,\n",
    "    ]\n",
    "    \n",
    "ou seja\n",
    "\n",
    "lista = [\n",
    "    (valor1, valor2, valor3),\n",
    "    (valor4, valor5, valor6),\n",
    "    (valor7, valor8, valor9),\n",
    "    ]"
   ]
  },
  {
   "cell_type": "markdown",
   "metadata": {},
   "source": [
    "### Exemplo:\n",
    "\n",
    "Digamos que você está analisando as vendas do Banco de Dados de um e-commerce.\n",
    "\n",
    "Em um determinado dia, você extraiu as vendas do Banco de Dados e elas vieram nesse formato:"
   ]
  },
  {
   "cell_type": "code",
   "execution_count": 20,
   "metadata": {},
   "outputs": [],
   "source": [
    "vendas = [\n",
    "    ('20/08/2020', 'iphone x', 'azul', '128gb', 350, 4000),\n",
    "    ('20/08/2020', 'iphone x', 'prata', '128gb', 1500, 4000),\n",
    "    ('20/08/2020', 'ipad', 'prata', '256gb', 127, 6000),\n",
    "    ('20/08/2020', 'ipad', 'prata', '128gb', 981, 5000),\n",
    "    ('21/08/2020', 'iphone x', 'azul', '128gb', 397, 4000),\n",
    "    ('21/08/2020', 'iphone x', 'prata', '128gb', 1017, 4000),\n",
    "    ('21/08/2020', 'ipad', 'prata', '256gb', 50, 6000),\n",
    "    ('21/08/2020', 'ipad', 'prata', '128gb', 4000, 5000),\n",
    "]"
   ]
  },
  {
   "cell_type": "markdown",
   "metadata": {},
   "source": [
    "- Qual foi o faturamento de IPhone no dia 20/08/2020?\n",
    "- Qual foi o produto mais vendido (em unidades) no dia 21/08/2020?"
   ]
  },
  {
   "cell_type": "code",
   "execution_count": 27,
   "metadata": {},
   "outputs": [
    {
     "name": "stdout",
     "output_type": "stream",
     "text": [
      "O produto iphone x da data: 20/08/2020 possui faturamento de R$1400000.00\n",
      "O produto iphone x da data: 20/08/2020 possui faturamento de R$6000000.00\n",
      "O faturamento total é de R$7400000.00\n",
      "O produto mais vendido foi o ipad de cor prata, capacidade de 128gb com 4000 unidades\n"
     ]
    }
   ],
   "source": [
    "total_faturamento = 0\n",
    "preco = 0\n",
    "produto_mais_vendido = \"\"\n",
    "qtde_prod_mais_vend = 0\n",
    "cor_prod_mais_vend = \"\"\n",
    "cap_prod_mais_vend = 0\n",
    "\n",
    "for item in vendas:\n",
    "    data, produto, cor, capacidade, unidades, valor_unitario = item\n",
    "    if produto == \"iphone x\" and data == \"20/08/2020\":\n",
    "        faturamento = unidades * valor_unitario\n",
    "        print(f\"O produto {produto} da data: {data} possui faturamento de R${faturamento:.2f}\")\n",
    "        total_faturamento += faturamento\n",
    "    if data == \"21/08/2020\":\n",
    "        if unidades > qtde_prod_mais_vend:\n",
    "            qtde_prod_mais_vend = unidades\n",
    "            produto_mais_vendido = produto\n",
    "            cor_prod_mais_vend = cor\n",
    "            cap_prod_mais_vend = capacidade\n",
    "\n",
    "print(f\"O faturamento total é de R${total_faturamento:.2f}\") \n",
    "print(\"O produto mais vendido foi o {} de cor {}, capacidade de {} com {} unidades\".format(produto, cor, capacidade, unidades))\n",
    "    \n"
   ]
  },
  {
   "cell_type": "markdown",
   "metadata": {},
   "source": [
    "1) Quantos carros a álcool foram vendidos entre 2020 e 2025 à álcool?\n",
    "2) Quanto de faturamento deu somente os veículos adquiridos no RS, SC e SP?"
   ]
  },
  {
   "cell_type": "code",
   "execution_count": 1,
   "metadata": {},
   "outputs": [],
   "source": [
    "carros = [\n",
    "    (\"Volkswagen Fusca\", 1980, \"gasolina\", 12000.00, \"RS\"),\n",
    "    (\"Chevrolet Opala\", 1985, \"álcool\", 14000.00, \"SP\"),\n",
    "    (\"Fiat Uno Mille\", 1994, \"álcool\", 9000.00, \"MG\"),\n",
    "    (\"Ford Escort\", 1998, \"gasolina\", 11000.00, \"RJ\"),\n",
    "    (\"Chevrolet Corsa\", 2002, \"álcool\", 13000.00, \"PR\"),\n",
    "    (\"Volkswagen Gol\", 2005, \"gasolina\", 16000.00, \"SC\"),\n",
    "    (\"Fiat Palio\", 2008, \"álcool\", 17000.00, \"BA\"),\n",
    "    (\"Honda Civic\", 2010, \"gasolina\", 35000.00, \"PE\"),\n",
    "    (\"Toyota Corolla\", 2012, \"gasolina\", 42000.00, \"DF\"),\n",
    "    (\"Hyundai HB20\", 2015, \"álcool\", 45000.00, \"CE\"),\n",
    "    (\"Chevrolet Onix\", 2017, \"álcool\", 50000.00, \"GO\"),\n",
    "    (\"Volkswagen Polo\", 2018, \"gasolina\", 58000.00, \"MT\"),\n",
    "    (\"Nissan Versa\", 2019, \"álcool\", 62000.00, \"MS\"),\n",
    "    (\"Fiat Argo\", 2020, \"gasolina\", 65000.00, \"AM\"),\n",
    "    (\"Renault Kwid\", 2021, \"álcool\", 48000.00, \"PA\"),\n",
    "    (\"Toyota Yaris\", 2022, \"gasolina\", 72000.00, \"AL\"),\n",
    "    (\"Honda Fit\", 2023, \"álcool\", 78000.00, \"PB\"),\n",
    "    (\"Volkswagen Nivus\", 2024, \"gasolina\", 85000.00, \"SE\"),\n",
    "    (\"Chevrolet Tracker\", 2025, \"álcool\", 98000.00, \"MA\"),\n",
    "    (\"Jeep Renegade\", 2025, \"gasolina\", 105000.00, \"PI\")\n",
    "]"
   ]
  },
  {
   "cell_type": "code",
   "execution_count": 17,
   "metadata": {},
   "outputs": [
    {
     "name": "stdout",
     "output_type": "stream",
     "text": [
      "3\n",
      "42000.0\n"
     ]
    }
   ],
   "source": [
    "cont_carros = 0\n",
    "faturamento = 0\n",
    "for lista in carros:\n",
    "    (modelo, ano, combustivel, custo, estado) = lista\n",
    "    if 2020 <= ano <= 2025 and combustivel == \"álcool\":\n",
    "        cont_carros += 1\n",
    "    if estado == \"RS\" or estado == \"SC\" or estado == \"SP\":\n",
    "        faturamento += custo\n",
    "        \n",
    "print(cont_carros)\n",
    "print(faturamento)\n",
    "\n",
    "\n",
    "        \n",
    "    "
   ]
  },
  {
   "cell_type": "code",
   "execution_count": 18,
   "metadata": {},
   "outputs": [
    {
     "name": "stdout",
     "output_type": "stream",
     "text": [
      "3\n",
      "42000.0\n"
     ]
    }
   ],
   "source": [
    "cont_carros = 0\n",
    "faturamento = 0\n",
    "\n",
    "estados_desejados = (\"RS\", \"SC\", \"SP\")\n",
    "\n",
    "for modelo, ano, combustivel, custo, estado in carros:\n",
    "    if 2020 <= ano <= 2025 and combustivel == \"álcool\":\n",
    "        cont_carros += 1\n",
    "    if estado in estados_desejados:\n",
    "        faturamento += custo\n",
    "\n",
    "print(cont_carros)\n",
    "print(faturamento)"
   ]
  }
 ],
 "metadata": {
  "kernelspec": {
   "display_name": "Python 3",
   "language": "python",
   "name": "python3"
  },
  "language_info": {
   "codemirror_mode": {
    "name": "ipython",
    "version": 3
   },
   "file_extension": ".py",
   "mimetype": "text/x-python",
   "name": "python",
   "nbconvert_exporter": "python",
   "pygments_lexer": "ipython3",
   "version": "3.13.2"
  }
 },
 "nbformat": 4,
 "nbformat_minor": 4
}
