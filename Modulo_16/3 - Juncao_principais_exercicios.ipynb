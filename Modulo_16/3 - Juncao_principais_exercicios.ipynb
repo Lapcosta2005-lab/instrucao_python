{
 "cells": [
  {
   "cell_type": "code",
   "execution_count": null,
   "id": "ff9be4bc",
   "metadata": {},
   "outputs": [
    {
     "name": "stdout",
     "output_type": "stream",
     "text": [
      "32.0 ºF\n",
      "Temperatura em ºC 0.0\n"
     ]
    }
   ],
   "source": [
    "# Parte 1\n",
    "\n",
    "def conversor(fahrenheit):\n",
    "    celsius = (fahrenheit - 32) * 5 / 9\n",
    "    return celsius\n",
    "\n",
    "temperatura = float(input(\"Insira a temperatura em ºF\"))\n",
    "temperatura_celsius = conversor(temperatura)\n",
    "print(f\"{temperatura} ºF\")\n",
    "print(\"Temperatura em ºC: \", temperatura_celsius)"
   ]
  },
  {
   "cell_type": "code",
   "execution_count": 3,
   "id": "8b80dba1",
   "metadata": {},
   "outputs": [
    {
     "name": "stdout",
     "output_type": "stream",
     "text": [
      "Temperatura em ºF: 32.0 Temperatura em ºC: 0.0\n",
      "Temperatura em ºF: 34.0 Temperatura em ºC: 1.1111111111111112\n",
      "Temperatura em ºF: 36.0 Temperatura em ºC: 2.2222222222222223\n",
      "Temperatura em ºF: 32.0 Temperatura em ºC: 0.0\n",
      "Temperatura em ºF: 32.0 Temperatura em ºC: 0.0\n"
     ]
    }
   ],
   "source": [
    "# Parte 2\n",
    "while True:\n",
    "    temperatura = input(\"Insira a temperatura em ºF, deixe em branco para parar\")\n",
    "    if temperatura == \"\":\n",
    "        break\n",
    "    temperatura = float(temperatura)\n",
    "    temperatura_celsius = conversor(temperatura)\n",
    "    print(f\"Temperatura em ºF: {temperatura} Temperatura em ºC: {temperatura_celsius}\")"
   ]
  },
  {
   "cell_type": "code",
   "execution_count": null,
   "id": "3e40e157",
   "metadata": {},
   "outputs": [
    {
     "name": "stdout",
     "output_type": "stream",
     "text": [
      "Temperatura em ºf: 32.0 Temperatura em ºc: 0.0\n",
      "Temperatura em ºf: 35.0 Temperatura em ºc: 1.6666666666666667\n"
     ]
    }
   ],
   "source": [
    "# Parte 3\n",
    "def conversor(temperatura, escolha):\n",
    "    if escolha == \"f\":\n",
    "        celsius = (temperatura - 32) * 5 / 9\n",
    "        return celsius\n",
    "    else:\n",
    "        fahrenheit = temperatura * 9 / 5 + 32\n",
    "        return fahrenheit\n",
    "\n",
    "escolha = input(\"Deseja inserir as temperaturas em ºC (digite C) ou ºF (digite F)\").lower()\n",
    "if escolha == \"c\":\n",
    "    medida_final = \"f\"\n",
    "else:\n",
    "    medida_final = \"c\"\n",
    "\n",
    "while True:\n",
    "    temperatura = input(\"Insira a temperatura em ºF, deixe em branco para pausar\")\n",
    "    if temperatura == \"\":\n",
    "        break\n",
    "    temperatura = float(temperatura)\n",
    "    temperatura_convertida = conversor(temperatura, escolha)\n",
    "    print(f\"Temperatura em º{escolha}: {temperatura} Temperatura em º{medida_final}: {temperatura_convertida}\")\n",
    "\n",
    "    # fim"
   ]
  }
 ],
 "metadata": {
  "kernelspec": {
   "display_name": "Python 3",
   "language": "python",
   "name": "python3"
  },
  "language_info": {
   "codemirror_mode": {
    "name": "ipython",
    "version": 3
   },
   "file_extension": ".py",
   "mimetype": "text/x-python",
   "name": "python",
   "nbconvert_exporter": "python",
   "pygments_lexer": "ipython3",
   "version": "3.12.2"
  }
 },
 "nbformat": 4,
 "nbformat_minor": 5
}
