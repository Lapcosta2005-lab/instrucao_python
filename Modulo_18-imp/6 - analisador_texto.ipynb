{
 "cells": [
  {
   "cell_type": "markdown",
   "id": "bc53556e-a539-4328-b873-fa5357312414",
   "metadata": {},
   "source": [
    "Crie um programa que analise um texto fornecido pelo usuário. O programa deve contar o número de palavras (independentemente se há repetição ou não), a quantidade de cada palavra e a quantidade de cada letra. Ignore maiúsculas e minúsculas ao contar letras (ou seja, transforme tudo para minúsculas). Faça o devido tratamento para pontuação e espaços ao contar palavras.\n",
    "\n",
    "O programa deve conter uma função chamada `analisar_texto` que recebe o texto como parâmetro e retorna a contagem de palavras, a frequência de palavras e a frequência de letras. A função deve ser devidamente documentada.\n",
    "\n",
    "Para o texto \"Olá mundo! Este é um teste. Olá novamente.\" o programa deve imprimir:\n",
    "\n",
    "```\n",
    "Contagem de palavras: 8\n",
    "Frequência de palavras: Counter({'Olá': 2, 'mundo': 1, 'Este': 1, 'é': 1, 'um': 1, 'teste': 1, 'novamente': 1})\n",
    "Frequência de letras: Counter({' ': 7, 'e': 6, 'o': 4, 't': 4, 'm': 3, 'n': 3, 'l': 2, 'á': 2, 'u': 2, 's': 2, 'd': 1, 'é': 1, 'v': 1, 'a': 1})\n",
    "```\n",
    "\n",
    "Dica: use o módulo `string` para obter uma lista de caracteres de pontuação. Exemplo:\n",
    "\n",
    "```python\n",
    "import string\n",
    "print(string.punctuation)\n",
    "```\n",
    "\n",
    "Dica: use o módulo `collections` para obter um contador de palavras e letras. Exemplo:\n",
    "\n",
    "```python\n",
    "from collections import Counter\n",
    "print(Counter(['a', 'b', 'a', 'c', 'b', 'a']))\n",
    "print(Counter('abacba'))\n",
    "``` "
   ]
  },
  {
   "cell_type": "code",
   "execution_count": 4,
   "id": "8feda3f2-210f-4224-9b53-de7206c039ae",
   "metadata": {},
   "outputs": [
    {
     "name": "stdout",
     "output_type": "stream",
     "text": [
      "!\"#$%&'()*+,-./:;<=>?@[\\]^_`{|}~\n",
      "abcdefghijklmnopqrstuvwxyzABCDEFGHIJKLMNOPQRSTUVWXYZ\n",
      "----------------------------------------------------------------------------------------------------\n",
      "Counter({'a': 3, 'b': 2, 'c': 1})\n",
      "Counter({'a': 3, 'b': 2, 'c': 1})\n"
     ]
    }
   ],
   "source": [
    "import string\n",
    "from collections import Counter\n",
    "\n",
    "print(string.punctuation)\n",
    "print(string.ascii_letters)\n",
    "\n",
    "print(\"-\" * 100)\n",
    "\n",
    "print(Counter(['a', 'b', 'a', 'c', 'b', 'a']))\n",
    "print(Counter('abacba'))"
   ]
  },
  {
   "cell_type": "code",
   "execution_count": null,
   "id": "d936f740",
   "metadata": {},
   "outputs": [
    {
     "name": "stdout",
     "output_type": "stream",
     "text": [
      "['olá', 'mundo!', 'este', 'é', 'um', 'teste.', 'olá', 'novamente.']\n",
      " O texto possui 8 palavras\n",
      "Frequencia de Palavras: Counter({'olá': 2, 'mundo!': 1, 'este': 1, 'é': 1, 'um': 1, 'teste.': 1, 'novamente.': 1})\n",
      "Frequencia de letras: Counter({' ': 7, 'e': 6, 'o': 4, 't': 4, 'm': 3, 'n': 3, 'l': 2, 'á': 2, 'u': 2, 's': 2, '.': 2, 'd': 1, '!': 1, 'é': 1, 'v': 1, 'a': 1})\n"
     ]
    }
   ],
   "source": [
    "# Solução Simples\n",
    "\n",
    "def analisar_texto(texto):\n",
    "    texto = texto.lower()\n",
    "    palavras = texto.split() # O split separa por espaços\n",
    "    contagem_palavras = len(palavras)\n",
    "    frequencia_palavras = Counter(palavras)\n",
    "    frequencia_letras = Counter(texto)\n",
    "    return palavras, contagem_palavras, frequencia_palavras, frequencia_letras\n",
    "\n",
    "texto = \"Olá mundo! Este é um teste. Olá novamente.\"\n",
    "\n",
    "palavras, contagem_palavras, frequencia_palavras, frequencia_letras = analisar_texto(texto)\n",
    "\n",
    "\n",
    "print(palavras)\n",
    "print(f\" O texto possui {contagem_palavras} palavras\")\n",
    "print(f\"Frequencia de Palavras: {frequencia_palavras}\")\n",
    "print(f\"Frequencia de letras: {frequencia_letras}\")"
   ]
  },
  {
   "cell_type": "code",
   "execution_count": 18,
   "id": "83aa4b60",
   "metadata": {},
   "outputs": [
    {
     "name": "stdout",
     "output_type": "stream",
     "text": [
      "{97: 49, 101: 50, 105: 51, 111: 52, 117: 53}\n",
      "{97: None, 101: 50, 105: 51, 111: 52, 117: 53}\n"
     ]
    }
   ],
   "source": [
    "vogais = \"aeiou\"\n",
    "numeros = \"12345\"\n",
    "\n",
    "guia_troca = str.maketrans(vogais, numeros)\n",
    "print(guia_troca)\n",
    "\n",
    "remover = \"a\"\n",
    "guia_troca2 = str.maketrans(vogais, numeros, remover)\n",
    "print(guia_troca2)"
   ]
  },
  {
   "cell_type": "code",
   "execution_count": null,
   "id": "985db41f",
   "metadata": {},
   "outputs": [
    {
     "name": "stdout",
     "output_type": "stream",
     "text": [
      "abcdefghijklmnopqrstuvwxyz\n",
      "bcd2fgh3jklmn4pqrst5vwxyz\n"
     ]
    }
   ],
   "source": [
    "letras_minusculas = string.ascii_lowercase\n",
    "print(letras_minusculas)\n",
    "\n",
    "print (letras_minusculas.translate(guia_troca2))\n",
    "# Retira o 'a' e troca o e, i, o, u por 2, 3, 4, 5"
   ]
  },
  {
   "cell_type": "code",
   "execution_count": null,
   "id": "14789123",
   "metadata": {},
   "outputs": [
    {
     "name": "stdout",
     "output_type": "stream",
     "text": [
      "['Olá', 'mundo', 'Este', 'é', 'um', 'teste', 'Olá', 'novamente']\n",
      " O texto possui 8 palavras\n",
      "Frequencia de Palavras: Counter({'Olá': 2, 'mundo': 1, 'Este': 1, 'é': 1, 'um': 1, 'teste': 1, 'novamente': 1})\n",
      "Frequencia de letras: Counter({' ': 7, 'e': 6, 'o': 4, 't': 4, 'm': 3, 'n': 3, 'l': 2, 'á': 2, 'u': 2, 's': 2, 'd': 1, 'é': 1, 'v': 1, 'a': 1})\n"
     ]
    }
   ],
   "source": [
    "# Solução Simples\n",
    "\n",
    "def analisar_texto(texto):\n",
    "    \"\"\"\n",
    "    Analisa o texto fornecido e calcula a contagem de palavras e frequencia de letras\n",
    "\n",
    "    Parameters\n",
    "    ---------------\n",
    "    texto : str\n",
    "        Texto a ser analisado\n",
    "\n",
    "    Returns\n",
    "    ----------------\n",
    "    tuple\n",
    "        palavras, contagem de palavras, frequencia de palavras, frequencia de letras\n",
    "\n",
    "    \"\"\"\n",
    "    tratamento = str.maketrans(\"\",\"\",string.punctuation)\n",
    "    texto = texto.translate(tratamento)\n",
    "    palavras = texto.split() # O split separa por espaços\n",
    "    contagem_palavras = len(palavras)\n",
    "    frequencia_palavras = Counter(palavras)\n",
    "    frequencia_letras = Counter(texto.lower())\n",
    "    return palavras, contagem_palavras, frequencia_palavras, frequencia_letras\n",
    "\n",
    "texto = \"Olá mundo! Este é um teste. Olá novamente.\"\n",
    "\n",
    "palavras, contagem_palavras, frequencia_palavras, frequencia_letras = analisar_texto(texto)\n",
    "\n",
    "\n",
    "print(palavras)\n",
    "print(f\" O texto possui {contagem_palavras} palavras\")\n",
    "print(f\"Frequencia de Palavras: {frequencia_palavras}\")\n",
    "print(f\"Frequencia de letras: {frequencia_letras}\")"
   ]
  }
 ],
 "metadata": {
  "kernelspec": {
   "display_name": "Python 3",
   "language": "python",
   "name": "python3"
  },
  "language_info": {
   "codemirror_mode": {
    "name": "ipython",
    "version": 3
   },
   "file_extension": ".py",
   "mimetype": "text/x-python",
   "name": "python",
   "nbconvert_exporter": "python",
   "pygments_lexer": "ipython3",
   "version": "3.12.2"
  }
 },
 "nbformat": 4,
 "nbformat_minor": 5
}
