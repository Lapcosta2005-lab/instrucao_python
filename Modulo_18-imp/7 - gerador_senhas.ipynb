{
 "cells": [
  {
   "cell_type": "markdown",
   "id": "74b1c214-34d8-43a1-867b-1055887eca93",
   "metadata": {},
   "source": [
    "Escreva um programa que gere uma senha aleatória com um determinado comprimento. A senha deve conter uma mistura de letras, números e caracteres especiais. O comprimento da senha deve ser fornecido pelo usuário. Se o comprimento for menor que 4, imprima uma mensagem de erro e peça ao usuário para fornecer um novo comprimento.\n",
    "\n",
    "A senha deve ser aleatória, então cada vez que o usuário executar o programa, uma nova senha deve ser gerada. Obrigatoriamente, a senha deve conter pelo menos uma letra, um número e um caractere especial. A senha não pode conter espaços em branco.\n",
    "\n",
    "O programa deve conter uma função chamada `gerar_senha` que recebe o comprimento da senha como parâmetro e retorna a senha gerada. Se o comprimento for inválido, a função deve retornar None.\n",
    "\n",
    "Exemplo de saída:\n",
    "\n",
    "```\n",
    "Digite o comprimento da senha: 10\n",
    "8Zn$*2q9X\n",
    "```\n",
    "\n",
    "- Dica: use a biblioteca random e a função shuffle para embaralhar os caracteres da senha.\n",
    "- Dica: use a função choice, dessa mesma biblioteca, para escolher um caractere aleatório de uma string.\n",
    "- Dica: use a biblioteca string para obter uma lista de caracteres válidos para a senha."
   ]
  },
  {
   "cell_type": "code",
   "execution_count": 1,
   "id": "7d2d725d",
   "metadata": {},
   "outputs": [
    {
     "name": "stdout",
     "output_type": "stream",
     "text": [
      "Lista original: ['Ás de Espadas', 'Rei de Copas', 'Dama de Ouros', 'Valete de Paus', '7 de Diamantes']\n",
      "Lista embaralhada (após shuffle): ['Dama de Ouros', 'Ás de Espadas', '7 de Diamantes', 'Rei de Copas', 'Valete de Paus']\n"
     ]
    }
   ],
   "source": [
    "import random\n",
    "\n",
    "# Lista original\n",
    "cartas = [\"Ás de Espadas\", \"Rei de Copas\", \"Dama de Ouros\", \"Valete de Paus\", \"7 de Diamantes\"]\n",
    "print(f\"Lista original: {cartas}\")\n",
    "\n",
    "# Embaralha a lista no lugar\n",
    "random.shuffle(cartas)\n",
    "print(f\"Lista embaralhada (após shuffle): {cartas}\")\n",
    "\n",
    "# Se tentarmos usar em uma tupla (dará erro):\n",
    "# tupla_numeros = (1, 2, 3, 4, 5)\n",
    "# random.shuffle(tupla_numeros) # Isso causaria um TypeError!"
   ]
  },
  {
   "cell_type": "code",
   "execution_count": 7,
   "id": "dea425f9",
   "metadata": {},
   "outputs": [
    {
     "name": "stdout",
     "output_type": "stream",
     "text": [
      "Escolha aleatória de comida: hambúrguer\n",
      "Letra aleatória da palavra 'PYTHON': N\n",
      "Resultado do lançamento da moeda: coroa\n"
     ]
    }
   ],
   "source": [
    "import random\n",
    "\n",
    "# Escolhendo de uma lista\n",
    "comidas = [\"pizza\", \"hambúrguer\", \"sushi\", \"salada\", \"macarrão\"]\n",
    "escolha_do_dia = random.choice(comidas)\n",
    "print(f\"Escolha aleatória de comida: {escolha_do_dia}\")\n",
    "\n",
    "# Escolhendo de uma string (um caractere aleatório)\n",
    "letras = \"PYTHON\"\n",
    "letra_aleatoria = random.choice(letras)\n",
    "print(f\"Letra aleatória da palavra 'PYTHON': {letra_aleatoria}\")\n",
    "\n",
    "# Escolhendo de uma tupla\n",
    "opcoes_moeda = (\"cara\", \"coroa\")\n",
    "resultado_lancamento = random.choice(opcoes_moeda)\n",
    "print(f\"Resultado do lançamento da moeda: {resultado_lancamento}\")"
   ]
  },
  {
   "cell_type": "code",
   "execution_count": 8,
   "id": "93915d54",
   "metadata": {},
   "outputs": [
    {
     "name": "stdout",
     "output_type": "stream",
     "text": [
      "abcdefghijklmnopqrstuvwxyzABCDEFGHIJKLMNOPQRSTUVWXYZ\n",
      "0123456789\n",
      "!\"#$%&'()*+,-./:;<=>?@[\\]^_`{|}~\n"
     ]
    }
   ],
   "source": [
    "import string\n",
    "\n",
    "print(string.ascii_letters)\n",
    "print(string.digits)\n",
    "print(string.punctuation)"
   ]
  },
  {
   "cell_type": "code",
   "execution_count": 106,
   "id": "253cd174",
   "metadata": {},
   "outputs": [
    {
     "name": "stdout",
     "output_type": "stream",
     "text": [
      "2\n",
      "['3']\n",
      "['1', '9', '2', '2', '6']\n",
      "['9', '2', '2', '6', '1']\n",
      "[\n",
      "Q\n"
     ]
    }
   ],
   "source": [
    "import random\n",
    "\n",
    "random_digito = random.choice(string.digits) # retorna uma string\n",
    "print(random_digito)\n",
    "\n",
    "random_digito = random.choices(string.digits) # 'choices' retorna uma lista\n",
    "print(random_digito)\n",
    "\n",
    "random_digito = random.choices(string.digits, k=5) # retorna uma lista com 5 dígitos\n",
    "print(random_digito)\n",
    "\n",
    "random.shuffle(random_digito)\n",
    "print(random_digito)\n",
    "\n",
    "random_pontuacao = random.choice(string.punctuation)\n",
    "print(random_pontuacao)\n",
    "\n",
    "random_letras = random.choice(string.ascii_letters)\n",
    "print(random_letras)"
   ]
  },
  {
   "cell_type": "code",
   "execution_count": 122,
   "id": "7351348e",
   "metadata": {},
   "outputs": [
    {
     "name": "stdout",
     "output_type": "stream",
     "text": [
      "A senha gerada pelo sistema é: t'ojO~{J8_\n"
     ]
    }
   ],
   "source": [
    "import string\n",
    "import random\n",
    "\n",
    "# Pedir o comprimento da Senha:\n",
    "def gerar_senha(comp_senha):\n",
    "    if comp_senha < 4:\n",
    "        print(\"O comprimento da senha deve ser maior que 3 caracteres\")\n",
    "        return None\n",
    "    else:\n",
    "        senha = [\n",
    "            random.choice(string.ascii_letters),\n",
    "            random.choice(string.digits),\n",
    "            random.choice(string.punctuation)\n",
    "        ]\n",
    "\n",
    "        possibilidades = ''.join([string.ascii_letters, string.digits,string.punctuation])\n",
    "        #junta todas as letras, números e caracteres especiais\n",
    "\n",
    "        senha_restante = random.choices(possibilidades, k=(comp_senha - 3))\n",
    "        senha_total = senha + senha_restante\n",
    "\n",
    "        random.shuffle(senha_total)\n",
    "        senha_total = ''.join(senha_total)\n",
    "        return senha_total # O .join (juntar em ingês) recebe a lista \"senha\" e retorna uma string \"senha\".\n",
    "\n",
    "comp_senha = int(input(\"Digite o tamanho da senha: \"))\n",
    "senha_gerada = gerar_senha(comp_senha)\n",
    "print(f\"A senha gerada pelo sistema é: {senha_gerada}\")\n"
   ]
  }
 ],
 "metadata": {
  "kernelspec": {
   "display_name": "Python 3",
   "language": "python",
   "name": "python3"
  },
  "language_info": {
   "codemirror_mode": {
    "name": "ipython",
    "version": 3
   },
   "file_extension": ".py",
   "mimetype": "text/x-python",
   "name": "python",
   "nbconvert_exporter": "python",
   "pygments_lexer": "ipython3",
   "version": "3.12.2"
  }
 },
 "nbformat": 4,
 "nbformat_minor": 5
}
