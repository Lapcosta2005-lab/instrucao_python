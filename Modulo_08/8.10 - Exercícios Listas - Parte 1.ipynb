{
 "cells": [
  {
   "cell_type": "markdown",
   "metadata": {},
   "source": [
    "# Exercícios\n",
    "\n",
    "## 1. Faturamento do Melhor e do Pior Mês do Ano\n",
    "\n",
    "Qual foi o valor de vendas do melhor mês do Ano?\n",
    "E valor do pior mês do ano?"
   ]
  },
  {
   "cell_type": "code",
   "execution_count": 28,
   "metadata": {},
   "outputs": [
    {
     "name": "stdout",
     "output_type": "stream",
     "text": [
      "[25000, 29000, 22200, 17750, 15870, 19900, 19850, 20120, 17540, 15555, 49051, 9650]\n",
      "49051\n",
      "9650\n"
     ]
    }
   ],
   "source": [
    "meses = ['jan', 'fev', 'mar', 'abr', 'mai', 'jun', 'jul', 'ago', 'set', 'out', 'nov', 'dez']\n",
    "vendas_1sem = [25000, 29000, 22200, 17750, 15870, 19900]\n",
    "vendas_2sem = [19850, 20120, 17540, 15555, 49051, 9650]\n",
    "\n",
    "meses_venda = vendas_1sem + vendas_2sem\n",
    "print(meses_venda)\n",
    "\n",
    "maior_valor = max(meses_venda)\n",
    "print(maior_valor)\n",
    "menor_valor = min(meses_venda)\n",
    "print(menor_valor)\n"
   ]
  },
  {
   "cell_type": "markdown",
   "metadata": {},
   "source": [
    "## 2. Continuação\n",
    "\n",
    "Agora relacione as duas listas para printar 'O melhor mês do ano foi {} com {} vendas' e o mesmo para o pior mês do ano.\n",
    "\n",
    "Calcule também o faturamento total do Ano e quanto que o melhor mês representou do faturamento total.\n",
    "\n",
    "Obs: Para o faturamento total, pode usar a função sum(lista) que soma todos os itens de uma lista"
   ]
  },
  {
   "cell_type": "code",
   "execution_count": 13,
   "metadata": {},
   "outputs": [
    {
     "name": "stdout",
     "output_type": "stream",
     "text": [
      "10\n",
      "11\n",
      "O melhor mes do ano foi nov com 49051 vendas e \n",
      "o pior mes do ano foi dez com 9650 vendas\n",
      "o faturamento total foi de R$261486.00\n",
      "O mês de nov repesentou 18.8% do total de vendas\n"
     ]
    }
   ],
   "source": [
    "i_melhor_mes = meses_venda.index(maior_valor)\n",
    "i_pior_mes = meses_venda.index(menor_valor)\n",
    "print(i_melhor_mes)\n",
    "print(i_pior_mes)\n",
    "\n",
    "print(f\"O melhor mes do ano foi {meses[i_melhor_mes]} com {maior_valor} vendas e \\no pior mes do ano foi {meses[i_pior_mes]} com {menor_valor} vendas\")\n",
    "\n",
    "faturamento_total = sum(meses_venda)\n",
    "print(f\"o faturamento total foi de R${faturamento_total:.2f}\")\n",
    "\n",
    "percentual = maior_valor / faturamento_total\n",
    "print(f\"O mês de {meses[i_melhor_mes]} repesentou {percentual:.1%} do total de vendas\")"
   ]
  },
  {
   "cell_type": "markdown",
   "metadata": {},
   "source": [
    "## 3. Crie uma lista com o top 3 valores de vendas do ano (sem fazer \"no olho\")\n",
    "\n",
    "Dica: o método remove retira um item da lista."
   ]
  },
  {
   "cell_type": "code",
   "execution_count": 29,
   "metadata": {},
   "outputs": [
    {
     "name": "stdout",
     "output_type": "stream",
     "text": [
      "[25000, 29000, 22200, 17750, 15870, 19900, 19850, 20120, 17540, 15555, 49051, 9650]\n",
      "[49051]\n",
      "[25000, 29000, 22200, 17750, 15870, 19900, 19850, 20120, 17540, 15555, 9650]\n",
      "[49051, 29000]\n",
      "[25000, 22200, 17750, 15870, 19900, 19850, 20120, 17540, 15555, 9650]\n",
      "[49051, 29000, 25000]\n"
     ]
    }
   ],
   "source": [
    "top3 = []\n",
    "print(meses_venda)\n",
    "maior_valor = max(meses_venda)\n",
    "top3.append(maior_valor)\n",
    "print(top3)\n",
    "meses_venda.remove(maior_valor)\n",
    "print(meses_venda)\n",
    "maior_valor = max(meses_venda)\n",
    "top3.append(maior_valor)\n",
    "print(top3)\n",
    "meses_venda.remove(maior_valor)\n",
    "print(meses_venda)\n",
    "maior_valor = max(meses_venda)\n",
    "top3.append(maior_valor)\n",
    "print(top3)\n"
   ]
  }
 ],
 "metadata": {
  "kernelspec": {
   "display_name": "Python 3",
   "language": "python",
   "name": "python3"
  },
  "language_info": {
   "codemirror_mode": {
    "name": "ipython",
    "version": 3
   },
   "file_extension": ".py",
   "mimetype": "text/x-python",
   "name": "python",
   "nbconvert_exporter": "python",
   "pygments_lexer": "ipython3",
   "version": "3.11.2"
  }
 },
 "nbformat": 4,
 "nbformat_minor": 4
}
