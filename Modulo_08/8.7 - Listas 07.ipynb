{
 "cells": [
  {
   "cell_type": "markdown",
   "metadata": {},
   "source": [
    "# Print de Listas\n",
    "\n",
    "2 Opções:\n",
    "- print \"normal\"\n",
    "- método join -> texto.join(lista)"
   ]
  },
  {
   "cell_type": "code",
   "execution_count": 6,
   "metadata": {},
   "outputs": [
    {
     "name": "stdout",
     "output_type": "stream",
     "text": [
      "apple tv\n",
      "mac\n",
      "iphone x\n",
      "iphone 11\n",
      "IPad\n",
      "apple watch\n",
      "mac book\n",
      "airpods\n"
     ]
    }
   ],
   "source": [
    "produtos = ['apple tv', 'mac', 'iphone x', 'iphone 11', 'IPad', 'apple watch', 'mac book', 'airpods']\n",
    "\n",
    "print('\\n'.join(produtos))"
   ]
  },
  {
   "cell_type": "markdown",
   "metadata": {},
   "source": [
    "Lembrando do método split de strings:\n",
    "\n",
    "lista = texto.split(separador)"
   ]
  },
  {
   "cell_type": "code",
   "execution_count": 10,
   "metadata": {},
   "outputs": [
    {
     "name": "stdout",
     "output_type": "stream",
     "text": [
      "['apple tv', 'mac', 'iphone x', 'iphone 11', 'IPad', 'apple watch', 'mac book', 'airpods']\n"
     ]
    }
   ],
   "source": [
    "produtos = \"apple tv, mac, iphone x, iphone 11, IPad, apple watch, mac book, airpods\"\n",
    "\n",
    "# Cria uma lista de produtos\n",
    "lista = produtos.split(', ')\n",
    "print(lista)"
   ]
  },
  {
   "cell_type": "code",
   "execution_count": 20,
   "metadata": {},
   "outputs": [
    {
     "name": "stdout",
     "output_type": "stream",
     "text": [
      "['trailblazer', 'corolla', 'frontier', 's10', 'pajero']\n",
      "\n",
      "\n",
      "trailblazer\n",
      "corolla\n",
      "frontier\n",
      "s10\n",
      "pajero\n",
      "\n",
      "\n",
      "trailblazer / corolla / frontier / s10 / pajero\n",
      "\n",
      "\n",
      "trailblazer - corolla - frontier - s10 - pajero\n"
     ]
    }
   ],
   "source": [
    "viaturas = \"trailblazer, corolla, frontier, s10, pajero\"\n",
    "\n",
    "# Criar uma lsia\n",
    "lista_viaturas = viaturas.split(\", \")\n",
    "print(lista_viaturas)\n",
    "print(\"\\n\")\n",
    "\n",
    "# organizar a impressão da lista viaturas\n",
    "print('\\n'.join(lista_viaturas))\n",
    "print(\"\\n\")\n",
    "\n",
    "print(' / '.join(lista_viaturas))\n",
    "print(\"\\n\")\n",
    "\n",
    "print(\" - \".join(lista_viaturas))\n",
    "\n"
   ]
  }
 ],
 "metadata": {
  "kernelspec": {
   "display_name": "Python 3",
   "language": "python",
   "name": "python3"
  },
  "language_info": {
   "codemirror_mode": {
    "name": "ipython",
    "version": 3
   },
   "file_extension": ".py",
   "mimetype": "text/x-python",
   "name": "python",
   "nbconvert_exporter": "python",
   "pygments_lexer": "ipython3",
   "version": "3.12.2"
  }
 },
 "nbformat": 4,
 "nbformat_minor": 4
}
