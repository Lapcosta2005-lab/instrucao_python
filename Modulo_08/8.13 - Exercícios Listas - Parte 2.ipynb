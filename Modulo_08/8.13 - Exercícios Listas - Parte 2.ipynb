{
 "cells": [
  {
   "cell_type": "markdown",
   "metadata": {},
   "source": [
    "# Exercícios\n",
    "\n",
    "## 1. Mudança de Carga Tributária\n",
    "\n",
    "- Reformas e mudanças de cargas tributárias são bem comuns no Brasil.\n",
    "\n",
    "Digamos que você trabalhe em uma empresa de ecommerce\n",
    "\n",
    "No Brasil, o imposto sobre livros é zerado. De um ano para o outro, o governo criou um novo imposto que incide em 10% sobre o valor dos livros e agora você precisa alterar o registro dos preços dos livros da empresa para garantir que esse imposto vai ser repassado para o preço final do produto.\n",
    "\n",
    "Crie um código que recalcule o valor do livro da sua lista de produtos e ajuste na tabela.\n",
    "\n",
    "Além disso, calcule qual vai ser o impacto financeiro da criação desse imposto para a empresa (ou seja, quanto que o imposto vai aumentar de custo para a empresa)\n",
    "\n",
    "Obs: para facilitar, colocamos apenas 1 livro na lista, mas em breve vamos aprender um for que vai adaptar esse cenário para qualquer quantidade de livros na sua lista.\n",
    "\n",
    "Obs2: Seu código deve funcionar mesmo que não haja livros na lista de produtos da empresa"
   ]
  },
  {
   "cell_type": "code",
   "execution_count": 23,
   "metadata": {},
   "outputs": [
    {
     "name": "stdout",
     "output_type": "stream",
     "text": [
      "1\n",
      "2000000\n",
      "44.0\n",
      "[[10000, 2500], [50000, 44.0], [7000, 1200], [20000, 1500], [5800, 1300], [7200, 2500], [200, 800], [3300, 700], [1900, 400]]\n",
      "2200000.0\n",
      "O total de imposto da venda de livro foi de R$200000.00\n"
     ]
    }
   ],
   "source": [
    "produtos = ['computador', 'livro', 'tablet', 'celular', 'tv', 'ar condicionado', 'alexa', 'máquina de café', 'kindle']\n",
    "\n",
    "#cada item da lista dos produtos corresponde a quantidade de vendas no mês e preço, nessa ordem\n",
    "produtos_ecommerce = [\n",
    "    [10000, 2500],\n",
    "    [50000, 40],\n",
    "    [7000, 1200],\n",
    "    [20000, 1500],\n",
    "    [5800, 1300],\n",
    "    [7200, 2500],\n",
    "    [200, 800],\n",
    "    [3300, 700],\n",
    "    [1900, 400]\n",
    "]\n",
    "\n",
    "\n",
    "if \"livro\" in produtos:\n",
    "    posicao_livro = produtos.index(\"livro\")\n",
    "    print(posicao_livro)\n",
    "    preco1 = produtos_ecommerce[posicao_livro][0] * produtos_ecommerce[posicao_livro][1]\n",
    "    print(preco1)\n",
    "    produtos_ecommerce[posicao_livro][1] += produtos_ecommerce[posicao_livro][1] * 0.1\n",
    "    print(produtos_ecommerce[posicao_livro][1])\n",
    "    print(produtos_ecommerce)\n",
    "    preco2 = produtos_ecommerce[posicao_livro][0] * produtos_ecommerce[posicao_livro][1]\n",
    "    print(preco2)\n",
    "    imposto = preco2 - preco1\n",
    "    print(f\"O total de imposto da venda de {produtos[posicao_livro]} foi de R${imposto:.2f}\")\n",
    "else:\n",
    "    print(f\"O produto procurado não está na lista\") \n",
    "\n",
    "\n"
   ]
  },
  {
   "cell_type": "markdown",
   "metadata": {},
   "source": [
    "Vamos fazer o mesmo exercício para, agora digitando o produto e o imposto."
   ]
  },
  {
   "cell_type": "code",
   "execution_count": 29,
   "metadata": {},
   "outputs": [
    {
     "name": "stdout",
     "output_type": "stream",
     "text": [
      "O faturamento do produto TV antes do aumento de imposto foi de R$7,540,000\n",
      "O faturamento do produto TV depois do aumento de imposto foi de R$15,080,000.0\n",
      "\n",
      "O imposto total a pagar do produto TV é de R$7540000.00\n"
     ]
    }
   ],
   "source": [
    "produto_procurado = input(\"Qual o produto você deseja? \").lower()\n",
    "\n",
    "if produto_procurado in produtos:\n",
    "    imposto_novo = float(input(f\"Qual o novo imposto do produto {produto_procurado}?\"))\n",
    "    posicao_produto_procurado = produtos.index(produto_procurado)\n",
    "    preco_antigo = produtos_ecommerce[posicao_produto_procurado][0] * produtos_ecommerce[posicao_produto_procurado][1]\n",
    "    print(f\"O faturamento do produto {produto_procurado.upper()} antes do aumento de imposto foi de R${preco_antigo:,}\")\n",
    "    produtos_ecommerce[posicao_produto_procurado][1] = produtos_ecommerce[posicao_produto_procurado][1] * (1 + imposto_novo / 100)\n",
    "    preco_novo = produtos_ecommerce[posicao_produto_procurado][0] * produtos_ecommerce[posicao_produto_procurado][1]\n",
    "    print(f\"O faturamento do produto {produto_procurado.upper()} depois do aumento de imposto foi de R${preco_novo:,}\\n\")\n",
    "    total_imposto = preco_novo - preco_antigo\n",
    "    print(f\"O imposto total a pagar do produto {produto_procurado.upper()} é de R${total_imposto:.2f}\")\n",
    "else:\n",
    "    print(f\"O produto procurado não está na lista\") "
   ]
  }
 ],
 "metadata": {
  "kernelspec": {
   "display_name": "Python 3",
   "language": "python",
   "name": "python3"
  },
  "language_info": {
   "codemirror_mode": {
    "name": "ipython",
    "version": 3
   },
   "file_extension": ".py",
   "mimetype": "text/x-python",
   "name": "python",
   "nbconvert_exporter": "python",
   "pygments_lexer": "ipython3",
   "version": "3.12.2"
  }
 },
 "nbformat": 4,
 "nbformat_minor": 4
}
