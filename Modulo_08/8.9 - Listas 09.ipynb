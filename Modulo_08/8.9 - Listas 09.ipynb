{
 "cells": [
  {
   "cell_type": "markdown",
   "metadata": {},
   "source": [
    "# Alterações de Variáveis\n",
    "\n",
    "Estrutura:\n",
    "\n",
    "- variavel = variavel + outro_valor\n",
    "\n",
    "ou então\n",
    "\n",
    "- variavel += outro_valor"
   ]
  },
  {
   "cell_type": "markdown",
   "metadata": {},
   "source": [
    "Exemplo: vamos adicionar às variáveis criadas o Produto IPad, 500 vendas"
   ]
  },
  {
   "cell_type": "code",
   "execution_count": null,
   "metadata": {},
   "outputs": [
    {
     "name": "stdout",
     "output_type": "stream",
     "text": [
      "['mac', 'iphone', 'ipad']\n",
      "['mac', 'iphone', 'ipad', 'ipod']\n",
      "Soma_vendas = 800\n",
      "Esse mês vendemos um total de 800 produtos, sendo:\n",
      "100 unidades de mac\n",
      "200 unidades de iphone\n",
      "300 unidades de ipad \n",
      "200 unidades de ipod\n"
     ]
    }
   ],
   "source": [
    "lista = ['mac', 'iphone']\n",
    "vendas = [100, 200]\n",
    "\n",
    "#adicionando IPad na lista\n",
    "lista.append(\"ipad\")\n",
    "print(lista)\n",
    "# ou\n",
    "lista = lista + [\"ipod\"]\n",
    "print(lista)\n",
    "\n",
    "\n",
    "soma_vendas = 300\n",
    "#adicionando na soma a quantidade de IPad\n",
    "soma_vendas = soma_vendas + 500\n",
    "# ou\n",
    "# soma_vendas += 500\n",
    "\n",
    "print(f\"Soma_vendas = {soma_vendas}\")\n",
    "\n",
    "\n",
    "email = 'Esse mês vendemos um total de {} produtos, sendo:\\n{} unidades de {}\\n{} unidades de {}'.format(soma_vendas, vendas[0], lista[0], vendas[1], lista[1])\n",
    "#adicionando no fim do texto o Ipad\n",
    "email = email + '\\n{} unidades de ipad \\n{} unidades de ipod'.format(300, 200)\n",
    "\n",
    "\n",
    "\n",
    "\n",
    "print(email)"
   ]
  },
  {
   "cell_type": "code",
   "execution_count": null,
   "metadata": {},
   "outputs": [],
   "source": []
  }
 ],
 "metadata": {
  "kernelspec": {
   "display_name": "Python 3",
   "language": "python",
   "name": "python3"
  },
  "language_info": {
   "codemirror_mode": {
    "name": "ipython",
    "version": 3
   },
   "file_extension": ".py",
   "mimetype": "text/x-python",
   "name": "python",
   "nbconvert_exporter": "python",
   "pygments_lexer": "ipython3",
   "version": "3.12.2"
  }
 },
 "nbformat": 4,
 "nbformat_minor": 4
}
