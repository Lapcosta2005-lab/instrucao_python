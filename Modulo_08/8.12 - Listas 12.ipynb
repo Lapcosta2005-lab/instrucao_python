{
 "cells": [
  {
   "cell_type": "markdown",
   "metadata": {},
   "source": [
    "# Listas de Listas\n",
    "\n",
    "### Estrutura:\n",
    "\n",
    "Cada item de uma lista pode ser qualquer tipo de variável. Inclusive, uma lista.\n",
    "\n",
    "Quando dentro de uma lista temos cada item como sendo uma outra lista, temos uma \"nested list\", ou seja, uma lista de listas.\n",
    "\n",
    "Todas as regras de lista e tudo que vimos até agora funciona exatamente igual, mas vamos ver como isso funciona na prática"
   ]
  },
  {
   "cell_type": "code",
   "execution_count": 42,
   "metadata": {},
   "outputs": [],
   "source": [
    "vendedores = ['Lira', 'João', 'Diego', 'Alon']\n",
    "produtos = ['ipad', 'iphone']\n",
    "vendas = [\n",
    "    [100, 200],\n",
    "    [300, 500],\n",
    "    [50, 1000],\n",
    "    [900, 10],\n",
    "]"
   ]
  },
  {
   "cell_type": "markdown",
   "metadata": {},
   "source": [
    "- Quanto João vendeu de IPad?\n",
    "- Quanto Diego vendeu de IPhone\n",
    "- Qual o total de vendas de IPhone?"
   ]
  },
  {
   "cell_type": "code",
   "execution_count": 43,
   "metadata": {},
   "outputs": [
    {
     "name": "stdout",
     "output_type": "stream",
     "text": [
      "1\n",
      "0\n",
      "João vendeu 300 ipad(s)\n",
      "Diego vendeu 1000 iphone(s)\n",
      "1710\n"
     ]
    }
   ],
   "source": [
    "indice_joao = vendedores.index(\"João\")\n",
    "print(indice_joao)\n",
    "indice_vendas_ipad = produtos.index('ipad')\n",
    "print(indice_vendas_ipad)\n",
    "\n",
    "vendas_ipad_joao = vendas[indice_joao][indice_vendas_ipad]\n",
    "\n",
    "print(f\"{vendedores[indice_joao]} vendeu {vendas_ipad_joao} {produtos[indice_vendas_ipad]}(s)\")\n",
    "\n",
    "indice_diego = vendedores.index(\"Diego\")\n",
    "indice_vendas_iphone = produtos.index('iphone')\n",
    "\n",
    "vendas_iphone_diego = vendas[indice_diego][indice_vendas_iphone]\n",
    "\n",
    "print(f\"{vendedores[indice_diego]} vendeu {vendas_iphone_diego} {produtos[indice_vendas_iphone]}(s)\")\n",
    "\n",
    "total_vendas_iphone = vendas[0][1] + vendas[1][1] + vendas[2][1] + vendas[3][1]\n",
    "print(total_vendas_iphone)"
   ]
  },
  {
   "cell_type": "markdown",
   "metadata": {},
   "source": [
    "- E se Lira na verdade fez apenas 50 vendas de IPhone, como eu modifico na minha lista o valor de vendas dele?"
   ]
  },
  {
   "cell_type": "code",
   "execution_count": 44,
   "metadata": {},
   "outputs": [
    {
     "name": "stdout",
     "output_type": "stream",
     "text": [
      "[[100, 200], [300, 500], [50, 250], [900, 10]]\n",
      "[[100, 200], [300, 500], [50, 250], [900, 10]]\n"
     ]
    }
   ],
   "source": [
    "vendas[2][1] = 250\n",
    "print(vendas)\n",
    "\n",
    "# ou\n",
    "\n",
    "vendas[indice_diego][indice_vendas_iphone] = 250\n",
    "print(vendas)"
   ]
  },
  {
   "cell_type": "markdown",
   "metadata": {},
   "source": [
    "- E se agora eu tenho um novo produto 'mac', como eu adiciono as vendas em cada um dos vendedores?"
   ]
  },
  {
   "cell_type": "code",
   "execution_count": 45,
   "metadata": {},
   "outputs": [
    {
     "name": "stdout",
     "output_type": "stream",
     "text": [
      "['ipad', 'iphone', 'macbook']\n",
      "[[100, 200, 10], [300, 500, 15], [50, 250, 6], [900, 10, 70]]\n"
     ]
    }
   ],
   "source": [
    "produtos.append(\"macbook\")\n",
    "print(produtos)\n",
    "\n",
    "vendas_mac = [10, 15, 6, 70]\n",
    "\n",
    "vendas[0].append(vendas_mac[0])\n",
    "vendas[1].append(vendas_mac[1])\n",
    "vendas[2].append(vendas_mac[2])\n",
    "vendas[3].append(vendas_mac[3])\n",
    "print(vendas)"
   ]
  }
 ],
 "metadata": {
  "kernelspec": {
   "display_name": "Python 3",
   "language": "python",
   "name": "python3"
  },
  "language_info": {
   "codemirror_mode": {
    "name": "ipython",
    "version": 3
   },
   "file_extension": ".py",
   "mimetype": "text/x-python",
   "name": "python",
   "nbconvert_exporter": "python",
   "pygments_lexer": "ipython3",
   "version": "3.11.2"
  }
 },
 "nbformat": 4,
 "nbformat_minor": 4
}
