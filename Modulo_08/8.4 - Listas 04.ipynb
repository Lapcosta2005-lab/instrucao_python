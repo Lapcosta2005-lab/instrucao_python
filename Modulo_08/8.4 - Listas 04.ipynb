{
 "cells": [
  {
   "cell_type": "markdown",
   "metadata": {},
   "source": [
    "# Adicionar e Remover itens de uma lista\n",
    "\n",
    "Adicionar:<br>\n",
    "lista.append(item)\n",
    "\n",
    "Remover:<br>\n",
    "item_removido = lista.pop(indice)<br>\n",
    "lista.remove(item)\n",
    "\n",
    "Digamos que você está construindo o controle de produtos da Apple.<br>\n",
    "E a Apple lançou o IPhone 11 e irá tirar dos seus estoques o IPhone X"
   ]
  },
  {
   "cell_type": "code",
   "execution_count": 27,
   "metadata": {},
   "outputs": [
    {
     "name": "stdout",
     "output_type": "stream",
     "text": [
      "['apple tv', 'mac', 'iphone x', 'IPad', 'apple watch', 'mac book', 'airpods']\n",
      "4\n",
      "['apple tv', 'mac', 'iphone x', 'IPad', 'ipod', 'mac book', 'airpods']\n",
      "['apple tv', 'mac', 'iphone x', 'IPad', 'ipod', 'mac book', 'airpods', 'iphone 11']\n",
      "Após remoção do item airpods pelo método lista.remove, os produtos são ['apple tv', 'mac', 'iphone x', 'IPad', 'ipod', 'mac book', 'iphone 11']\n",
      "O produto airpods não está lista\n"
     ]
    }
   ],
   "source": [
    "produtos = ['apple tv', 'mac', 'iphone x', 'IPad', 'apple watch', 'mac book', 'airpods']\n",
    "print(produtos)\n",
    "\n",
    "# Trocar apple watch por ipod:\n",
    "indice = produtos.index(\"apple watch\")\n",
    "print(indice)\n",
    "produtos[4] = \"ipod\"\n",
    "print(produtos)\n",
    "\n",
    "# Adicionar o iphone 11\n",
    "produtos.append(\"iphone 11\")\n",
    "print(produtos)\n",
    "\n",
    "\n",
    "# remover iphone x\n",
    "\n",
    "# método 1 (lista.remove)\n",
    "produto = input(\"Qual produto você deseja remover? \")\n",
    "\n",
    "if produto in produtos:\n",
    "    produtos.remove(produto)\n",
    "    print(f\"Após remoção do item {produto} pelo método lista.remove, os produtos são {produtos}\")\n",
    "else:\n",
    "    print(f\"O produto {produto} não está lista\")\n",
    "\n",
    "\n",
    "# método 2 (lista.pop)\n",
    "produto = input(\"Qual produto você deseja remover? \")\n",
    "\n",
    "if produto in produtos:\n",
    "    indice = produtos.index(produto)\n",
    "    print(indice)\n",
    "    item_removido = produtos.pop(indice)\n",
    "    print(produtos)\n",
    "    print(item_removido)\n",
    "else:\n",
    "    print(f\"O produto {produto} não está lista\")\n"
   ]
  },
  {
   "cell_type": "markdown",
   "metadata": {},
   "source": [
    "## Existem 2 formas de tratar o erro:\n",
    "\n",
    "1. Criar um if para evitar que ele aconteça\n",
    "\n",
    "2. Esperar que ele possa acontecer e tratar caso o erro aconteça com:"
   ]
  },
  {
   "cell_type": "raw",
   "metadata": {},
   "source": [
    "try:\n",
    "    tentar fazer\n",
    "except:\n",
    "    caso dê errado"
   ]
  },
  {
   "cell_type": "code",
   "execution_count": 28,
   "metadata": {},
   "outputs": [
    {
     "name": "stdout",
     "output_type": "stream",
     "text": [
      "Você removeu o produto mac da lista.\n",
      "Agora os produtos são: ['apple tv', 'iphone x', 'IPad', 'ipod', 'mac book', 'iphone 11']\n"
     ]
    }
   ],
   "source": [
    "remover = input(\"Qual produto você deseja remover? \")\n",
    "\n",
    "try:\n",
    "    produtos.remove(remover)\n",
    "    print(f\"Você removeu o produto {remover} da lista.\")\n",
    "    print(f\"Agora os produtos são: {produtos}\")\n",
    "          \n",
    "except:\n",
    "    print(f\"O produto {remover} não está lista\")"
   ]
  }
 ],
 "metadata": {
  "kernelspec": {
   "display_name": "Python 3",
   "language": "python",
   "name": "python3"
  },
  "language_info": {
   "codemirror_mode": {
    "name": "ipython",
    "version": 3
   },
   "file_extension": ".py",
   "mimetype": "text/x-python",
   "name": "python",
   "nbconvert_exporter": "python",
   "pygments_lexer": "ipython3",
   "version": "3.11.2"
  }
 },
 "nbformat": 4,
 "nbformat_minor": 4
}
