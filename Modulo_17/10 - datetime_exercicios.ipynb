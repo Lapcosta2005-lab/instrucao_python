{
 "cells": [
  {
   "cell_type": "markdown",
   "metadata": {},
   "source": [
    "## Oferecendo desconto para cliente com base na última compra\n",
    "\n",
    "Suponha que você está trabalhando para uma empresa que deseja rastrear a atividade do cliente. Uma métrica que eles estão interessados é o tempo que passou desde a última transação do cliente. Se for muito tempo, eles podem oferecer um desconto para o cliente. Crie um script Python que mostra quanto tempo se passou desde a última compra do cliente. Se faz mais de 30 dias, mostre uma mensagem oferecendo um desconto para o cliente."
   ]
  },
  {
   "cell_type": "code",
   "execution_count": 4,
   "metadata": {},
   "outputs": [
    {
     "name": "stdout",
     "output_type": "stream",
     "text": [
      "40 days, 13:47:10.957878\n",
      "40\n",
      "Como faz mais de 30 dias que você não compra em nossa loja, você ganhou um desconto de 10%\n"
     ]
    }
   ],
   "source": [
    "from datetime import datetime\n",
    "\n",
    "data_compra = datetime(2025, 5, 5)\n",
    "data_atual = datetime.now()\n",
    "\n",
    "diferenca = data_atual - data_compra\n",
    "print(diferenca)\n",
    "print(diferenca.days)\n",
    "\n",
    "if diferenca.days > 30:\n",
    "    print(\"Como faz mais de 30 dias que você não compra em nossa loja, você ganhou um desconto de 10%\")\n",
    "\n"
   ]
  },
  {
   "cell_type": "markdown",
   "metadata": {},
   "source": [
    "## Data e hora em diferentes fusos horários\n",
    "\n",
    "Uma empresa tem escritórios em São Paulo, Nova York e Tóquio. Crie um script Python que mostra a data e hora atuais nesses três fusos horários. Exiba, também, se estes escritórios estão abertos ou fechados (9h às 17h).\n"
   ]
  },
  {
   "cell_type": "code",
   "execution_count": 35,
   "metadata": {},
   "outputs": [
    {
     "name": "stdout",
     "output_type": "stream",
     "text": [
      "Data/hora atual em São Paulo: 2025-06-14 14:20:47.443065-03:00\n",
      "Data/hora atual em Nova York: 2025-06-14 13:20:47.443065-04:00\n",
      "Data/hora atual em Tóquio: 2025-06-15 02:20:47.443065+09:00\n"
     ]
    }
   ],
   "source": [
    "from datetime import datetime\n",
    "from zoneinfo import ZoneInfo\n",
    "\n",
    "data_hora_atual = datetime.now()\n",
    "\n",
    "fuso_horario_sao_paulo = ZoneInfo('America/Sao_Paulo')\n",
    "data_hora_sao_paulo = data_hora_atual.astimezone(fuso_horario_sao_paulo)\n",
    "\n",
    "fuso_horario_ny = ZoneInfo('America/New_York')\n",
    "data_hora_ny = data_hora_atual.astimezone(fuso_horario_ny)\n",
    "\n",
    "fuso_horario_tokyo = ZoneInfo('Asia/Tokyo')\n",
    "data_hora_tokyo = data_hora_atual.astimezone(fuso_horario_tokyo)\n",
    "\n",
    "print(f\"Data/hora atual em São Paulo: {data_hora_sao_paulo}\")\n",
    "print(f\"Data/hora atual em Nova York: {data_hora_ny}\")\n",
    "print(f\"Data/hora atual em Tóquio: {data_hora_tokyo}\")\n",
    "\n"
   ]
  },
  {
   "cell_type": "code",
   "execution_count": 36,
   "metadata": {},
   "outputs": [
    {
     "name": "stdout",
     "output_type": "stream",
     "text": [
      "O escritório de São Paulo está aberto.\n",
      "O escritório de Nova York está aberto.\n",
      "O escritório de Tóquio está fechado.\n"
     ]
    }
   ],
   "source": [
    "# Verificando se os escritórios estão abertos ou fechados\n",
    "\n",
    "\n",
    "def verifica_horario(data_hora):\n",
    "    if 9 <= data_hora.hour < 17:\n",
    "        return \"aberto\"\n",
    "    else:\n",
    "        return \"fechado\"\n",
    "\n",
    "\n",
    "print(f\"O escritório de São Paulo está {verifica_horario(data_hora_sao_paulo)}.\")\n",
    "print(f\"O escritório de Nova York está {verifica_horario(data_hora_ny)}.\")\n",
    "print(f\"O escritório de Tóquio está {verifica_horario(data_hora_tokyo)}.\")\n"
   ]
  }
 ],
 "metadata": {
  "kernelspec": {
   "display_name": "Python 3",
   "language": "python",
   "name": "python3"
  },
  "language_info": {
   "codemirror_mode": {
    "name": "ipython",
    "version": 3
   },
   "file_extension": ".py",
   "mimetype": "text/x-python",
   "name": "python",
   "nbconvert_exporter": "python",
   "pygments_lexer": "ipython3",
   "version": "3.12.2"
  }
 },
 "nbformat": 4,
 "nbformat_minor": 4
}
