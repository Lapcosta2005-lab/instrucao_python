{
 "cells": [
  {
   "cell_type": "markdown",
   "metadata": {},
   "source": [
    "## Tempo até o próximo ano\n",
    "\n",
    "Crie um script Python que calcula quantos dias, horas, minutos e segundos faltam até o próximo Ano Novo.\n",
    "\n"
   ]
  },
  {
   "cell_type": "markdown",
   "metadata": {
    "tags": []
   },
   "source": [
    "Lembrar da tupla de struct_time: https://docs.python.org/3/library/time.html#time.struct_time"
   ]
  },
  {
   "cell_type": "code",
   "execution_count": null,
   "metadata": {
    "tags": []
   },
   "outputs": [],
   "source": [
    "# lembrando\n",
    "\n",
    "segundos_por_minuto = 60\n",
    "segundos_por_hora = 60 * 60\n",
    "segundos_por_dia = 24 * 60 * 60\n",
    "\n",
    "print(f\"Segundos em um minuto: {segundos_por_minuto} s\")\n",
    "print(f\"Segundos em uma hora: {segundos_por_hora} s\")\n",
    "print(f\"Segundos em um dia: {segundos_por_dia} s\")"
   ]
  },
  {
   "cell_type": "markdown",
   "metadata": {
    "tags": []
   },
   "source": [
    "Lembrando de divisão:\n",
    "\n",
    "![divisao](https://escolaeducacao.com.br/wp-content/uploads/2020/01/algoritmo-divisao.png)"
   ]
  },
  {
   "cell_type": "code",
   "execution_count": 25,
   "metadata": {},
   "outputs": [
    {
     "name": "stdout",
     "output_type": "stream",
     "text": [
      "time.struct_time(tm_year=2025, tm_mon=6, tm_mday=13, tm_hour=15, tm_min=28, tm_sec=3, tm_wday=4, tm_yday=164, tm_isdst=0)\n",
      "1749839283.0\n",
      "1767236400.0\n",
      "17397117.0\n",
      "289951\n",
      "Tempo em segundos: 57.0\n",
      "Tempo em minutos: 31\n",
      "Tempo em horas: 8\n",
      "Tempo em dias: 201\n",
      "Faltam 201 dias, 8 horas, 31 minutos e 57.0 segundos para acabar o ano de 2025\n"
     ]
    }
   ],
   "source": [
    "import time\n",
    "import locale\n",
    "import sys\n",
    "\n",
    "# locale.setlocale(locale.LC_TIME, 'pt_BR.UTF-8') # Define apenas para data/hora\n",
    "locale.setlocale(locale.LC_ALL, 'pt_BR.UTF-8') # Define para todas as categorias\n",
    "\n",
    "tempo_atual = time.localtime()\n",
    "print(tempo_atual)\n",
    "tempo_atual_segundos = time.mktime(tempo_atual)\n",
    "print(tempo_atual_segundos)\n",
    "\n",
    "tempo_ano_novo = (tempo_atual.tm_year + 1, 1, 1, 0, 0, 0, 0, 0, 0)\n",
    "tempo_ano_novo_segundos = time.mktime(tempo_ano_novo)\n",
    "print(tempo_ano_novo_segundos)\n",
    "\n",
    "diferenca = tempo_ano_novo_segundos - tempo_atual_segundos\n",
    "print(diferenca)\n",
    "\n",
    "minutos = int(diferenca / 60)\n",
    "resto_minutos = diferenca % 60\n",
    "print(minutos)\n",
    "print(f\"Tempo em segundos: {resto_minutos}\")\n",
    "\n",
    "horas = int(minutos / 60)\n",
    "resto_horas = minutos % 60\n",
    "print(f\"Tempo em minutos: {resto_horas}\")\n",
    "\n",
    "dias = int(horas / 24)\n",
    "resto_dias = horas % 24\n",
    "print(f\"Tempo em horas: {resto_dias}\")\n",
    "print(f\"Tempo em dias: {dias}\")\n",
    "\n",
    "print(f\"Faltam {dias} dias, {resto_dias} horas, {resto_horas} minutos e {resto_minutos} segundos para acabar o ano de {tempo_atual.tm_year}\")\n",
    "\n",
    "\n"
   ]
  },
  {
   "cell_type": "code",
   "execution_count": 27,
   "metadata": {},
   "outputs": [
    {
     "name": "stdout",
     "output_type": "stream",
     "text": [
      "Faltam 967 dias, 8 horas, 28 minutos e 13.0 segundos para me aposentar\n"
     ]
    }
   ],
   "source": [
    "import time\n",
    "\n",
    "tempo_atual = time.localtime()\n",
    "tempo_atual_segundos = time.mktime(tempo_atual)\n",
    "\n",
    "tempo_aposentadoria = (2028, 2, 6, 0, 0, 0, 0, 0, 0)\n",
    "tempo_aposentadoria_segundos = time.mktime(tempo_aposentadoria)\n",
    "\n",
    "diferenca = tempo_aposentadoria_segundos - tempo_atual_segundos\n",
    "\n",
    "minutos = int(diferenca / 60)\n",
    "resto_minutos = diferenca % 60\n",
    "\n",
    "horas = int(minutos / 60)\n",
    "resto_horas = minutos % 60\n",
    "\n",
    "dias = int(horas / 24)\n",
    "resto_dias = horas % 24\n",
    "\n",
    "print(f\"Faltam {dias} dias, {resto_dias} horas, {resto_horas} minutos e {resto_minutos} segundos para me aposentar\")\n",
    "\n"
   ]
  }
 ],
 "metadata": {
  "kernelspec": {
   "display_name": "Python 3",
   "language": "python",
   "name": "python3"
  },
  "language_info": {
   "codemirror_mode": {
    "name": "ipython",
    "version": 3
   },
   "file_extension": ".py",
   "mimetype": "text/x-python",
   "name": "python",
   "nbconvert_exporter": "python",
   "pygments_lexer": "ipython3",
   "version": "3.12.2"
  }
 },
 "nbformat": 4,
 "nbformat_minor": 4
}
