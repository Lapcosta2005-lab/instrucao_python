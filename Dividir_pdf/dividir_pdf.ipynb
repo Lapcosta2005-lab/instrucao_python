{
 "cells": [
  {
   "cell_type": "code",
   "execution_count": 3,
   "id": "e56d68dd",
   "metadata": {},
   "outputs": [
    {
     "name": "stderr",
     "output_type": "stream",
     "text": [
      "<>:39: SyntaxWarning: invalid escape sequence '\\M'\n",
      "<>:39: SyntaxWarning: invalid escape sequence '\\M'\n",
      "C:\\Users\\SEINT-RS\\AppData\\Local\\Temp\\ipykernel_40012\\332919658.py:39: SyntaxWarning: invalid escape sequence '\\M'\n",
      "  caminho_do_pdf = \"G:\\Meu Drive\\Meu próprio Negócio\\Programação\\PYTHON\\Curso Python Impressionador\\Apostila Python\\Separada\\Apostila Python Impressionador - Mód 41 ao 57.pdf\"\n"
     ]
    },
    {
     "name": "stdout",
     "output_type": "stream",
     "text": [
      "Criado: G:\\Meu Drive\\Meu próprio Negócio\\Programação\\PYTHON\\Curso Python Impressionador\\Apostila Python\\Separada\\Apostila Python Impressionador - Mód 41 ao 57_parte_1.pdf\n",
      "Criado: G:\\Meu Drive\\Meu próprio Negócio\\Programação\\PYTHON\\Curso Python Impressionador\\Apostila Python\\Separada\\Apostila Python Impressionador - Mód 41 ao 57_parte_2.pdf\n",
      "Criado: G:\\Meu Drive\\Meu próprio Negócio\\Programação\\PYTHON\\Curso Python Impressionador\\Apostila Python\\Separada\\Apostila Python Impressionador - Mód 41 ao 57_parte_3.pdf\n",
      "Criado: G:\\Meu Drive\\Meu próprio Negócio\\Programação\\PYTHON\\Curso Python Impressionador\\Apostila Python\\Separada\\Apostila Python Impressionador - Mód 41 ao 57_parte_4.pdf\n"
     ]
    }
   ],
   "source": [
    "from pypdf import PdfReader, PdfWriter\n",
    "import os # Para manipular caminhos de arquivo, similar ao que foi visto no Módulo 26 [cite: 3198]\n",
    "\n",
    "def dividir_pdf(caminho_arquivo_original, paginas_por_parte):\n",
    "    \"\"\"\n",
    "    Divide um arquivo PDF em várias partes.\n",
    "\n",
    "    Args:\n",
    "        caminho_arquivo_original (str): O caminho completo para o arquivo PDF original.\n",
    "        paginas_por_parte (int): O número de páginas em cada parte dividida.\n",
    "    \"\"\"\n",
    "    try:\n",
    "        reader = PdfReader(caminho_arquivo_original)\n",
    "        num_paginas = len(reader.pages)\n",
    "        nome_base, extensao = os.path.splitext(caminho_arquivo_original)\n",
    "\n",
    "        for i in range(0, num_paginas, paginas_por_parte):\n",
    "            writer = PdfWriter()\n",
    "            # Adiciona as páginas à parte atual\n",
    "            for j in range(i, min(i + paginas_por_parte, num_paginas)):\n",
    "                writer.add_page(reader.pages[j])\n",
    "\n",
    "            # Define o nome do novo arquivo\n",
    "            nome_novo_arquivo = f\"{nome_base}_parte_{(i // paginas_por_parte) + 1}{extensao}\"\n",
    "\n",
    "            # Salva o novo arquivo\n",
    "            with open(nome_novo_arquivo, \"wb\") as output_pdf:\n",
    "                writer.write(output_pdf)\n",
    "            print(f\"Criado: {nome_novo_arquivo}\")\n",
    "\n",
    "    except Exception as e:\n",
    "        print(f\"Ocorreu um erro: {e}\")\n",
    "        # Aqui você poderia usar o tratamento de erros com try-except mais detalhado\n",
    "        # como visto no Módulo 14, se necessário [cite: 1513]\n",
    "\n",
    "# Exemplo de uso:\n",
    "# Supondo que você tenha um arquivo chamado 'meu_documento.pdf' na mesma pasta.\n",
    "# Você pode adaptá-lo ao conceito de caminho relativo/absoluto como visto no Módulo 26 [cite: 3215]\n",
    "caminho_do_pdf = \"G:\\Meu Drive\\Meu próprio Negócio\\Programação\\PYTHON\\Curso Python Impressionador\\Apostila Python\\Separada\\Apostila Python Impressionador - Mód 41 ao 57.pdf\"\n",
    "paginas = 500 # Dividir o PDF em partes de 2 páginas cada\n",
    "\n",
    "# Para que este exemplo funcione, você precisaria ter um arquivo PDF chamado 'meu_documento.pdf'\n",
    "# na mesma pasta onde o script Python está sendo executado.\n",
    "# Se o arquivo estiver em outro local, use o caminho completo, como no exemplo do Módulo 22[cite: 2127].\n",
    "dividir_pdf(caminho_do_pdf, paginas)"
   ]
  }
 ],
 "metadata": {
  "kernelspec": {
   "display_name": "Python 3",
   "language": "python",
   "name": "python3"
  },
  "language_info": {
   "codemirror_mode": {
    "name": "ipython",
    "version": 3
   },
   "file_extension": ".py",
   "mimetype": "text/x-python",
   "name": "python",
   "nbconvert_exporter": "python",
   "pygments_lexer": "ipython3",
   "version": "3.12.2"
  }
 },
 "nbformat": 4,
 "nbformat_minor": 5
}
