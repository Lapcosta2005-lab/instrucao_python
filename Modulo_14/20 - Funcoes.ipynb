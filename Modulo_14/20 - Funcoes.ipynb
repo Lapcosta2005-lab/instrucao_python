{
 "cells": [
  {
   "cell_type": "markdown",
   "id": "a2fee89b",
   "metadata": {},
   "source": [
    "### Forma de pensar"
   ]
  },
  {
   "cell_type": "code",
   "execution_count": null,
   "id": "1be9db7d",
   "metadata": {},
   "outputs": [],
   "source": [
    "# Top -> Down\n",
    "\n",
    "# Exemplo simples: atravessar a rua"
   ]
  },
  {
   "cell_type": "markdown",
   "id": "672e10e0",
   "metadata": {},
   "source": [
    "### Exemplo de Exercício do Curso"
   ]
  },
  {
   "cell_type": "markdown",
   "id": "fee80189",
   "metadata": {},
   "source": [
    "#### 23. Faça um Programa para uma loja de tintas. O programa deverá pedir o tamanho em metros quadrados da área a ser pintada. Considere que a cobertura da tinta é de 1 litro para cada 6 metros quadrados e que a tinta é vendida em latas de 18 litros, que custam R\\\\$ 80,00 ou em galões de 3,6 litros, que custam R\\\\$ 25,00."
   ]
  },
  {
   "cell_type": "code",
   "execution_count": 5,
   "id": "4499bb83",
   "metadata": {},
   "outputs": [
    {
     "name": "stdout",
     "output_type": "stream",
     "text": [
      "Latas 2\n",
      "Custo 160\n"
     ]
    }
   ],
   "source": [
    "# Descobrir quantas latas de tinta e qual o custo para pintar uma área\n",
    "    # Descobrir quantas latas de tinta\n",
    "        # Descobrir qual a área que o usuário vai pintar\n",
    "area = int(input(\"Escreva qual a área a ser pintada (m²):\"))\n",
    "        # Quantos litros de tinta vou precisar para essa área\n",
    "litros = area / 6\n",
    "        # Quantas latas eu preciso para chegar nessa quatnidade de tinta\n",
    "latas = litros / 18\n",
    "# 1.3\n",
    "# Se a parte inteira do numero de latas for menor do que o numero de latas\n",
    "    # eu preciso de mais 1 lata\n",
    "if latas > int(latas):\n",
    "    latas = int(latas) + 1\n",
    "    \n",
    "    # Calcular o custo das latas de tinta\n",
    "        # Quantidade de latas * preço da lata\n",
    "custo = latas * 80\n",
    "\n",
    "print(\"Latas\", latas)\n",
    "print(\"Custo\", custo)"
   ]
  },
  {
   "cell_type": "markdown",
   "id": "0d5fa10a",
   "metadata": {},
   "source": [
    "##### Informe ao usuário as quantidades de tinta a serem compradas e os respectivos preços em 3 situações.\n",
    "\n",
    "Dica: lembre dos operadores // e % mostrados em exercícios anteriores<br>\n",
    "Dica1: numero // 10 vai te dar como resposta a parte inteira da divisão do número por 10. Ex: 7 // 3 = 2; 10 // 3 = 3<br> \n",
    "Dica2: numero % 10 vai te dar o resto da divisão do número por 10. Ex: 7 % 3 = 1; 10 % 3 = 1; 15 % 3 = 0\n",
    "\n",
    "##### 1. Comprar apenas latas de 18 litros: (apenas latas inteiras)"
   ]
  },
  {
   "cell_type": "code",
   "execution_count": 2,
   "id": "bc38cdcd",
   "metadata": {},
   "outputs": [
    {
     "name": "stdout",
     "output_type": "stream",
     "text": [
      "Latas: 2\n",
      "Custo Total: R$ 160\n"
     ]
    }
   ],
   "source": [
    "import math\n",
    "\n",
    "def area_a_ser_pintada():\n",
    "    area = int(input(\"Escreva qual a área a ser pintada (m²): \"))\n",
    "    return area\n",
    "\n",
    "def calcular_litros_tinta(area):\n",
    "    litros = area / 6\n",
    "    return litros\n",
    "\n",
    "def calcular_latas_tinta(litros):\n",
    "    latas = math.ceil(litros / 18)  # Arredonda para cima\n",
    "    return latas\n",
    "\n",
    "def calcular_custo(latas):\n",
    "    custo = latas * 80\n",
    "    return custo\n",
    "\n",
    "area = area_a_ser_pintada()\n",
    "litros = calcular_litros_tinta(area)\n",
    "latas = calcular_latas_tinta(litros)\n",
    "custo = calcular_custo(latas)\n",
    "\n",
    "print(\"Latas:\", latas)\n",
    "print(\"Custo Total: R$\", custo)\n",
    "    "
   ]
  },
  {
   "cell_type": "markdown",
   "id": "15dc7322",
   "metadata": {},
   "source": [
    "##### 2. Comprar apenas galões de 3,6 litros: (apenas galoes inteiros)"
   ]
  },
  {
   "cell_type": "code",
   "execution_count": 6,
   "id": "6e0a01af",
   "metadata": {},
   "outputs": [
    {
     "name": "stdout",
     "output_type": "stream",
     "text": [
      "Latas: 1\n",
      "Custo Total: R$ 25\n"
     ]
    }
   ],
   "source": [
    "import math\n",
    "\n",
    "def area_a_ser_pintada():\n",
    "    area = int(input(\"Escreva qual a área a ser pintada (m²): \"))\n",
    "    return area\n",
    "\n",
    "def calcular_litros_tinta(area):\n",
    "    litros = area / 6\n",
    "    return litros\n",
    "\n",
    "def calcular_latas_tinta(litros):\n",
    "    latas = math.ceil(litros / 3.6)  # Arredonda para cima\n",
    "    return latas\n",
    "\n",
    "def calcular_custo(latas):\n",
    "    custo = latas * 25\n",
    "    return custo\n",
    "\n",
    "area = area_a_ser_pintada()\n",
    "litros = calcular_litros_tinta(area)\n",
    "latas = calcular_latas_tinta(litros)\n",
    "custo = calcular_custo(latas)\n",
    "\n",
    "print(\"Latas:\", latas)\n",
    "print(\"Custo Total: R$\", custo)"
   ]
  },
  {
   "cell_type": "markdown",
   "id": "35e0aa11",
   "metadata": {},
   "source": [
    "##### 3. Misturar latas e galões, de forma que o desperdício de tinta seja menor. Sempre arredonde os valores para cima, isto é, considere latas cheias."
   ]
  },
  {
   "cell_type": "markdown",
   "id": "95a3d342",
   "metadata": {},
   "source": [
    "O custo da lata é 80/18 = 4,44 R\\\\$/L\n",
    "\n",
    "O custo do galão é 25/3,6 = 6,94 R\\\\$/L\n",
    "\n",
    "A lata é mais econômica, então todas as latas inteiras que pudermos usar devemos comprar em latas. Se ficar faltando alguma coisa para completar devemos avaliar se é melhor comprar latas ou galões. Exemplo:\n",
    "\n",
    "Se queremos comprar 90 litros. 5 latas dão exatamente 90 litros. Então devemos comprar tudo em latas.\n",
    "\n",
    "Se queremos comprar 95 litros. 5 latas dão exatamente 90 litros. Então devemos comprar pelo menos 5 latas e avaliar o que falta, se estes últimos 5 litros valem mais apenas em latas ou galões.\n",
    "\n",
    "Para os 5 litros faltantes precisamos de 2 galões que custam 50 reais no total. Ou de uma lata que custa 80 reais no total. Portanto, neste caso vale mais a pena usar 2 galões.\n",
    "\n",
    "Se queremos comprar 107 litros. 5 latas dão exatamente 90 litros. Então devemos comprar pelo menos 5 latas e avaliar o que falta, se estes últimos 5 litros valem mais apenas em latas ou galões.\n",
    "\n",
    "Para os 17 litros faltantes precisamos de 5 galões que custam 125 reais no total. Ou de uma lata que custa 80 reais no total. Portanto, neste caso vale mais a pena usar uma lata.\n",
    "\n",
    "3 galões custam 75 reais, 4 galões custam 100 reais. Então, se for possível completar com até 3 galões escolhe-se galões. Qualquer quantidade maior que 3 galões, usa-se latas.\n",
    "\n",
    "Podemos ir ao exercício:"
   ]
  },
  {
   "cell_type": "code",
   "execution_count": 38,
   "id": "0e9847d9",
   "metadata": {},
   "outputs": [
    {
     "name": "stdout",
     "output_type": "stream",
     "text": [
      "Litros:  262.5\n",
      "Latas: 14.0\n",
      "Galões:  3\n",
      "Custo Total: R$1195.00\n"
     ]
    }
   ],
   "source": [
    "# O custo da lata é 80/18 = 4,44 R\\\\$/L\n",
    "# O custo do galão é 25/3,6 = 6,94 R\\\\$/L\n",
    "# Analisar se os litros faltantes é mais em conta comprar em latas ou galões\n",
    "    # Se 3 galões resultam em 75,00 (1 lata de 18lts = 80,00) e 10.8 litros, então, \n",
    "    # acima desta quantidade de litros sobrando, investir em lata.\n",
    "\n",
    "import math\n",
    "\n",
    "# Pegar a área a ser pintada\n",
    "def area_a_ser_pintada():\n",
    "    area = float(input(\"Escreva qual a área a ser pintada (m²): \"))\n",
    "    return area\n",
    "\n",
    "# Pegar quantos litros eu vou precisar de tinta\n",
    "def calcular_litros_tinta(area):\n",
    "    litros = area / 6\n",
    "    return litros\n",
    "\n",
    "# Calcular quantas latas e galões vou precisar\n",
    "    # Quantas latas interias eu vou precisar\n",
    "    # Quantos litros faltam\n",
    "        # Quanto custa preencher os litros com galão\n",
    "        # Quanto custa preencher os litros com lata\n",
    "        # Escolher a opção mais barata\n",
    "def calcular_latas_galoes_tinta(litros):\n",
    "    galoes = 0\n",
    "    latas = 0\n",
    "    if litros <= 10.8:\n",
    "        galoes = math.ceil(litros / 3.6)  # Arredonda para cima\n",
    "        latas = 0        \n",
    "    elif litros <= 18:\n",
    "        latas = 1\n",
    "        galoes = 0\n",
    "    else:\n",
    "        latas = litros //  18\n",
    "        resto_latas = litros % 18\n",
    "        if resto_latas <= 10.8:\n",
    "            galoes = math.ceil(resto_latas / 3.6)            \n",
    "        else:\n",
    "            latas += 1                   \n",
    "    return latas, galoes\n",
    "\n",
    "# Calcular o custo total\n",
    "def calcular_custo(latas, galoes):\n",
    "    custo_latas = latas * 80\n",
    "    custo_galoes = galoes * 25\n",
    "    custo = custo_latas + custo_galoes\n",
    "    return custo\n",
    "\n",
    "area = area_a_ser_pintada()\n",
    "litros = calcular_litros_tinta(area)\n",
    "latas, galoes = calcular_latas_galoes_tinta(litros)\n",
    "custo = calcular_custo(latas, galoes)\n",
    "\n",
    "print(\"Litros: \", litros)\n",
    "print(\"Latas:\", latas)\n",
    "print(\"Galões: \", galoes)\n",
    "print(f\"Custo Total: R${custo:.2f}\")"
   ]
  },
  {
   "cell_type": "code",
   "execution_count": null,
   "id": "4e4b363c",
   "metadata": {},
   "outputs": [],
   "source": []
  }
 ],
 "metadata": {
  "kernelspec": {
   "display_name": "Python 3",
   "language": "python",
   "name": "python3"
  },
  "language_info": {
   "codemirror_mode": {
    "name": "ipython",
    "version": 3
   },
   "file_extension": ".py",
   "mimetype": "text/x-python",
   "name": "python",
   "nbconvert_exporter": "python",
   "pygments_lexer": "ipython3",
   "version": "3.13.2"
  }
 },
 "nbformat": 4,
 "nbformat_minor": 5
}
