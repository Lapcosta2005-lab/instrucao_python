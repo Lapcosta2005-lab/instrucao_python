{
 "cells": [
  {
   "cell_type": "markdown",
   "metadata": {},
   "source": [
    "# Mais de 1 argumento e formas de passar argumento para uma função\n",
    "\n",
    "### Estrutura:\n",
    "\n",
    "- 2 formas de passar o argumento:\n",
    "    1. Em ordem (positional argument)\n",
    "    2. Com o nome do argumento (keyword argument)"
   ]
  },
  {
   "cell_type": "markdown",
   "metadata": {},
   "source": [
    "- Vamos mudar a função que fizemos na aula passada para conseguir categorizar qualquer tipo de bebida de acordo com o \"rótulo\" passado para a nsosa function. Basicamente nossa function agora tem que verificar se o produto é da categoria passada ou não."
   ]
  },
  {
   "cell_type": "code",
   "execution_count": null,
   "metadata": {},
   "outputs": [
    {
     "name": "stdout",
     "output_type": "stream",
     "text": [
      "Enviar CAR46275 para setor de bebidas consideradas refrigerantes\n",
      "Enviar TFA23962 para setor de bebidas alcóolicas\n",
      "Enviar TFA64715 para setor de bebidas alcóolicas\n",
      "Enviar TFA69555 para setor de bebidas alcóolicas\n",
      "Enviar TFA56743 para setor de bebidas alcóolicas\n",
      "Enviar BSA45510 para setor de bebidas energéticas\n",
      "Enviar TFA44968 para setor de bebidas alcóolicas\n",
      "Enviar CAR75448 para setor de bebidas consideradas refrigerantes\n",
      "Enviar CAR23596 para setor de bebidas consideradas refrigerantes\n",
      "Enviar CAR13490 para setor de bebidas consideradas refrigerantes\n",
      "Enviar BEB21365 para setor de bebidas consideradas água\n",
      "Enviar BEB31623 para setor de bebidas consideradas água\n",
      "Enviar BSA62419 para setor de bebidas energéticas\n",
      "Enviar BEB73344 para setor de bebidas consideradas água\n",
      "Enviar TFA20079 para setor de bebidas alcóolicas\n",
      "Enviar BEB80694 para setor de bebidas consideradas água\n",
      "Enviar BSA11769 para setor de bebidas energéticas\n",
      "Enviar BEB19495 para setor de bebidas consideradas água\n",
      "Enviar TFA14792 para setor de bebidas alcóolicas\n",
      "Enviar TFA78043 para setor de bebidas alcóolicas\n",
      "Enviar BSA33484 para setor de bebidas energéticas\n",
      "Enviar BEB97471 para setor de bebidas consideradas água\n",
      "Enviar BEB62362 para setor de bebidas consideradas água\n",
      "Enviar TFA27311 para setor de bebidas alcóolicas\n",
      "Enviar TFA17715 para setor de bebidas alcóolicas\n",
      "Enviar BEB85146 para setor de bebidas consideradas água\n",
      "Enviar BEB48898 para setor de bebidas consideradas água\n",
      "Enviar BEB79496 para setor de bebidas consideradas água\n",
      "Enviar CAR38417 para setor de bebidas consideradas refrigerantes\n",
      "Enviar TFA19947 para setor de bebidas alcóolicas\n",
      "Enviar TFA58799 para setor de bebidas alcóolicas\n",
      "Enviar CAR94811 para setor de bebidas consideradas refrigerantes\n",
      "Enviar BSA59251 para setor de bebidas energéticas\n",
      "Enviar BEB15385 para setor de bebidas consideradas água\n",
      "Enviar BEB24213 para setor de bebidas consideradas água\n",
      "Enviar BEB56262 para setor de bebidas consideradas água\n",
      "Enviar BSA96915 para setor de bebidas energéticas\n",
      "Enviar CAR53454 para setor de bebidas consideradas refrigerantes\n",
      "Enviar BEB75073 para setor de bebidas consideradas água\n"
     ]
    }
   ],
   "source": [
    "def eh_da_categoria(bebida, cod_categoria):\n",
    "    bebida = bebida.upper()\n",
    "    if cod_categoria in bebida:\n",
    "        return True\n",
    "    else:\n",
    "        return False\n",
    "\n",
    "\n",
    "produtos = ['CAR46275','TFA23962','TFA64715','TFA69555','TFA56743','BSA45510','TFA44968','CAR75448','CAR23596','CAR13490','BEB21365','BEB31623','BSA62419','BEB73344','TFA20079','BEB80694','BSA11769','BEB19495','TFA14792','TFA78043','BSA33484','BEB97471','BEB62362','TFA27311','TFA17715','BEB85146','BEB48898','BEB79496','CAR38417','TFA19947','TFA58799','CAR94811','BSA59251','BEB15385','BEB24213','BEB56262','BSA96915','CAR53454','BEB75073']\n",
    "\n",
    "for produto in produtos:\n",
    "    if eh_da_categoria(produto, 'TFA'): # Passado na ordem --> (produto, 'TFA') = (bebida, cod_categoria)\n",
    "    # if eh_da_categoria(cod_categoria = 'TFA', bebida = produto) --> dando o nome do parâmetro. Aí, não precisa estar em ordem.\n",
    "        print('Enviar {} para setor de bebidas alcóolicas'.format(produto))\n",
    "    elif eh_da_categoria(produto, 'CAR'):\n",
    "        print('Enviar {} para setor de bebidas consideradas refrigerantes'.format(produto))\n",
    "    elif eh_da_categoria(produto, 'BSA'):\n",
    "        print('Enviar {} para setor de bebidas energéticas'.format(produto))\n",
    "    elif eh_da_categoria(produto, 'BEB'):\n",
    "        print('Enviar {} para setor de bebidas consideradas água'.format(produto))\n",
    "\n",
    "\n"
   ]
  },
  {
   "cell_type": "code",
   "execution_count": 13,
   "metadata": {},
   "outputs": [
    {
     "name": "stdout",
     "output_type": "stream",
     "text": [
      "A quantidade de produtos é: 39\n",
      "A quantidade de produtos é:\n",
      "39\n"
     ]
    }
   ],
   "source": [
    "qtde_produtos = len(produtos)\n",
    "print(\"A quantidade de produtos é:\", qtde_produtos) # Verifique que após o primeiro argumento é colocado um espaço\n",
    "print(\"A quantidade de produtos é:\", qtde_produtos, sep = \"\\n\") # Com o sep = \"n\" é colocado o <enter> como separador"
   ]
  },
  {
   "cell_type": "markdown",
   "metadata": {},
   "source": [
    "## Obs Importante: Sua função deve estar SEMPRE antes de ser usada.\n",
    "\n",
    "- Normalmente, nos nossos códigos, fazemos as definições de todas as funções antes e depois construimos o resto do código.\n",
    "- É comum dar '2 enters' após a definição da função para deixar o código mais organizado\n"
   ]
  }
 ],
 "metadata": {
  "kernelspec": {
   "display_name": "Python 3",
   "language": "python",
   "name": "python3"
  },
  "language_info": {
   "codemirror_mode": {
    "name": "ipython",
    "version": 3
   },
   "file_extension": ".py",
   "mimetype": "text/x-python",
   "name": "python",
   "nbconvert_exporter": "python",
   "pygments_lexer": "ipython3",
   "version": "3.12.2"
  }
 },
 "nbformat": 4,
 "nbformat_minor": 4
}
