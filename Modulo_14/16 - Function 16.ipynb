{
 "cells": [
  {
   "cell_type": "markdown",
   "metadata": {},
   "source": [
    "# Quantidade Indefinidas de Argumentos\n",
    "\n",
    "### Utilidade:\n",
    "\n",
    "Quando você quer permitir uma quantidade indefinida de argumentos, usa o * para isso.\n",
    "\n",
    "### Estrutura:"
   ]
  },
  {
   "cell_type": "raw",
   "metadata": {},
   "source": [
    "*args para positional arguments -> argumentos vêm em formato de tupla\n",
    "\n",
    "def minha_funcao(*args):\n",
    "    ...\n",
    "\n",
    "\n",
    "**kwargs para keyword arguments -> argumentos vêm em formato de dicionário\n",
    "\n",
    "def minha_funcao(**kwargs):\n",
    "    ..."
   ]
  },
  {
   "cell_type": "code",
   "execution_count": null,
   "metadata": {},
   "outputs": [],
   "source": [
    "def minha_soma(*numeros):\n",
    "    print(numeros) # Retorna uma tupla\n",
    "    soma = 0\n",
    "    for numero in numeros:\n",
    "        soma += numero\n",
    "        print(soma) # Retorna a soma de cada for\n",
    "    return soma"
   ]
  },
  {
   "cell_type": "code",
   "execution_count": 7,
   "metadata": {},
   "outputs": [
    {
     "name": "stdout",
     "output_type": "stream",
     "text": [
      "(10, 13, 1, 10, 90, 0, 9, 8)\n",
      "10\n",
      "23\n",
      "24\n",
      "34\n",
      "124\n",
      "124\n",
      "133\n",
      "141\n",
      "141\n"
     ]
    }
   ],
   "source": [
    "print(minha_soma(10, 13, 1, 10, 90, 0, 9, 8))"
   ]
  },
  {
   "cell_type": "code",
   "execution_count": 23,
   "metadata": {},
   "outputs": [],
   "source": [
    "def salario_final(salario, **adicionais):\n",
    "    print(adicionais)\n",
    "    if 'desconto_inss' in adicionais:\n",
    "        salario *= (1 - adicionais['desconto_inss'])\n",
    "        print(salario)\n",
    "    if 'imposto_renda' in adicionais:\n",
    "        salario *= (1 - adicionais['imposto_renda']) \n",
    "        print(salario)\n",
    "    if 'sindicato' in adicionais:\n",
    "        salario -= adicionais['sindicato']\n",
    "        print(salario)\n",
    "    return salario"
   ]
  },
  {
   "cell_type": "code",
   "execution_count": 26,
   "metadata": {},
   "outputs": [
    {
     "name": "stdout",
     "output_type": "stream",
     "text": [
      "{'desconto_inss': 0.11, 'imposto_renda': 0.27, 'sindicato': 300}\n",
      "16910.0\n",
      "12344.3\n",
      "12044.3\n",
      "O salário final é de R$12044.30\n"
     ]
    }
   ],
   "source": [
    "print(f\"O salário final é de R${salario_final(19000, desconto_inss = 0.11, imposto_renda = 0.27, sindicato = 300):.2f}\")\n",
    "# 19000 é o salario.\n",
    "# 0.11, 0.27 e 300 são os adicionais desconto_inss e imposto_renda e sindicato que forma \n",
    "# 0 dicionário {'desconto_inss': 0.11, 'imposto_renda': 0.27, 'sindicato': 300} em **adicionais."
   ]
  }
 ],
 "metadata": {
  "kernelspec": {
   "display_name": "Python 3",
   "language": "python",
   "name": "python3"
  },
  "language_info": {
   "codemirror_mode": {
    "name": "ipython",
    "version": 3
   },
   "file_extension": ".py",
   "mimetype": "text/x-python",
   "name": "python",
   "nbconvert_exporter": "python",
   "pygments_lexer": "ipython3",
   "version": "3.13.2"
  }
 },
 "nbformat": 4,
 "nbformat_minor": 4
}
